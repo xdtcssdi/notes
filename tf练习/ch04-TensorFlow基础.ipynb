{
 "cells": [
  {
   "cell_type": "markdown",
   "metadata": {
    "collapsed": true
   },
   "source": [
    "# TensorFlow基础"
   ]
  },
  {
   "cell_type": "code",
   "execution_count": 1,
   "metadata": {},
   "outputs": [
    {
     "ename": "AssertionError",
     "evalue": "Not enough GPU hardware devices available",
     "output_type": "error",
     "traceback": [
      "\u001b[0;31m---------------------------------------------------------------------------\u001b[0m",
      "\u001b[0;31mAssertionError\u001b[0m                            Traceback (most recent call last)",
      "\u001b[0;32m<ipython-input-1-0fbc4a80b250>\u001b[0m in \u001b[0;36m<module>\u001b[0;34m\u001b[0m\n\u001b[1;32m      4\u001b[0m \u001b[0;34m\u001b[0m\u001b[0m\n\u001b[1;32m      5\u001b[0m \u001b[0mphysical_devices\u001b[0m \u001b[0;34m=\u001b[0m \u001b[0mtf\u001b[0m\u001b[0;34m.\u001b[0m\u001b[0mconfig\u001b[0m\u001b[0;34m.\u001b[0m\u001b[0mexperimental\u001b[0m\u001b[0;34m.\u001b[0m\u001b[0mlist_physical_devices\u001b[0m\u001b[0;34m(\u001b[0m\u001b[0;34m'GPU'\u001b[0m\u001b[0;34m)\u001b[0m\u001b[0;34m\u001b[0m\u001b[0;34m\u001b[0m\u001b[0m\n\u001b[0;32m----> 6\u001b[0;31m \u001b[0;32massert\u001b[0m \u001b[0mlen\u001b[0m\u001b[0;34m(\u001b[0m\u001b[0mphysical_devices\u001b[0m\u001b[0;34m)\u001b[0m \u001b[0;34m>\u001b[0m \u001b[0;36m0\u001b[0m\u001b[0;34m,\u001b[0m \u001b[0;34m\"Not enough GPU hardware devices available\"\u001b[0m\u001b[0;34m\u001b[0m\u001b[0;34m\u001b[0m\u001b[0m\n\u001b[0m\u001b[1;32m      7\u001b[0m \u001b[0mtf\u001b[0m\u001b[0;34m.\u001b[0m\u001b[0mconfig\u001b[0m\u001b[0;34m.\u001b[0m\u001b[0mexperimental\u001b[0m\u001b[0;34m.\u001b[0m\u001b[0mset_memory_growth\u001b[0m\u001b[0;34m(\u001b[0m\u001b[0mphysical_devices\u001b[0m\u001b[0;34m[\u001b[0m\u001b[0;36m0\u001b[0m\u001b[0;34m]\u001b[0m\u001b[0;34m,\u001b[0m \u001b[0;32mTrue\u001b[0m\u001b[0;34m)\u001b[0m\u001b[0;34m\u001b[0m\u001b[0;34m\u001b[0m\u001b[0m\n",
      "\u001b[0;31mAssertionError\u001b[0m: Not enough GPU hardware devices available"
     ]
    }
   ],
   "source": [
    "import tensorflow as tf\n",
    "import tensorflow.keras as keras\n",
    "import tensorflow.keras.layers as layers\n",
    "\n",
    "physical_devices = tf.config.experimental.list_physical_devices('GPU')\n",
    "assert len(physical_devices) > 0, \"Not enough GPU hardware devices available\"\n",
    "tf.config.experimental.set_memory_growth(physical_devices[0], True)"
   ]
  },
  {
   "cell_type": "markdown",
   "metadata": {},
   "source": [
    "## 数据类型\n",
    "\n",
    "### 数值类型\n",
    "\n",
    "标量在 TensorFlow 是如何创建的"
   ]
  },
  {
   "cell_type": "code",
   "execution_count": 2,
   "metadata": {},
   "outputs": [
    {
     "data": {
      "text/plain": [
       "(float, tensorflow.python.framework.ops.EagerTensor, True)"
      ]
     },
     "execution_count": 2,
     "metadata": {},
     "output_type": "execute_result"
    }
   ],
   "source": [
    "# python 语言方式创建标量\n",
    "a = 1.2 \n",
    "# TF 方式创建标量\n",
    "aa = tf.constant(1.2)\n",
    "\n",
    "type(a), type(aa), tf.is_tensor(aa)"
   ]
  },
  {
   "cell_type": "markdown",
   "metadata": {},
   "source": [
    "如果要使用 TensorFlow 提供的功能函数， 须通过 TensorFlow 规定的方式去创建张量，而不能使用 Python 语言的标准变量创建方式。"
   ]
  },
  {
   "cell_type": "code",
   "execution_count": 3,
   "metadata": {},
   "outputs": [
    {
     "data": {
      "text/plain": [
       "<tf.Tensor: shape=(3,), dtype=float32, numpy=array([1. , 2. , 3.3], dtype=float32)>"
      ]
     },
     "execution_count": 3,
     "metadata": {},
     "output_type": "execute_result"
    }
   ],
   "source": [
    "x = tf.constant([1,2.,3.3])\n",
    "# 打印 TF 张量的相关信息                \n",
    "x"
   ]
  },
  {
   "cell_type": "code",
   "execution_count": 4,
   "metadata": {},
   "outputs": [
    {
     "data": {
      "text/plain": [
       "array([1. , 2. , 3.3], dtype=float32)"
      ]
     },
     "execution_count": 4,
     "metadata": {},
     "output_type": "execute_result"
    }
   ],
   "source": [
    "# 将 TF 张量的数据导出为 numpy 数组格式\n",
    "x.numpy() "
   ]
  },
  {
   "cell_type": "markdown",
   "metadata": {},
   "source": [
    "与标量不同，向量的定义须通过 List 容器传给 tf.constant()函数。\n",
    "\n",
    "创建一个元素的向量："
   ]
  },
  {
   "cell_type": "code",
   "execution_count": 5,
   "metadata": {},
   "outputs": [
    {
     "data": {
      "text/plain": [
       "(<tf.Tensor: shape=(1,), dtype=float32, numpy=array([1.2], dtype=float32)>,\n",
       " TensorShape([1]))"
      ]
     },
     "execution_count": 5,
     "metadata": {},
     "output_type": "execute_result"
    }
   ],
   "source": [
    "# 创建一个元素的向量\n",
    "a = tf.constant([1.2]) \n",
    "a, a.shape"
   ]
  },
  {
   "cell_type": "markdown",
   "metadata": {},
   "source": [
    "创建 3 个元素的向量："
   ]
  },
  {
   "cell_type": "code",
   "execution_count": 6,
   "metadata": {},
   "outputs": [
    {
     "data": {
      "text/plain": [
       "(<tf.Tensor: shape=(3,), dtype=float32, numpy=array([1., 2., 3.], dtype=float32)>,\n",
       " TensorShape([3]))"
      ]
     },
     "execution_count": 6,
     "metadata": {},
     "output_type": "execute_result"
    }
   ],
   "source": [
    " # 创建 3 个元素的向量\n",
    "a = tf.constant([1,2, 3.])\n",
    "a, a.shape"
   ]
  },
  {
   "cell_type": "markdown",
   "metadata": {},
   "source": [
    "定义矩阵"
   ]
  },
  {
   "cell_type": "code",
   "execution_count": 7,
   "metadata": {},
   "outputs": [
    {
     "data": {
      "text/plain": [
       "(<tf.Tensor: shape=(2, 2), dtype=int32, numpy=\n",
       " array([[1, 2],\n",
       "        [3, 4]], dtype=int32)>,\n",
       " TensorShape([2, 2]))"
      ]
     },
     "execution_count": 7,
     "metadata": {},
     "output_type": "execute_result"
    }
   ],
   "source": [
    "# 创建 2 行 2 列的矩阵\n",
    "a = tf.constant([[1,2],[3,4]]) \n",
    "a, a.shape"
   ]
  },
  {
   "cell_type": "markdown",
   "metadata": {},
   "source": [
    "三维张量可以定义为："
   ]
  },
  {
   "cell_type": "code",
   "execution_count": 8,
   "metadata": {},
   "outputs": [
    {
     "data": {
      "text/plain": [
       "<tf.Tensor: shape=(2, 2, 2), dtype=int32, numpy=\n",
       "array([[[1, 2],\n",
       "        [3, 4]],\n",
       "\n",
       "       [[5, 6],\n",
       "        [7, 8]]], dtype=int32)>"
      ]
     },
     "execution_count": 8,
     "metadata": {},
     "output_type": "execute_result"
    }
   ],
   "source": [
    "# 创建 3 维张量\n",
    "tf.constant([[[1,2],[3,4]],[[5,6],[7,8]]]) "
   ]
  },
  {
   "cell_type": "markdown",
   "metadata": {},
   "source": [
    "通过传入字符串对象即可创建字符串类型的张量"
   ]
  },
  {
   "cell_type": "code",
   "execution_count": 9,
   "metadata": {},
   "outputs": [
    {
     "data": {
      "text/plain": [
       "<tf.Tensor: shape=(), dtype=string, numpy=b'Hello, Deep Learning.'>"
      ]
     },
     "execution_count": 9,
     "metadata": {},
     "output_type": "execute_result"
    }
   ],
   "source": [
    "# 创建字符串\n",
    "a = tf.constant('Hello, Deep Learning.') \n",
    "a"
   ]
  },
  {
   "cell_type": "markdown",
   "metadata": {},
   "source": [
    "### 字符串类型\n",
    "\n",
    "通过传入字符串对象即可创建字符串类型的张量"
   ]
  },
  {
   "cell_type": "code",
   "execution_count": 10,
   "metadata": {},
   "outputs": [
    {
     "data": {
      "text/plain": [
       "<tf.Tensor: shape=(), dtype=string, numpy=b'Hello, Deep Learning.'>"
      ]
     },
     "execution_count": 10,
     "metadata": {},
     "output_type": "execute_result"
    }
   ],
   "source": [
    "# 创建字符串\n",
    "a = tf.constant('Hello, Deep Learning.') \n",
    "a"
   ]
  },
  {
   "cell_type": "markdown",
   "metadata": {},
   "source": [
    "在 tf.strings 模块中，提供了常见的字符串类型的工具函数，如小写化 lower()、 拼接\n",
    "join()、 长度 length()、 切分 split()等。"
   ]
  },
  {
   "cell_type": "code",
   "execution_count": 11,
   "metadata": {},
   "outputs": [
    {
     "data": {
      "text/plain": [
       "<tf.Tensor: shape=(), dtype=string, numpy=b'hello, deep learning.'>"
      ]
     },
     "execution_count": 11,
     "metadata": {},
     "output_type": "execute_result"
    }
   ],
   "source": [
    "# 小写化字符串\n",
    "tf.strings.lower(a) "
   ]
  },
  {
   "cell_type": "markdown",
   "metadata": {},
   "source": [
    "### 布尔类型\n",
    "布尔类型的张量只需要传入 Python 语言的布尔类型数据，转换成 TensorFlow 内部布尔型即可。"
   ]
  },
  {
   "cell_type": "code",
   "execution_count": 12,
   "metadata": {},
   "outputs": [
    {
     "data": {
      "text/plain": [
       "<tf.Tensor: shape=(), dtype=bool, numpy=True>"
      ]
     },
     "execution_count": 12,
     "metadata": {},
     "output_type": "execute_result"
    }
   ],
   "source": [
    "# 创建布尔类型标量\n",
    "tf.constant(True) "
   ]
  },
  {
   "cell_type": "markdown",
   "metadata": {},
   "source": [
    "创建布尔类型的向量"
   ]
  },
  {
   "cell_type": "code",
   "execution_count": 13,
   "metadata": {},
   "outputs": [
    {
     "data": {
      "text/plain": [
       "<tf.Tensor: shape=(2,), dtype=bool, numpy=array([ True, False])>"
      ]
     },
     "execution_count": 13,
     "metadata": {},
     "output_type": "execute_result"
    }
   ],
   "source": [
    " # 创建布尔类型向量\n",
    "tf.constant([True, False])"
   ]
  },
  {
   "cell_type": "markdown",
   "metadata": {},
   "source": [
    "需要注意的是， TensorFlow 的布尔类型和 Python 语言的布尔类型并不等价，不能通用"
   ]
  },
  {
   "cell_type": "code",
   "execution_count": 14,
   "metadata": {},
   "outputs": [
    {
     "name": "stdout",
     "output_type": "stream",
     "text": [
      "False\n",
      "tf.Tensor(True, shape=(), dtype=bool)\n"
     ]
    }
   ],
   "source": [
    "# 创建 TF 布尔张量\n",
    "a = tf.constant(True) \n",
    "# TF 布尔类型张量与 python 布尔类型比较\n",
    "print(a is True) \n",
    "# 仅数值比较\n",
    "print(a == True) "
   ]
  },
  {
   "cell_type": "markdown",
   "metadata": {},
   "source": [
    "## 数值精度\n",
    "\n",
    "在创建张量时，可以指定张量的保存精度"
   ]
  },
  {
   "cell_type": "code",
   "execution_count": 15,
   "metadata": {},
   "outputs": [
    {
     "data": {
      "text/plain": [
       "<tf.Tensor: shape=(), dtype=int16, numpy=-13035>"
      ]
     },
     "execution_count": 15,
     "metadata": {},
     "output_type": "execute_result"
    }
   ],
   "source": [
    "# 创建指定精度的张量\n",
    "tf.constant(123456789, dtype=tf.int16)"
   ]
  },
  {
   "cell_type": "code",
   "execution_count": 16,
   "metadata": {},
   "outputs": [
    {
     "data": {
      "text/plain": [
       "<tf.Tensor: shape=(), dtype=int32, numpy=123456789>"
      ]
     },
     "execution_count": 16,
     "metadata": {},
     "output_type": "execute_result"
    }
   ],
   "source": [
    "tf.constant(123456789, dtype=tf.int32)"
   ]
  },
  {
   "cell_type": "markdown",
   "metadata": {},
   "source": [
    "对于浮点数， 高精度的张量可以表示更精准的数据，例如采用 tf.float32 精度保存π时，实际保存的数据为 3.1415927"
   ]
  },
  {
   "cell_type": "code",
   "execution_count": 17,
   "metadata": {},
   "outputs": [
    {
     "data": {
      "text/plain": [
       "<tf.Tensor: shape=(), dtype=float32, numpy=3.1415927>"
      ]
     },
     "execution_count": 17,
     "metadata": {},
     "output_type": "execute_result"
    }
   ],
   "source": [
    "import numpy as np\n",
    "# 从 numpy 中导入 pi 常量\n",
    "np.pi \n",
    "# 32 位\n",
    "tf.constant(np.pi, dtype=tf.float32) "
   ]
  },
  {
   "cell_type": "markdown",
   "metadata": {},
   "source": [
    "如果采用 tf.float64 精度保存π，则能获得更高的精度"
   ]
  },
  {
   "cell_type": "code",
   "execution_count": 18,
   "metadata": {},
   "outputs": [
    {
     "data": {
      "text/plain": [
       "<tf.Tensor: shape=(), dtype=float64, numpy=3.141592653589793>"
      ]
     },
     "execution_count": 18,
     "metadata": {},
     "output_type": "execute_result"
    }
   ],
   "source": [
    "tf.constant(np.pi, dtype=tf.float64) # 64 位"
   ]
  },
  {
   "cell_type": "markdown",
   "metadata": {},
   "source": [
    "### 读取精度\n",
    "\n",
    "通过访问张量的 dtype 成员属性可以判断张量的保存精度"
   ]
  },
  {
   "cell_type": "code",
   "execution_count": 19,
   "metadata": {},
   "outputs": [
    {
     "name": "stdout",
     "output_type": "stream",
     "text": [
      "before: <dtype: 'float16'>\n",
      "after : <dtype: 'float32'>\n"
     ]
    }
   ],
   "source": [
    "a = tf.constant(np.pi, dtype=tf.float16)\n",
    "\n",
    "# 读取原有张量的数值精度\n",
    "print('before:',a.dtype) \n",
    "# 如果精度不符合要求，则进行转换\n",
    "if a.dtype != tf.float32: \n",
    "    # tf.cast 函数可以完成精度转换\n",
    "    a = tf.cast(a,tf.float32) \n",
    "# 打印转换后的精度\n",
    "print('after :',a.dtype) "
   ]
  },
  {
   "cell_type": "markdown",
   "metadata": {},
   "source": [
    "### 类型转换\n",
    "系统的每个模块使用的数据类型、 数值精度可能各不相同， 对于不符合要求的张量的类型及精度， 需要通过 tf.cast 函数进行转换"
   ]
  },
  {
   "cell_type": "code",
   "execution_count": 20,
   "metadata": {},
   "outputs": [
    {
     "data": {
      "text/plain": [
       "<tf.Tensor: shape=(), dtype=float64, numpy=3.140625>"
      ]
     },
     "execution_count": 20,
     "metadata": {},
     "output_type": "execute_result"
    }
   ],
   "source": [
    "# 创建 tf.float16 低精度张量\n",
    "a = tf.constant(np.pi, dtype=tf.float16) \n",
    "# 转换为高精度张量\n",
    "tf.cast(a, tf.double) "
   ]
  },
  {
   "cell_type": "markdown",
   "metadata": {},
   "source": [
    "进行类型转换时，需要保证转换操作的合法性， 例如将高精度的张量转换为低精度的张量时，可能发生数据溢出隐患："
   ]
  },
  {
   "cell_type": "code",
   "execution_count": 21,
   "metadata": {},
   "outputs": [
    {
     "data": {
      "text/plain": [
       "<tf.Tensor: shape=(), dtype=int16, numpy=-13035>"
      ]
     },
     "execution_count": 21,
     "metadata": {},
     "output_type": "execute_result"
    }
   ],
   "source": [
    "a = tf.constant(123456789, dtype=tf.int32)\n",
    "# 转换为低精度整型\n",
    "tf.cast(a, tf.int16) "
   ]
  },
  {
   "cell_type": "markdown",
   "metadata": {},
   "source": [
    "布尔类型与整型之间相互转换也是合法的， 是比较常见的操作"
   ]
  },
  {
   "cell_type": "code",
   "execution_count": 22,
   "metadata": {},
   "outputs": [
    {
     "data": {
      "text/plain": [
       "<tf.Tensor: shape=(2,), dtype=int32, numpy=array([1, 0], dtype=int32)>"
      ]
     },
     "execution_count": 22,
     "metadata": {},
     "output_type": "execute_result"
    }
   ],
   "source": [
    "a = tf.constant([True, False])\n",
    "# 布尔类型转整型\n",
    "tf.cast(a, tf.int32) "
   ]
  },
  {
   "cell_type": "markdown",
   "metadata": {},
   "source": [
    "一般默认 0 表示 False， 1 表示 True，在 TensorFlow 中，将非 0 数字都视为 True，"
   ]
  },
  {
   "cell_type": "code",
   "execution_count": 23,
   "metadata": {},
   "outputs": [
    {
     "data": {
      "text/plain": [
       "<tf.Tensor: shape=(4,), dtype=bool, numpy=array([ True, False,  True,  True])>"
      ]
     },
     "execution_count": 23,
     "metadata": {},
     "output_type": "execute_result"
    }
   ],
   "source": [
    "a = tf.constant([-1, 0, 1, 2])\n",
    "# 整型转布尔类型\n",
    "tf.cast(a, tf.bool) "
   ]
  },
  {
   "cell_type": "markdown",
   "metadata": {},
   "source": [
    "## 待优化张量\n",
    "\n",
    "TensorFlow 增加了一种专门的数据类型来支持梯度信息的记录： tf.Variable。 tf.Variable 类型在普通的张量类型基础上添加了 name， trainable 等属性来支持计算图的构建。"
   ]
  },
  {
   "cell_type": "code",
   "execution_count": 24,
   "metadata": {},
   "outputs": [
    {
     "data": {
      "text/plain": [
       "('Variable:0', True)"
      ]
     },
     "execution_count": 24,
     "metadata": {},
     "output_type": "execute_result"
    }
   ],
   "source": [
    "# 创建 TF 张量\n",
    "a = tf.constant([-1, 0, 1, 2]) \n",
    "# 转换为 Variable 类型\n",
    "aa = tf.Variable(a) \n",
    "# Variable 类型张量的属性\n",
    "aa.name, aa.trainable "
   ]
  },
  {
   "cell_type": "markdown",
   "metadata": {},
   "source": [
    "name 属性用于命名计算图中的变量，这套命名体系是 TensorFlow 内部维护的， 一般不需要用户关注 name 属性；   \n",
    "trainable属性表征当前张量是否需要被优化，创建 Variable 对象时是默认启用优化标志，可以设置trainable=False 来设置张量不需要优化。"
   ]
  },
  {
   "cell_type": "code",
   "execution_count": 25,
   "metadata": {},
   "outputs": [
    {
     "data": {
      "text/plain": [
       "<tf.Variable 'Variable:0' shape=(2, 2) dtype=int32, numpy=\n",
       "array([[1, 2],\n",
       "       [3, 4]], dtype=int32)>"
      ]
     },
     "execution_count": 25,
     "metadata": {},
     "output_type": "execute_result"
    }
   ],
   "source": [
    "# 直接创建 Variable 张量\n",
    "tf.Variable([[1,2],[3,4]]) "
   ]
  },
  {
   "cell_type": "markdown",
   "metadata": {},
   "source": [
    "## 创建张量\n",
    "\n",
    "### 从数组、列表对象创建"
   ]
  },
  {
   "cell_type": "markdown",
   "metadata": {},
   "source": [
    "通过 tf.convert_to_tensor 函数可以创建新 Tensor，并将保存在 Python List 对象或者Numpy Array 对象中的数据导入到新 Tensor 中。"
   ]
  },
  {
   "cell_type": "code",
   "execution_count": 26,
   "metadata": {},
   "outputs": [
    {
     "data": {
      "text/plain": [
       "<tf.Tensor: shape=(2,), dtype=float32, numpy=array([1., 2.], dtype=float32)>"
      ]
     },
     "execution_count": 26,
     "metadata": {},
     "output_type": "execute_result"
    }
   ],
   "source": [
    "# 从列表创建张量\n",
    "tf.convert_to_tensor([1,2.]) "
   ]
  },
  {
   "cell_type": "code",
   "execution_count": 27,
   "metadata": {},
   "outputs": [
    {
     "data": {
      "text/plain": [
       "<tf.Tensor: shape=(2, 2), dtype=float64, numpy=\n",
       "array([[1., 2.],\n",
       "       [3., 4.]])>"
      ]
     },
     "execution_count": 27,
     "metadata": {},
     "output_type": "execute_result"
    }
   ],
   "source": [
    "# 从数组中创建张量\n",
    "tf.convert_to_tensor(np.array([[1,2.],[3,4]])) "
   ]
  },
  {
   "cell_type": "markdown",
   "metadata": {},
   "source": [
    "### 创建全0或全1张量"
   ]
  },
  {
   "cell_type": "code",
   "execution_count": 28,
   "metadata": {},
   "outputs": [
    {
     "data": {
      "text/plain": [
       "(<tf.Tensor: shape=(), dtype=float32, numpy=0.0>,\n",
       " <tf.Tensor: shape=(), dtype=float32, numpy=1.0>)"
      ]
     },
     "execution_count": 28,
     "metadata": {},
     "output_type": "execute_result"
    }
   ],
   "source": [
    "# 创建全 0，全 1 的标量\n",
    "tf.zeros([]),tf.ones([]) "
   ]
  },
  {
   "cell_type": "code",
   "execution_count": 29,
   "metadata": {},
   "outputs": [
    {
     "data": {
      "text/plain": [
       "(<tf.Tensor: shape=(1,), dtype=float32, numpy=array([0.], dtype=float32)>,\n",
       " <tf.Tensor: shape=(1,), dtype=float32, numpy=array([1.], dtype=float32)>)"
      ]
     },
     "execution_count": 29,
     "metadata": {},
     "output_type": "execute_result"
    }
   ],
   "source": [
    "# 创建全 0，全 1 的向量\n",
    "tf.zeros([1]),tf.ones([1]) "
   ]
  },
  {
   "cell_type": "markdown",
   "metadata": {},
   "source": [
    "创建全 0 的矩阵"
   ]
  },
  {
   "cell_type": "code",
   "execution_count": 30,
   "metadata": {},
   "outputs": [
    {
     "data": {
      "text/plain": [
       "<tf.Tensor: shape=(2, 2), dtype=float32, numpy=\n",
       "array([[0., 0.],\n",
       "       [0., 0.]], dtype=float32)>"
      ]
     },
     "execution_count": 30,
     "metadata": {},
     "output_type": "execute_result"
    }
   ],
   "source": [
    "# 创建全 0 矩阵，指定 shape 为 2 行 2 列\n",
    "tf.zeros([2,2]) "
   ]
  },
  {
   "cell_type": "markdown",
   "metadata": {},
   "source": [
    "创建全 1 的矩阵"
   ]
  },
  {
   "cell_type": "code",
   "execution_count": 31,
   "metadata": {},
   "outputs": [
    {
     "data": {
      "text/plain": [
       "<tf.Tensor: shape=(3, 2), dtype=float32, numpy=\n",
       "array([[1., 1.],\n",
       "       [1., 1.],\n",
       "       [1., 1.]], dtype=float32)>"
      ]
     },
     "execution_count": 31,
     "metadata": {},
     "output_type": "execute_result"
    }
   ],
   "source": [
    "# 创建全 1 矩阵，指定 shape 为 3 行 2 列\n",
    "tf.ones([3,2]) "
   ]
  },
  {
   "cell_type": "markdown",
   "metadata": {},
   "source": [
    "通过 tf.zeros_like, tf.ones_like 可以方便地新建与某个张量 shape 一致， 且内容为全 0 或全 1 的张量。"
   ]
  },
  {
   "cell_type": "code",
   "execution_count": 32,
   "metadata": {},
   "outputs": [
    {
     "data": {
      "text/plain": [
       "<tf.Tensor: shape=(2, 3), dtype=float32, numpy=\n",
       "array([[0., 0., 0.],\n",
       "       [0., 0., 0.]], dtype=float32)>"
      ]
     },
     "execution_count": 32,
     "metadata": {},
     "output_type": "execute_result"
    }
   ],
   "source": [
    "# 创建一个矩阵\n",
    "a = tf.ones([2,3]) \n",
    "# 创建一个与 a 形状相同，但是全 0 的新矩阵\n",
    "tf.zeros_like(a) "
   ]
  },
  {
   "cell_type": "markdown",
   "metadata": {},
   "source": [
    "创建与张量A形状一样的全 1 张量"
   ]
  },
  {
   "cell_type": "code",
   "execution_count": 33,
   "metadata": {},
   "outputs": [
    {
     "data": {
      "text/plain": [
       "<tf.Tensor: shape=(3, 2), dtype=float32, numpy=\n",
       "array([[1., 1.],\n",
       "       [1., 1.],\n",
       "       [1., 1.]], dtype=float32)>"
      ]
     },
     "execution_count": 33,
     "metadata": {},
     "output_type": "execute_result"
    }
   ],
   "source": [
    "# 创建一个矩阵\n",
    "a = tf.zeros([3,2]) \n",
    "# 创建一个与 a 形状相同，但是全 1 的新矩阵\n",
    "tf.ones_like(a) "
   ]
  },
  {
   "cell_type": "markdown",
   "metadata": {},
   "source": [
    "### 创建自定义数值张量\n",
    "\n",
    "通过 tf.fill(shape, value)可以创建全为自定义数值 value 的张量，形状由 shape 参数指定。"
   ]
  },
  {
   "cell_type": "code",
   "execution_count": 34,
   "metadata": {},
   "outputs": [
    {
     "data": {
      "text/plain": [
       "<tf.Tensor: shape=(), dtype=int32, numpy=-1>"
      ]
     },
     "execution_count": 34,
     "metadata": {},
     "output_type": "execute_result"
    }
   ],
   "source": [
    "# 创建-1 的标量\n",
    "tf.fill([], -1) "
   ]
  },
  {
   "cell_type": "code",
   "execution_count": 35,
   "metadata": {},
   "outputs": [
    {
     "data": {
      "text/plain": [
       "<tf.Tensor: shape=(1,), dtype=int32, numpy=array([-1], dtype=int32)>"
      ]
     },
     "execution_count": 35,
     "metadata": {},
     "output_type": "execute_result"
    }
   ],
   "source": [
    "# 创建-1 的向量\n",
    "tf.fill([1], -1) "
   ]
  },
  {
   "cell_type": "code",
   "execution_count": 36,
   "metadata": {},
   "outputs": [
    {
     "data": {
      "text/plain": [
       "<tf.Tensor: shape=(2, 2), dtype=int32, numpy=\n",
       "array([[99, 99],\n",
       "       [99, 99]], dtype=int32)>"
      ]
     },
     "execution_count": 36,
     "metadata": {},
     "output_type": "execute_result"
    }
   ],
   "source": [
    "# 创建 2 行 2 列，元素全为 99 的矩阵\n",
    "tf.fill([2,2], 99) "
   ]
  },
  {
   "cell_type": "markdown",
   "metadata": {},
   "source": [
    "### 创建已知分布的张量"
   ]
  },
  {
   "cell_type": "markdown",
   "metadata": {},
   "source": [
    "通过 tf.random.normal(shape, mean=0.0, stddev=1.0)可以创建形状为 shape，均值为mean，标准差为 stddev 的正态分布$\\mathcal{N}(mean, stddev^2)$。"
   ]
  },
  {
   "cell_type": "code",
   "execution_count": 37,
   "metadata": {},
   "outputs": [
    {
     "data": {
      "text/plain": [
       "<tf.Tensor: shape=(2, 2), dtype=float32, numpy=\n",
       "array([[ 0.48736426,  0.645211  ],\n",
       "       [-0.12243642,  0.4127124 ]], dtype=float32)>"
      ]
     },
     "execution_count": 37,
     "metadata": {},
     "output_type": "execute_result"
    }
   ],
   "source": [
    "# 创建标准正态分布的张量\n",
    "tf.random.normal([2,2]) "
   ]
  },
  {
   "cell_type": "code",
   "execution_count": 38,
   "metadata": {},
   "outputs": [
    {
     "data": {
      "text/plain": [
       "<tf.Tensor: shape=(2, 2), dtype=float32, numpy=\n",
       "array([[ 0.24305683,  0.4351629 ],\n",
       "       [ 3.4091017 , -3.9571514 ]], dtype=float32)>"
      ]
     },
     "execution_count": 38,
     "metadata": {},
     "output_type": "execute_result"
    }
   ],
   "source": [
    "# 创建均值为 1，标准差为 2 的正态分布的张量\n",
    "tf.random.normal([2,2], mean=1,stddev=2) "
   ]
  },
  {
   "cell_type": "markdown",
   "metadata": {},
   "source": [
    "通过 tf.random.uniform(shape, minval=0, maxval=None, dtype=tf.float32)可以创建采样自[minval, maxval)区间的均匀分布的张量"
   ]
  },
  {
   "cell_type": "code",
   "execution_count": 39,
   "metadata": {},
   "outputs": [
    {
     "data": {
      "text/plain": [
       "<tf.Tensor: shape=(3, 2), dtype=float32, numpy=\n",
       "array([[0.6089263 , 0.9299811 ],\n",
       "       [0.87149775, 0.12173331],\n",
       "       [0.66958237, 0.80959904]], dtype=float32)>"
      ]
     },
     "execution_count": 39,
     "metadata": {},
     "output_type": "execute_result"
    }
   ],
   "source": [
    "# 创建采样自[0,1)均匀分布的矩阵\n",
    "tf.random.uniform([3,2]) "
   ]
  },
  {
   "cell_type": "code",
   "execution_count": 40,
   "metadata": {},
   "outputs": [
    {
     "data": {
      "text/plain": [
       "<tf.Tensor: shape=(2, 2), dtype=float32, numpy=\n",
       "array([[1.3821423 , 8.786899  ],\n",
       "       [0.78760266, 2.5676322 ]], dtype=float32)>"
      ]
     },
     "execution_count": 40,
     "metadata": {},
     "output_type": "execute_result"
    }
   ],
   "source": [
    "# 创建采样自[0,10)均匀分布的矩阵\n",
    "tf.random.uniform([2,2],maxval=10) "
   ]
  },
  {
   "cell_type": "markdown",
   "metadata": {},
   "source": [
    "如果需要均匀采样整形类型的数据，必须指定采样区间的最大值 maxval 参数，同时指定数据类型为 tf.int*型"
   ]
  },
  {
   "cell_type": "code",
   "execution_count": 41,
   "metadata": {},
   "outputs": [
    {
     "data": {
      "text/plain": [
       "<tf.Tensor: shape=(2, 2), dtype=int32, numpy=\n",
       "array([[ 0, 42],\n",
       "       [ 5, 31]], dtype=int32)>"
      ]
     },
     "execution_count": 41,
     "metadata": {},
     "output_type": "execute_result"
    }
   ],
   "source": [
    "# 创建采样自[0,100)均匀分布的整型矩阵\n",
    "tf.random.uniform([2,2],maxval=100,dtype=tf.int32)"
   ]
  },
  {
   "cell_type": "markdown",
   "metadata": {},
   "source": [
    "### 创建序列\n",
    "\n",
    "tf.range(limit, delta=1)可以创建[0, limit)之间，步长为 delta 的整型序列，不包含 limit 本身。"
   ]
  },
  {
   "cell_type": "code",
   "execution_count": 42,
   "metadata": {},
   "outputs": [
    {
     "data": {
      "text/plain": [
       "<tf.Tensor: shape=(10,), dtype=int32, numpy=array([0, 1, 2, 3, 4, 5, 6, 7, 8, 9], dtype=int32)>"
      ]
     },
     "execution_count": 42,
     "metadata": {},
     "output_type": "execute_result"
    }
   ],
   "source": [
    "# 0~10，不包含 10\"\n",
    "tf.range(10) "
   ]
  },
  {
   "cell_type": "code",
   "execution_count": 43,
   "metadata": {},
   "outputs": [
    {
     "data": {
      "text/plain": [
       "<tf.Tensor: shape=(5,), dtype=int32, numpy=array([0, 2, 4, 6, 8], dtype=int32)>"
      ]
     },
     "execution_count": 43,
     "metadata": {},
     "output_type": "execute_result"
    }
   ],
   "source": [
    "# 创建 0~10，步长为 2 的整形序列\n",
    "tf.range(10,delta=2)"
   ]
  },
  {
   "cell_type": "code",
   "execution_count": 44,
   "metadata": {},
   "outputs": [
    {
     "data": {
      "text/plain": [
       "<tf.Tensor: shape=(5,), dtype=int32, numpy=array([1, 3, 5, 7, 9], dtype=int32)>"
      ]
     },
     "execution_count": 44,
     "metadata": {},
     "output_type": "execute_result"
    }
   ],
   "source": [
    "tf.range(1,10,delta=2) # 1~10"
   ]
  },
  {
   "cell_type": "markdown",
   "metadata": {},
   "source": [
    "## 张量的典型应用\n",
    "\n",
    "### 标量"
   ]
  },
  {
   "cell_type": "code",
   "execution_count": 45,
   "metadata": {},
   "outputs": [
    {
     "name": "stdout",
     "output_type": "stream",
     "text": [
      "tf.Tensor(0.3705839, shape=(), dtype=float32)\n"
     ]
    }
   ],
   "source": [
    "# 随机模拟网络输出\n",
    "out = tf.random.uniform([4,10]) \n",
    "# 随机构造样本真实标签\n",
    "y = tf.constant([2,3,2,0]) \n",
    "# one-hot 编码\n",
    "y = tf.one_hot(y, depth=10) \n",
    "# 计算每个样本的 MSE\n",
    "loss = tf.keras.losses.mse(y, out) \n",
    "# 平均 MSE,loss 应是标量\n",
    "loss = tf.reduce_mean(loss) \n",
    "print(loss)"
   ]
  },
  {
   "cell_type": "markdown",
   "metadata": {},
   "source": [
    "### 向量\n",
    "\n",
    "考虑 2 个输出节点的网络层， 我们创建长度为 2 的偏置向量b，并累加在每个输出节点上："
   ]
  },
  {
   "cell_type": "code",
   "execution_count": 46,
   "metadata": {},
   "outputs": [
    {
     "data": {
      "text/plain": [
       "<tf.Tensor: shape=(4, 2), dtype=float32, numpy=\n",
       "array([[-0.3556794 , -0.83190244],\n",
       "       [-1.89884   , -0.530538  ],\n",
       "       [-0.38140687, -2.3746252 ],\n",
       "       [ 0.972968  ,  0.8480576 ]], dtype=float32)>"
      ]
     },
     "execution_count": 46,
     "metadata": {},
     "output_type": "execute_result"
    }
   ],
   "source": [
    "# z=wx,模拟获得激活函数的输入 z\n",
    "z = tf.random.normal([4,2])\n",
    "# 创建偏置向量\n",
    "b = tf.zeros([2])\n",
    "# 累加上偏置向量\n",
    "z = z + b \n",
    "z"
   ]
  },
  {
   "cell_type": "markdown",
   "metadata": {},
   "source": [
    "创建输入节点数为 4，输出节点数为 3 的线性层网络，那么它的偏置向量 b 的长度应为 3"
   ]
  },
  {
   "cell_type": "code",
   "execution_count": 47,
   "metadata": {},
   "outputs": [
    {
     "data": {
      "text/plain": [
       "<tf.Variable 'bias:0' shape=(3,) dtype=float32, numpy=array([0., 0., 0.], dtype=float32)>"
      ]
     },
     "execution_count": 47,
     "metadata": {},
     "output_type": "execute_result"
    }
   ],
   "source": [
    "# 创建一层 Wx+b，输出节点为 3\n",
    "fc = tf.keras.layers.Dense(3) \n",
    "# 通过 build 函数创建 W,b 张量，输入节点为 4\n",
    "fc.build(input_shape=(2,4))\n",
    "# 查看偏置向量\n",
    "fc.bias "
   ]
  },
  {
   "cell_type": "markdown",
   "metadata": {},
   "source": [
    "### 矩阵"
   ]
  },
  {
   "cell_type": "code",
   "execution_count": 48,
   "metadata": {},
   "outputs": [
    {
     "data": {
      "text/plain": [
       "<tf.Tensor: shape=(2, 3), dtype=float32, numpy=\n",
       "array([[-1.1242722, -1.1242722, -1.1242722],\n",
       "       [ 1.3703425,  1.3703425,  1.3703425]], dtype=float32)>"
      ]
     },
     "execution_count": 48,
     "metadata": {},
     "output_type": "execute_result"
    }
   ],
   "source": [
    "# 2 个样本，特征长度为 4 的张量\n",
    "x = tf.random.normal([2,4]) \n",
    "# 定义 W 张量\n",
    "w = tf.ones([4,3])\n",
    "# 定义 b 张量\n",
    "b = tf.zeros([3]) \n",
    "# X@W+b 运算\n",
    "o = x@w+b \n",
    "o"
   ]
  },
  {
   "cell_type": "code",
   "execution_count": 49,
   "metadata": {},
   "outputs": [
    {
     "data": {
      "text/plain": [
       "<tf.Variable 'kernel:0' shape=(4, 3) dtype=float32, numpy=\n",
       "array([[-0.28908986, -0.6751812 ,  0.32318032],\n",
       "       [ 0.48651385, -0.42769876, -0.2652958 ],\n",
       "       [ 0.6118082 , -0.37406206,  0.6344675 ],\n",
       "       [ 0.71607816, -0.07635009, -0.1615203 ]], dtype=float32)>"
      ]
     },
     "execution_count": 49,
     "metadata": {},
     "output_type": "execute_result"
    }
   ],
   "source": [
    "# 定义全连接层的输出节点为 3\n",
    "fc = tf.keras.layers.Dense(3) \n",
    "# 定义全连接层的输入节点为 4\n",
    "fc.build(input_shape=(2,4)) \n",
    "# 查看权值矩阵 W\n",
    "fc.kernel "
   ]
  },
  {
   "cell_type": "markdown",
   "metadata": {},
   "source": [
    "### 三维张量"
   ]
  },
  {
   "cell_type": "code",
   "execution_count": 50,
   "metadata": {},
   "outputs": [],
   "source": [
    "import ssl\n",
    "\n",
    "try:\n",
    "    _create_unverified_https_context = ssl._create_unverified_context\n",
    "except AttributeError:\n",
    "    # Legacy Python that doesn't verify HTTPS certificates by default\n",
    "    pass\n",
    "else:\n",
    "    # Handle target environment that doesn't support HTTPS verification\n",
    "    ssl._create_default_https_context = _create_unverified_https_context"
   ]
  },
  {
   "cell_type": "code",
   "execution_count": 51,
   "metadata": {},
   "outputs": [
    {
     "name": "stdout",
     "output_type": "stream",
     "text": [
      "A local file was found, but it seems to be incomplete or outdated because the auto file hash does not match the original value of 69664113be75683a8fe16e3ed0ab59fda8886cb3cd7ada244f7d9544e4676b9f so we will re-download the data.\n",
      "Downloading data from https://storage.googleapis.com/tensorflow/tf-keras-datasets/imdb.npz\n",
      "17465344/17464789 [==============================] - 10s 1us/step\n"
     ]
    },
    {
     "data": {
      "text/plain": [
       "(25000, 80)"
      ]
     },
     "execution_count": 51,
     "metadata": {},
     "output_type": "execute_result"
    }
   ],
   "source": [
    "# 自动加载 IMDB 电影评价数据集\n",
    "(x_train,y_train),(x_test,y_test)=keras.datasets.imdb.load_data(num_words=10000)\n",
    "# 将句子填充、截断为等长 80 个单词的句子\n",
    "x_train = keras.preprocessing.sequence.pad_sequences(x_train,maxlen=80)\n",
    "x_train.shape"
   ]
  },
  {
   "cell_type": "markdown",
   "metadata": {},
   "source": [
    "可以看到 x_train 张量的 shape 为[25000,80]，其中 25000 表示句子个数， 80 表示每个句子共 80 个单词，每个单词使用数字编码方式表示。\n",
    "\n",
    "我们通过 layers.Embedding 层将数字编码的单词转换为长度为 100 个词向量："
   ]
  },
  {
   "cell_type": "code",
   "execution_count": 52,
   "metadata": {},
   "outputs": [
    {
     "data": {
      "text/plain": [
       "TensorShape([25000, 80, 100])"
      ]
     },
     "execution_count": 52,
     "metadata": {},
     "output_type": "execute_result"
    }
   ],
   "source": [
    "# 创建词向量 Embedding 层类\n",
    "embedding = tf.keras.layers.Embedding(10000, 100)\n",
    "# 将数字编码的单词转换为词向量\n",
    "out = embedding(x_train)\n",
    "out.shape"
   ]
  },
  {
   "cell_type": "markdown",
   "metadata": {},
   "source": [
    "可以看到，经过 Embedding 层编码后，句子张量的 shape 变为[25000,80,100]，其中 100 表示每个单词编码为长度是 100 的向量。"
   ]
  },
  {
   "cell_type": "markdown",
   "metadata": {},
   "source": [
    "### 四维张量"
   ]
  },
  {
   "cell_type": "code",
   "execution_count": 53,
   "metadata": {
    "scrolled": false
   },
   "outputs": [
    {
     "data": {
      "text/plain": [
       "TensorShape([4, 30, 30, 16])"
      ]
     },
     "execution_count": 53,
     "metadata": {},
     "output_type": "execute_result"
    }
   ],
   "source": [
    "# 创建 32x32 的彩色图片输入，个数为 4\n",
    "x = tf.random.normal([4,32,32,3])\n",
    "# 创建卷积神经网络\n",
    "layer = layers.Conv2D(16, kernel_size=3)\n",
    "# 前向计算\n",
    "out = layer(x) \n",
    "# 输出大小\n",
    "out.shape "
   ]
  },
  {
   "cell_type": "code",
   "execution_count": 54,
   "metadata": {},
   "outputs": [
    {
     "data": {
      "text/plain": [
       "TensorShape([3, 3, 3, 16])"
      ]
     },
     "execution_count": 54,
     "metadata": {},
     "output_type": "execute_result"
    }
   ],
   "source": [
    "# 访问卷积核张量\n",
    "layer.kernel.shape "
   ]
  },
  {
   "cell_type": "markdown",
   "metadata": {},
   "source": [
    "## 索引与切片\n",
    "### 索引"
   ]
  },
  {
   "cell_type": "code",
   "execution_count": 55,
   "metadata": {},
   "outputs": [],
   "source": [
    "# 创建4维张量\n",
    "x = tf.random.normal([4,32,32,3]) "
   ]
  },
  {
   "cell_type": "code",
   "execution_count": 56,
   "metadata": {
    "scrolled": true
   },
   "outputs": [
    {
     "data": {
      "text/plain": [
       "<tf.Tensor: shape=(32, 32, 3), dtype=float32, numpy=\n",
       "array([[[ 7.4660081e-01, -1.1094991e+00, -3.2261707e-02],\n",
       "        [-1.0461559e+00,  8.8454258e-01,  2.2186189e+00],\n",
       "        [ 6.8198425e-01,  1.2603869e-01, -8.6598372e-01],\n",
       "        ...,\n",
       "        [-3.8362366e-01, -1.5416192e-01,  8.2705820e-01],\n",
       "        [ 4.7519851e-01, -1.0252391e+00,  9.4629353e-01],\n",
       "        [-9.7652981e-03, -7.8386223e-01,  1.2128164e+00]],\n",
       "\n",
       "       [[-9.0167129e-01, -2.0572738e-01,  9.0411580e-01],\n",
       "        [-1.8202323e-01,  7.7934104e-01, -1.3951445e-01],\n",
       "        [ 5.3466493e-01,  5.2313799e-01,  1.0881571e+00],\n",
       "        ...,\n",
       "        [ 1.9915401e+00,  9.8662215e-01, -2.3829716e-01],\n",
       "        [-4.5485920e-01,  7.9347795e-01,  8.0360961e-01],\n",
       "        [ 6.0904812e-02,  7.8732967e-01, -1.0572485e+00]],\n",
       "\n",
       "       [[-1.2777422e-01,  4.7567341e-01,  1.7965610e+00],\n",
       "        [-1.3153278e+00,  2.0452678e+00, -4.4767901e-01],\n",
       "        [-1.1307126e+00,  1.0279242e+00, -9.6881622e-01],\n",
       "        ...,\n",
       "        [-2.2218683e-01,  5.8364384e-02,  6.4864063e-01],\n",
       "        [-1.0013058e-03, -9.3549484e-01, -9.8167133e-01],\n",
       "        [-1.3972228e+00, -1.0468752e+00, -1.0174829e-01]],\n",
       "\n",
       "       ...,\n",
       "\n",
       "       [[ 6.1216265e-01, -6.1991364e-01,  1.0902253e-01],\n",
       "        [ 7.6106107e-01, -2.9667738e-01,  6.9673397e-02],\n",
       "        [ 1.5506325e+00,  5.7773724e-02, -1.8796894e-01],\n",
       "        ...,\n",
       "        [-1.1380377e+00, -1.5517091e+00,  9.1876465e-01],\n",
       "        [ 1.2701770e+00,  2.3546083e-01, -1.3107130e-01],\n",
       "        [-1.1199950e+00,  1.2674618e+00,  5.8035648e-01]],\n",
       "\n",
       "       [[-2.8507174e-03,  1.2810901e+00, -1.1349009e+00],\n",
       "        [ 2.9831219e-01, -2.3476514e-01, -1.0273361e+00],\n",
       "        [-2.7595353e-01, -4.1754909e-02,  8.3331758e-01],\n",
       "        ...,\n",
       "        [-1.6655104e+00, -3.2230800e-01,  3.8127318e-01],\n",
       "        [ 1.8660835e+00, -8.6767185e-01,  1.7461994e+00],\n",
       "        [ 7.7170826e-02,  9.3293679e-01,  1.0662982e+00]],\n",
       "\n",
       "       [[ 9.4708127e-01, -2.2742906e-01, -6.6844314e-02],\n",
       "        [ 5.3826118e-01, -9.0396099e-02,  2.1581512e-02],\n",
       "        [-1.6524342e+00,  8.0470240e-01, -3.2264227e-01],\n",
       "        ...,\n",
       "        [ 5.1193774e-01,  8.7286657e-01,  9.3046594e-01],\n",
       "        [-1.3890386e+00,  6.9885606e-01, -1.9416161e-01],\n",
       "        [ 4.6219274e-02,  1.2503415e+00,  1.2680752e+00]]], dtype=float32)>"
      ]
     },
     "execution_count": 56,
     "metadata": {},
     "output_type": "execute_result"
    }
   ],
   "source": [
    "# 取第 1 张图片的数据\n",
    "x[0]"
   ]
  },
  {
   "cell_type": "code",
   "execution_count": 57,
   "metadata": {
    "scrolled": true
   },
   "outputs": [
    {
     "data": {
      "text/plain": [
       "<tf.Tensor: shape=(32, 3), dtype=float32, numpy=\n",
       "array([[-0.9016713 , -0.20572738,  0.9041158 ],\n",
       "       [-0.18202323,  0.77934104, -0.13951445],\n",
       "       [ 0.5346649 ,  0.523138  ,  1.088157  ],\n",
       "       [ 0.2100436 ,  0.30272606,  1.100766  ],\n",
       "       [-0.32234076, -0.34431747,  0.77528363],\n",
       "       [ 0.16564019, -0.50374323,  0.28424522],\n",
       "       [-1.015189  ,  1.8531388 ,  0.14593253],\n",
       "       [-0.03974164,  0.29721963,  0.5245213 ],\n",
       "       [-1.0736302 ,  2.2461    ,  1.9197271 ],\n",
       "       [ 0.63502795,  1.263226  ,  0.430934  ],\n",
       "       [ 0.74771607,  0.7304392 ,  0.85152775],\n",
       "       [-0.98306036,  0.55333596,  0.07340608],\n",
       "       [ 0.19449686,  1.1404476 , -2.5735798 ],\n",
       "       [ 1.3443837 ,  0.3320094 , -0.62102854],\n",
       "       [-0.58113956, -0.17200172,  0.24772796],\n",
       "       [ 1.5520612 ,  0.681254  ,  0.84012115],\n",
       "       [ 0.4892813 , -1.8741418 , -0.6773926 ],\n",
       "       [ 0.39462358, -1.1309992 ,  0.26329702],\n",
       "       [-1.7057981 ,  1.2765083 ,  0.42495438],\n",
       "       [ 0.45869616, -0.60959345,  0.59007674],\n",
       "       [-1.55206   , -0.10432068, -0.268973  ],\n",
       "       [ 0.71875054,  0.76945806,  0.89689285],\n",
       "       [ 1.4426978 ,  0.13795169, -0.5375936 ],\n",
       "       [-0.06665374,  1.2252252 , -0.06975704],\n",
       "       [ 1.4006553 , -0.559294  , -1.0537343 ],\n",
       "       [ 0.98317295,  0.6394974 ,  0.7663133 ],\n",
       "       [-0.85498136, -0.0717658 ,  0.24831322],\n",
       "       [-0.0884654 ,  1.2899686 , -0.06006597],\n",
       "       [-1.0289094 , -0.8331538 ,  0.95044684],\n",
       "       [ 1.9915401 ,  0.98662215, -0.23829716],\n",
       "       [-0.4548592 ,  0.79347795,  0.8036096 ],\n",
       "       [ 0.06090481,  0.7873297 , -1.0572485 ]], dtype=float32)>"
      ]
     },
     "execution_count": 57,
     "metadata": {},
     "output_type": "execute_result"
    }
   ],
   "source": [
    "# 取第 1 张图片的第 2 行\n",
    "x[0][1]"
   ]
  },
  {
   "cell_type": "code",
   "execution_count": 58,
   "metadata": {},
   "outputs": [
    {
     "data": {
      "text/plain": [
       "<tf.Tensor: shape=(3,), dtype=float32, numpy=array([0.5346649, 0.523138 , 1.088157 ], dtype=float32)>"
      ]
     },
     "execution_count": 58,
     "metadata": {},
     "output_type": "execute_result"
    }
   ],
   "source": [
    "# 取第 1 张图片，第 2 行，第 3 列的数据\n",
    "x[0][1][2]"
   ]
  },
  {
   "cell_type": "code",
   "execution_count": 59,
   "metadata": {},
   "outputs": [
    {
     "data": {
      "text/plain": [
       "<tf.Tensor: shape=(), dtype=float32, numpy=0.5372153>"
      ]
     },
     "execution_count": 59,
     "metadata": {},
     "output_type": "execute_result"
    }
   ],
   "source": [
    "# 取第 3 张图片，第 2 行，第 1 列的像素， B 通道(第 2 个通道)颜色强度值\n",
    "x[2][1][0][1]"
   ]
  },
  {
   "cell_type": "code",
   "execution_count": 60,
   "metadata": {},
   "outputs": [
    {
     "data": {
      "text/plain": [
       "<tf.Tensor: shape=(3,), dtype=float32, numpy=array([-0.7395669 ,  0.08174109,  2.1108642 ], dtype=float32)>"
      ]
     },
     "execution_count": 60,
     "metadata": {},
     "output_type": "execute_result"
    }
   ],
   "source": [
    "# 取第 2 张图片，第 10 行，第 3 列的数据\n",
    "x[1,9,2]"
   ]
  },
  {
   "cell_type": "markdown",
   "metadata": {},
   "source": [
    "### 切片"
   ]
  },
  {
   "cell_type": "code",
   "execution_count": 61,
   "metadata": {
    "scrolled": true
   },
   "outputs": [
    {
     "data": {
      "text/plain": [
       "<tf.Tensor: shape=(2, 32, 32, 3), dtype=float32, numpy=\n",
       "array([[[[-0.83964074,  0.16926038,  0.49103218],\n",
       "         [-0.06293206, -0.6084627 ,  1.2407821 ],\n",
       "         [ 0.27511042, -1.731632  , -0.7406514 ],\n",
       "         ...,\n",
       "         [ 1.9090644 ,  0.38838777,  0.5765771 ],\n",
       "         [ 0.28803632, -0.36727467, -1.5029193 ],\n",
       "         [ 1.7465843 ,  1.1579893 ,  0.36262763]],\n",
       "\n",
       "        [[-0.4124433 ,  0.32254592, -0.06259218],\n",
       "         [ 0.3575821 , -0.16755113,  1.2433666 ],\n",
       "         [-0.9442305 , -0.7394359 ,  1.4134613 ],\n",
       "         ...,\n",
       "         [ 0.03463046,  0.17558552, -0.96277595],\n",
       "         [-0.11823523, -2.404161  ,  0.5449985 ],\n",
       "         [ 1.0442868 , -1.2007551 , -1.036428  ]],\n",
       "\n",
       "        [[ 0.736233  ,  0.23295237, -0.5909583 ],\n",
       "         [ 0.37211835, -0.23711923, -0.40799135],\n",
       "         [-1.469638  ,  1.1085545 ,  1.4508802 ],\n",
       "         ...,\n",
       "         [-0.09860534,  0.12423477,  0.9709484 ],\n",
       "         [ 0.20418826,  1.1205236 , -0.577874  ],\n",
       "         [-0.42192557,  0.75519806,  0.11271394]],\n",
       "\n",
       "        ...,\n",
       "\n",
       "        [[ 0.8307325 ,  0.3265047 , -0.26338536],\n",
       "         [-1.3281872 , -0.28983402, -0.00313748],\n",
       "         [-1.0958959 ,  0.4642081 ,  0.556997  ],\n",
       "         ...,\n",
       "         [-1.7595531 , -1.8205376 , -1.1385764 ],\n",
       "         [-0.5481727 ,  2.1868174 , -1.3995025 ],\n",
       "         [ 0.20542955, -0.9518409 ,  0.99536383]],\n",
       "\n",
       "        [[ 0.17821608, -0.9195433 , -0.93420815],\n",
       "         [ 1.599839  ,  0.6439927 , -0.79317445],\n",
       "         [-0.6265899 , -0.23837347, -0.35075268],\n",
       "         ...,\n",
       "         [-0.58371544,  0.16531786, -1.1585958 ],\n",
       "         [-0.39228505,  0.0392105 ,  1.8660662 ],\n",
       "         [-1.3850309 ,  0.6859772 ,  0.88677585]],\n",
       "\n",
       "        [[-0.18587817,  0.8054932 ,  0.40941545],\n",
       "         [-0.276608  , -1.1006895 , -1.5724288 ],\n",
       "         [-1.3198308 ,  1.2774082 ,  0.07275871],\n",
       "         ...,\n",
       "         [-0.6109147 ,  1.0257533 , -1.2425848 ],\n",
       "         [-0.22046132,  0.623732  , -1.6503638 ],\n",
       "         [-1.2135609 ,  0.37878874, -2.2607222 ]]],\n",
       "\n",
       "\n",
       "       [[[ 1.3927239 ,  1.9237744 ,  0.38206422],\n",
       "         [-0.6125839 ,  0.77391875,  1.5033007 ],\n",
       "         [ 0.15456516,  0.4377253 , -0.6168495 ],\n",
       "         ...,\n",
       "         [-0.8054737 ,  0.8638843 ,  0.5086023 ],\n",
       "         [-0.809485  , -0.47425961, -0.6903693 ],\n",
       "         [-2.6479514 , -0.15184945,  0.510783  ]],\n",
       "\n",
       "        [[-0.5408488 ,  0.5372153 , -0.28035814],\n",
       "         [ 0.6024563 ,  0.10346738, -0.3237505 ],\n",
       "         [-0.11273433, -0.14548984,  0.71099085],\n",
       "         ...,\n",
       "         [-0.11978391,  1.2995894 , -1.3080347 ],\n",
       "         [-0.5324821 , -0.66230613, -0.3417394 ],\n",
       "         [ 0.8022824 , -1.2779427 , -0.57486904]],\n",
       "\n",
       "        [[ 0.20361719,  0.91499686, -0.5253777 ],\n",
       "         [ 0.6184687 ,  0.04565937,  0.8172093 ],\n",
       "         [ 2.0293844 ,  1.3246683 ,  0.3877749 ],\n",
       "         ...,\n",
       "         [-0.11935364, -0.14606024,  0.39962235],\n",
       "         [-0.28440627,  0.48011953,  2.4314456 ],\n",
       "         [-1.8795415 ,  0.03325144,  1.3370024 ]],\n",
       "\n",
       "        ...,\n",
       "\n",
       "        [[-0.5929274 , -0.3898224 , -0.08477909],\n",
       "         [-0.13851851,  0.4408496 , -0.86625004],\n",
       "         [ 0.6478286 ,  0.31513926, -0.04325374],\n",
       "         ...,\n",
       "         [ 2.876702  ,  0.5009192 ,  2.6186345 ],\n",
       "         [-0.23898898, -0.22570676, -0.31509092],\n",
       "         [-0.30199245,  0.7496636 ,  1.8179383 ]],\n",
       "\n",
       "        [[-0.47225186,  1.1011524 , -0.03969495],\n",
       "         [ 0.47420585,  1.5886151 ,  0.6601236 ],\n",
       "         [ 0.75764394,  2.6168118 , -1.0714601 ],\n",
       "         ...,\n",
       "         [ 0.9846666 , -0.2742726 ,  1.2372696 ],\n",
       "         [ 0.64698046,  0.3416562 ,  0.4649434 ],\n",
       "         [ 0.48963398, -1.453982  ,  0.30205047]],\n",
       "\n",
       "        [[ 0.37008843,  0.11257605, -0.8018298 ],\n",
       "         [-0.6435694 , -1.2312148 ,  0.3679339 ],\n",
       "         [-0.1206662 ,  0.3808601 ,  0.26684907],\n",
       "         ...,\n",
       "         [-1.3820677 , -0.5952101 ,  2.5738993 ],\n",
       "         [ 0.8907578 ,  0.1986623 , -1.3772691 ],\n",
       "         [ 0.8373801 , -1.0640872 , -1.2915202 ]]]], dtype=float32)>"
      ]
     },
     "execution_count": 61,
     "metadata": {},
     "output_type": "execute_result"
    }
   ],
   "source": [
    "# 读取第 2,3 张图片\n",
    "x[1:3]"
   ]
  },
  {
   "cell_type": "code",
   "execution_count": 62,
   "metadata": {
    "scrolled": true
   },
   "outputs": [
    {
     "data": {
      "text/plain": [
       "<tf.Tensor: shape=(32, 32, 3), dtype=float32, numpy=\n",
       "array([[[ 7.4660081e-01, -1.1094991e+00, -3.2261707e-02],\n",
       "        [-1.0461559e+00,  8.8454258e-01,  2.2186189e+00],\n",
       "        [ 6.8198425e-01,  1.2603869e-01, -8.6598372e-01],\n",
       "        ...,\n",
       "        [-3.8362366e-01, -1.5416192e-01,  8.2705820e-01],\n",
       "        [ 4.7519851e-01, -1.0252391e+00,  9.4629353e-01],\n",
       "        [-9.7652981e-03, -7.8386223e-01,  1.2128164e+00]],\n",
       "\n",
       "       [[-9.0167129e-01, -2.0572738e-01,  9.0411580e-01],\n",
       "        [-1.8202323e-01,  7.7934104e-01, -1.3951445e-01],\n",
       "        [ 5.3466493e-01,  5.2313799e-01,  1.0881571e+00],\n",
       "        ...,\n",
       "        [ 1.9915401e+00,  9.8662215e-01, -2.3829716e-01],\n",
       "        [-4.5485920e-01,  7.9347795e-01,  8.0360961e-01],\n",
       "        [ 6.0904812e-02,  7.8732967e-01, -1.0572485e+00]],\n",
       "\n",
       "       [[-1.2777422e-01,  4.7567341e-01,  1.7965610e+00],\n",
       "        [-1.3153278e+00,  2.0452678e+00, -4.4767901e-01],\n",
       "        [-1.1307126e+00,  1.0279242e+00, -9.6881622e-01],\n",
       "        ...,\n",
       "        [-2.2218683e-01,  5.8364384e-02,  6.4864063e-01],\n",
       "        [-1.0013058e-03, -9.3549484e-01, -9.8167133e-01],\n",
       "        [-1.3972228e+00, -1.0468752e+00, -1.0174829e-01]],\n",
       "\n",
       "       ...,\n",
       "\n",
       "       [[ 6.1216265e-01, -6.1991364e-01,  1.0902253e-01],\n",
       "        [ 7.6106107e-01, -2.9667738e-01,  6.9673397e-02],\n",
       "        [ 1.5506325e+00,  5.7773724e-02, -1.8796894e-01],\n",
       "        ...,\n",
       "        [-1.1380377e+00, -1.5517091e+00,  9.1876465e-01],\n",
       "        [ 1.2701770e+00,  2.3546083e-01, -1.3107130e-01],\n",
       "        [-1.1199950e+00,  1.2674618e+00,  5.8035648e-01]],\n",
       "\n",
       "       [[-2.8507174e-03,  1.2810901e+00, -1.1349009e+00],\n",
       "        [ 2.9831219e-01, -2.3476514e-01, -1.0273361e+00],\n",
       "        [-2.7595353e-01, -4.1754909e-02,  8.3331758e-01],\n",
       "        ...,\n",
       "        [-1.6655104e+00, -3.2230800e-01,  3.8127318e-01],\n",
       "        [ 1.8660835e+00, -8.6767185e-01,  1.7461994e+00],\n",
       "        [ 7.7170826e-02,  9.3293679e-01,  1.0662982e+00]],\n",
       "\n",
       "       [[ 9.4708127e-01, -2.2742906e-01, -6.6844314e-02],\n",
       "        [ 5.3826118e-01, -9.0396099e-02,  2.1581512e-02],\n",
       "        [-1.6524342e+00,  8.0470240e-01, -3.2264227e-01],\n",
       "        ...,\n",
       "        [ 5.1193774e-01,  8.7286657e-01,  9.3046594e-01],\n",
       "        [-1.3890386e+00,  6.9885606e-01, -1.9416161e-01],\n",
       "        [ 4.6219274e-02,  1.2503415e+00,  1.2680752e+00]]], dtype=float32)>"
      ]
     },
     "execution_count": 62,
     "metadata": {},
     "output_type": "execute_result"
    }
   ],
   "source": [
    "# 读取第一张图片\n",
    "x[0,::] "
   ]
  },
  {
   "cell_type": "code",
   "execution_count": 63,
   "metadata": {},
   "outputs": [
    {
     "data": {
      "text/plain": [
       "<tf.Tensor: shape=(4, 14, 14, 3), dtype=float32, numpy=\n",
       "array([[[[ 7.46600807e-01, -1.10949910e+00, -3.22617069e-02],\n",
       "         [ 6.81984246e-01,  1.26038685e-01, -8.65983725e-01],\n",
       "         [-9.69614983e-01, -2.35127136e-01, -6.32176280e-01],\n",
       "         ...,\n",
       "         [-1.23284566e+00,  6.24978423e-01,  5.97940087e-01],\n",
       "         [ 5.41275561e-01,  8.50891888e-01, -1.91968942e+00],\n",
       "         [-9.90986049e-01,  7.56506503e-01, -3.73492330e-01]],\n",
       "\n",
       "        [[-1.27774224e-01,  4.75673407e-01,  1.79656100e+00],\n",
       "         [-1.13071263e+00,  1.02792418e+00, -9.68816221e-01],\n",
       "         [-8.50593150e-01, -9.52534437e-01, -5.50044000e-01],\n",
       "         ...,\n",
       "         [ 2.96977115e+00,  1.20062813e-01,  3.86219211e-02],\n",
       "         [ 1.60874784e+00,  3.39597762e-01, -9.82060850e-01],\n",
       "         [-7.85237551e-01, -9.61406410e-01, -6.08708382e-01]],\n",
       "\n",
       "        [[ 4.39234048e-01, -4.03915882e-01,  2.17007712e-01],\n",
       "         [-2.34071031e-01, -7.94721782e-01, -1.83111513e+00],\n",
       "         [-1.71956527e+00,  1.63803592e-01, -1.37054026e+00],\n",
       "         ...,\n",
       "         [ 1.21885812e+00, -9.09007370e-01,  6.88988507e-01],\n",
       "         [-5.47211707e-01,  1.47558331e+00,  1.55653417e+00],\n",
       "         [-4.57517833e-01, -1.40631851e-02,  1.28859174e+00]],\n",
       "\n",
       "        ...,\n",
       "\n",
       "        [[ 7.35558093e-01,  8.44213545e-01,  6.28003120e-01],\n",
       "         [-3.00420937e-03,  2.71022582e+00, -1.07025421e+00],\n",
       "         [-1.03268683e+00, -1.24212515e+00,  2.10803866e+00],\n",
       "         ...,\n",
       "         [ 6.10556424e-01, -5.68202913e-01, -3.28383118e-01],\n",
       "         [ 5.24789393e-01, -1.98583937e+00,  2.88133949e-01],\n",
       "         [ 3.46331924e-01,  4.63462323e-01, -3.67761284e-01]],\n",
       "\n",
       "        [[ 1.38884199e+00, -1.85586298e+00,  9.15043771e-01],\n",
       "         [ 2.81971451e-02, -1.34013057e+00,  1.24681020e+00],\n",
       "         [-8.01281750e-01,  1.09077203e+00, -8.40089023e-01],\n",
       "         ...,\n",
       "         [ 3.68354432e-02,  9.71020639e-01, -3.65269482e-01],\n",
       "         [ 9.19364616e-02, -3.78372401e-01,  7.54892588e-01],\n",
       "         [ 2.02429795e+00,  4.90438730e-01,  8.25897008e-02]],\n",
       "\n",
       "        [[-6.54944360e-01, -1.07491827e+00, -1.09368014e+00],\n",
       "         [-4.23879027e-01,  1.08787298e+00, -1.35687971e-02],\n",
       "         [-8.32861289e-02, -1.34363079e+00, -7.15667605e-01],\n",
       "         ...,\n",
       "         [ 1.12349999e+00,  6.39111996e-01,  7.46056736e-01],\n",
       "         [ 4.51263875e-01,  1.81098372e-01, -1.26728272e+00],\n",
       "         [-1.31005752e+00,  1.22570741e+00,  7.49498904e-01]]],\n",
       "\n",
       "\n",
       "       [[[-8.39640737e-01,  1.69260383e-01,  4.91032183e-01],\n",
       "         [ 2.75110424e-01, -1.73163199e+00, -7.40651429e-01],\n",
       "         [ 4.52292025e-01,  8.18483174e-01,  2.67295480e+00],\n",
       "         ...,\n",
       "         [-1.10982537e+00,  1.62580952e-01,  9.01176870e-01],\n",
       "         [ 1.37715673e+00, -4.59244341e-01,  2.19229913e+00],\n",
       "         [ 3.12895030e-01,  1.17909491e+00,  7.38958716e-01]],\n",
       "\n",
       "        [[ 7.36232996e-01,  2.32952371e-01, -5.90958297e-01],\n",
       "         [-1.46963799e+00,  1.10855448e+00,  1.45088017e+00],\n",
       "         [-5.54767847e-02, -1.37836492e+00, -7.57290602e-01],\n",
       "         ...,\n",
       "         [ 5.80164433e-01, -2.75927693e-01,  1.34397995e+00],\n",
       "         [-5.01647532e-01, -7.99710929e-01,  1.31046700e+00],\n",
       "         [-1.29097438e+00,  1.13974929e+00, -1.01267362e+00]],\n",
       "\n",
       "        [[-3.55355829e-01, -1.26446736e+00, -1.06767917e+00],\n",
       "         [-2.29108167e+00, -1.71928000e+00,  7.59213507e-01],\n",
       "         [ 1.10511385e-01, -1.10128477e-01,  2.14428759e+00],\n",
       "         ...,\n",
       "         [ 1.20870471e+00,  6.18094981e-01, -4.29247767e-01],\n",
       "         [-7.05748677e-01,  4.38053817e-01, -1.68936241e+00],\n",
       "         [ 1.02818120e+00,  2.17871219e-01, -4.64545973e-02]],\n",
       "\n",
       "        ...,\n",
       "\n",
       "        [[-2.19653296e+00, -1.01565802e+00, -8.93750787e-01],\n",
       "         [ 1.04931152e+00,  2.09467977e-01, -7.67277181e-01],\n",
       "         [-2.02343076e-01, -1.01698411e+00, -4.26616937e-01],\n",
       "         ...,\n",
       "         [-2.17183590e-01,  8.72893512e-01,  5.36155283e-01],\n",
       "         [ 1.39178300e+00,  4.13913131e-01,  2.26801157e+00],\n",
       "         [ 3.43931079e-01,  1.13197044e-01,  1.33592963e-01]],\n",
       "\n",
       "        [[-5.92478812e-01,  3.95223528e-01, -7.55715907e-01],\n",
       "         [ 1.89735270e+00,  2.60682225e-01, -3.67840886e-01],\n",
       "         [ 1.05625021e+00, -8.40606928e-01,  4.46071982e-01],\n",
       "         ...,\n",
       "         [ 1.01867557e-01, -7.68077970e-01, -1.81135386e-02],\n",
       "         [ 1.72209293e-02,  6.91850066e-01, -1.48760879e+00],\n",
       "         [-1.39989793e+00,  1.11544323e+00,  1.43624008e+00]],\n",
       "\n",
       "        [[ 6.49881840e-01, -4.23414797e-01,  6.79342091e-01],\n",
       "         [-2.20270157e+00,  1.08557868e+00,  4.19676661e-01],\n",
       "         [ 2.41926312e+00, -1.33193040e+00, -6.66616321e-01],\n",
       "         ...,\n",
       "         [ 1.13333082e+00,  4.16144192e-01,  1.83939469e+00],\n",
       "         [-1.57144296e+00, -9.64424491e-01, -2.22841278e-01],\n",
       "         [-1.34683573e+00, -5.81854701e-01, -1.44921291e+00]]],\n",
       "\n",
       "\n",
       "       [[[ 1.39272392e+00,  1.92377436e+00,  3.82064223e-01],\n",
       "         [ 1.54565156e-01,  4.37725306e-01, -6.16849482e-01],\n",
       "         [-1.71481085e+00,  1.42278641e-01, -1.04154336e+00],\n",
       "         ...,\n",
       "         [ 2.09808636e+00, -3.96629758e-02, -1.15272999e+00],\n",
       "         [ 1.24929726e+00,  1.05226906e-02,  4.12842661e-01],\n",
       "         [-2.33631396e+00, -6.51357889e-01, -2.00019926e-01]],\n",
       "\n",
       "        [[ 2.03617185e-01,  9.14996862e-01, -5.25377691e-01],\n",
       "         [ 2.02938437e+00,  1.32466829e+00,  3.87774915e-01],\n",
       "         [-6.25264823e-01, -1.03355217e+00, -5.32061100e-01],\n",
       "         ...,\n",
       "         [-1.44920290e+00,  1.49190092e+00,  1.08075285e+00],\n",
       "         [ 7.43001401e-01,  1.23658383e+00,  2.72072077e-01],\n",
       "         [ 2.54015875e+00, -3.65335882e-01,  1.43730772e+00]],\n",
       "\n",
       "        [[ 9.25107956e-01,  7.34762788e-01,  3.28959227e-01],\n",
       "         [-8.49139214e-01, -8.32157791e-01, -1.96866453e+00],\n",
       "         [ 1.61725327e-01,  5.44084728e-01, -7.34592602e-02],\n",
       "         ...,\n",
       "         [-9.25589278e-02,  4.62755188e-02,  1.06588066e+00],\n",
       "         [-1.98039925e+00,  4.78737205e-01,  7.83297360e-01],\n",
       "         [ 2.98217583e+00, -5.37932180e-02,  1.94444287e+00]],\n",
       "\n",
       "        ...,\n",
       "\n",
       "        [[-1.35457411e-01,  1.32760394e+00,  1.20759928e+00],\n",
       "         [-8.65372837e-01, -5.53147078e-01, -2.41272593e+00],\n",
       "         [-1.21777505e-01, -1.70227981e+00,  1.45544577e+00],\n",
       "         ...,\n",
       "         [ 5.33206224e-01, -1.05508812e-01, -5.69161654e-01],\n",
       "         [ 3.04492474e-01,  3.44979703e-01, -5.28753698e-01],\n",
       "         [-6.99239433e-01,  7.64842212e-01, -1.28776574e+00]],\n",
       "\n",
       "        [[-2.36558342e+00, -2.02772677e-01,  6.18983746e-01],\n",
       "         [-2.92625284e+00,  6.92881227e-01, -6.45230263e-02],\n",
       "         [-4.46011394e-01, -7.64900267e-01,  2.16097164e+00],\n",
       "         ...,\n",
       "         [-2.85050941e+00, -1.82384837e+00, -4.97378558e-01],\n",
       "         [-1.22993909e-01,  1.67754841e+00,  1.12136352e+00],\n",
       "         [ 2.35587430e+00,  1.23552643e-01,  3.09560031e-01]],\n",
       "\n",
       "        [[ 4.77138072e-01,  3.89655024e-01,  3.86283398e-01],\n",
       "         [ 7.33054936e-01, -4.29757208e-01,  8.60721171e-02],\n",
       "         [ 6.52367949e-01,  1.50161278e+00,  3.24624509e-01],\n",
       "         ...,\n",
       "         [ 2.47556999e-01,  9.42595124e-01, -4.54002559e-01],\n",
       "         [-2.33940467e-01, -1.17860377e+00,  9.81403217e-02],\n",
       "         [ 5.96476436e-01, -1.21319912e-01, -5.50884485e-01]]],\n",
       "\n",
       "\n",
       "       [[[ 2.52903402e-01,  4.51285779e-01,  9.09960926e-01],\n",
       "         [-3.48749608e-01, -1.03336239e+00,  5.79766572e-01],\n",
       "         [ 8.55585456e-01,  1.54522526e+00, -7.64538571e-02],\n",
       "         ...,\n",
       "         [ 4.24604088e-01, -1.54170978e+00, -9.70193803e-01],\n",
       "         [ 6.99882329e-01, -1.43351346e-01,  5.02887487e-01],\n",
       "         [ 1.96322471e-01, -2.51923297e-02, -4.03710783e-01]],\n",
       "\n",
       "        [[ 1.08959079e+00, -1.57015095e-03,  2.91399240e-01],\n",
       "         [ 3.03246707e-01, -1.10386968e-01, -5.42469621e-01],\n",
       "         [ 8.99344981e-01,  3.65675598e-01,  1.83581102e+00],\n",
       "         ...,\n",
       "         [ 7.96740279e-02,  2.08502382e-01,  2.32305312e+00],\n",
       "         [ 6.95813358e-01, -1.06842780e+00,  8.48689556e-01],\n",
       "         [ 2.56823450e-01, -1.69567859e+00, -1.46174341e-01]],\n",
       "\n",
       "        [[-1.30198479e+00, -5.72413206e-01,  1.32456616e-01],\n",
       "         [-3.81835747e+00,  1.17743957e+00, -3.62810612e-01],\n",
       "         [-3.01150590e-01, -4.34663057e-01,  9.23831701e-01],\n",
       "         ...,\n",
       "         [ 1.12469113e+00,  5.51869571e-01,  1.11038911e+00],\n",
       "         [-9.22930837e-01,  3.53317738e-01, -8.39046896e-01],\n",
       "         [-9.64249372e-02, -1.86972201e+00, -6.09103069e-02]],\n",
       "\n",
       "        ...,\n",
       "\n",
       "        [[-9.15184796e-01,  4.76466805e-01,  1.93156552e+00],\n",
       "         [ 7.40876555e-01,  2.06600264e-01,  9.67852652e-01],\n",
       "         [ 1.87680185e+00,  5.23615003e-01,  1.01355731e+00],\n",
       "         ...,\n",
       "         [-1.15670609e+00, -1.84906077e+00,  3.22940260e-01],\n",
       "         [ 5.07192612e-01,  5.71286559e-01,  3.28726470e-01],\n",
       "         [ 1.69274533e+00, -9.76124644e-01,  3.97620380e-01]],\n",
       "\n",
       "        [[-7.06675351e-01, -1.51929617e-01, -2.03864121e+00],\n",
       "         [-1.95336783e+00, -7.86530912e-01,  1.40762493e-01],\n",
       "         [-3.89408767e-02, -3.50834966e-01, -1.41064978e+00],\n",
       "         ...,\n",
       "         [ 5.01201153e-01,  1.56634986e+00,  1.08459556e+00],\n",
       "         [ 1.39470434e+00, -2.59402418e+00,  1.35064900e+00],\n",
       "         [ 9.39799726e-01, -4.90343779e-01, -4.20268960e-02]],\n",
       "\n",
       "        [[-4.22856599e-01, -1.55224204e+00, -5.86644351e-01],\n",
       "         [-3.25613096e-02, -4.00194138e-01, -1.84058475e+00],\n",
       "         [ 6.60088733e-02,  5.99773347e-01, -9.17802453e-01],\n",
       "         ...,\n",
       "         [ 1.37035882e+00, -3.36557150e-01, -7.59429395e-01],\n",
       "         [ 1.03566490e-01, -2.79857635e-01,  1.29465783e+00],\n",
       "         [-1.35034430e+00,  3.59314829e-01,  3.71572077e-01]]]],\n",
       "      dtype=float32)>"
      ]
     },
     "execution_count": 63,
     "metadata": {},
     "output_type": "execute_result"
    }
   ],
   "source": [
    "x[:,0:28:2,0:28:2,:]"
   ]
  },
  {
   "cell_type": "code",
   "execution_count": 64,
   "metadata": {},
   "outputs": [
    {
     "data": {
      "text/plain": [
       "<tf.Tensor: shape=(8,), dtype=int32, numpy=array([8, 7, 6, 5, 4, 3, 2, 1], dtype=int32)>"
      ]
     },
     "execution_count": 64,
     "metadata": {},
     "output_type": "execute_result"
    }
   ],
   "source": [
    "# 考虑一个 0~9 的简单序列向量， 逆序取到第 1 号元素，不包含第 1 号\n",
    "# 创建 0~9 向量\n",
    "x = tf.range(9) \n",
    "# 从 8 取到 0，逆序，不包含 0\n",
    "x[8:0:-1] "
   ]
  },
  {
   "cell_type": "code",
   "execution_count": 65,
   "metadata": {},
   "outputs": [
    {
     "data": {
      "text/plain": [
       "<tf.Tensor: shape=(9,), dtype=int32, numpy=array([8, 7, 6, 5, 4, 3, 2, 1, 0], dtype=int32)>"
      ]
     },
     "execution_count": 65,
     "metadata": {},
     "output_type": "execute_result"
    }
   ],
   "source": [
    "# 逆序全部元素\n",
    "x[::-1] "
   ]
  },
  {
   "cell_type": "code",
   "execution_count": 66,
   "metadata": {},
   "outputs": [
    {
     "data": {
      "text/plain": [
       "<tf.Tensor: shape=(5,), dtype=int32, numpy=array([8, 6, 4, 2, 0], dtype=int32)>"
      ]
     },
     "execution_count": 66,
     "metadata": {},
     "output_type": "execute_result"
    }
   ],
   "source": [
    "# 逆序间隔采样\n",
    "x[::-2] "
   ]
  },
  {
   "cell_type": "markdown",
   "metadata": {},
   "source": [
    "读取每张图片的所有通道，其中行按着逆序隔行采样，列按着逆序隔行采样"
   ]
  },
  {
   "cell_type": "code",
   "execution_count": 67,
   "metadata": {},
   "outputs": [
    {
     "data": {
      "text/plain": [
       "<tf.Tensor: shape=(16, 16, 3), dtype=float32, numpy=\n",
       "array([[[ 2.85468668e-01,  1.59129727e+00,  7.33585417e-01],\n",
       "        [ 6.16496384e-01,  3.38066757e-01, -1.43302158e-01],\n",
       "        [ 1.46004248e+00,  1.43982708e-01, -1.42035973e+00],\n",
       "        [-9.25312102e-01, -3.94549109e-02, -4.11549449e-01],\n",
       "        [ 5.49991764e-02, -9.78930175e-01,  1.30186871e-01],\n",
       "        [-1.14536619e+00,  4.69457626e-01, -4.42570448e-01],\n",
       "        [-2.06081327e-02, -9.94908959e-02,  9.30824637e-01],\n",
       "        [ 2.91240096e-01,  2.10986331e-01,  1.13004434e+00],\n",
       "        [ 2.33501577e+00,  3.87691587e-01, -6.49660230e-01],\n",
       "        [ 7.22681463e-01, -8.27120721e-01,  1.48891604e+00],\n",
       "        [ 7.96569347e-01,  3.85602534e-01, -7.71942362e-02],\n",
       "        [ 2.21812105e+00, -1.08925235e+00,  3.03746045e-01],\n",
       "        [ 2.06081152e+00,  5.95780611e-01,  1.43985128e+00],\n",
       "        [-4.67588276e-01, -9.53786895e-02, -7.80910373e-01],\n",
       "        [-9.36360836e-01, -1.63321888e+00, -5.93927920e-01],\n",
       "        [-1.33183134e+00, -8.62161756e-01,  4.35218215e-01]],\n",
       "\n",
       "       [[ 6.11348808e-01,  8.17059457e-01,  1.62070262e+00],\n",
       "        [-1.55417347e+00, -1.59560597e+00, -6.12507641e-01],\n",
       "        [-3.10977757e-01, -1.18713388e-02, -3.18369083e-02],\n",
       "        [-6.35026097e-01, -1.02840614e+00,  1.65648365e+00],\n",
       "        [-9.99806106e-01,  5.88251948e-01,  4.89677861e-02],\n",
       "        [-6.24344528e-01, -6.19906723e-01,  6.79513454e-01],\n",
       "        [ 1.31474543e+00, -3.12101066e-01, -1.67021525e+00],\n",
       "        [-1.15310597e+00, -4.48306561e-01,  3.33348066e-01],\n",
       "        [-1.22409952e+00, -7.76406527e-01,  5.94848990e-01],\n",
       "        [ 1.03591943e+00, -2.00136021e-01, -6.74587905e-01],\n",
       "        [ 5.54355919e-01,  3.07434029e-03, -1.30425525e+00],\n",
       "        [-1.37532687e+00,  7.03012049e-01,  1.58542663e-01],\n",
       "        [ 1.52267754e+00, -1.34049690e+00,  8.21290135e-01],\n",
       "        [ 6.04405880e-01, -6.77039474e-02, -6.84121251e-01],\n",
       "        [ 3.24134803e+00,  1.33508161e-01, -1.45970201e+00],\n",
       "        [-1.46366322e+00, -5.30764163e-01,  5.23218587e-02]],\n",
       "\n",
       "       [[-1.88378245e-01,  6.13071322e-01,  8.19970891e-02],\n",
       "        [-1.04784258e-01, -3.89229655e-01,  8.96835446e-01],\n",
       "        [ 6.92615986e-01, -4.26415592e-01,  1.27875316e+00],\n",
       "        [-6.63999617e-01, -1.05555618e+00,  5.84617555e-01],\n",
       "        [-1.52270079e-01,  8.57483864e-01, -6.88501954e-01],\n",
       "        [ 8.34762514e-01,  5.18295050e-01,  2.22856450e+00],\n",
       "        [ 6.60784125e-01,  1.16207767e+00, -1.07063675e+00],\n",
       "        [-2.25029495e-02,  8.90997589e-01,  7.43377090e-01],\n",
       "        [ 1.08484209e+00, -9.59700346e-01, -1.02071249e+00],\n",
       "        [ 2.58188099e-01,  6.80493295e-01, -5.49525917e-01],\n",
       "        [ 8.91664445e-01, -9.80482399e-01,  4.78534251e-01],\n",
       "        [ 8.71199071e-01,  1.07435182e-01,  8.94399405e-01],\n",
       "        [ 3.48917514e-01,  1.04924214e+00,  2.12172151e+00],\n",
       "        [-1.46747243e+00, -7.58470178e-01, -1.84308147e+00],\n",
       "        [ 2.25678349e+00, -8.12094748e-01,  3.85805517e-01],\n",
       "        [ 2.50306010e+00, -1.28079087e-01,  8.16606820e-01]],\n",
       "\n",
       "       [[-2.76446605e+00, -2.11627424e-01,  1.20511246e+00],\n",
       "        [-3.26438248e-02, -2.38393381e-01,  4.88070175e-02],\n",
       "        [-8.90066266e-01, -1.17398143e+00,  4.55433547e-01],\n",
       "        [ 8.38525236e-01, -8.89316440e-01,  4.22000468e-01],\n",
       "        [ 4.94840831e-01,  5.34400165e-01, -2.59099692e-01],\n",
       "        [ 1.23395157e+00, -1.88482666e+00, -1.02402285e-01],\n",
       "        [-1.18657994e+00, -3.66592966e-02, -1.57497123e-01],\n",
       "        [ 7.09401965e-01, -1.05595279e+00,  9.74079669e-02],\n",
       "        [ 2.88285881e-01, -8.31329823e-02,  1.01729441e+00],\n",
       "        [ 2.08150715e-01,  2.60294408e-01, -5.85451543e-01],\n",
       "        [-4.13974911e-01, -5.45325398e-01, -9.78849053e-01],\n",
       "        [ 7.98581898e-01,  8.79172325e-01, -8.90465498e-01],\n",
       "        [-1.80996716e+00,  5.84863782e-01,  3.81979972e-01],\n",
       "        [-7.77371451e-02, -1.33589953e-01,  2.17950487e+00],\n",
       "        [-5.26250480e-03,  4.09556925e-01, -1.94752917e-01],\n",
       "        [-1.26740789e+00,  2.86856145e-01, -2.34580919e-01]],\n",
       "\n",
       "       [[ 2.86595039e-02,  7.08049297e-01, -1.00035787e+00],\n",
       "        [ 1.18229234e+00,  8.09798241e-01, -4.74958777e-01],\n",
       "        [-1.08685286e-03,  7.42488861e-01,  3.97984654e-01],\n",
       "        [ 8.84339333e-01, -1.45213723e-01,  1.28799748e+00],\n",
       "        [ 8.17587078e-01, -7.10630596e-01, -1.77115709e-01],\n",
       "        [-2.26427644e-01,  8.11285198e-01,  2.06068683e+00],\n",
       "        [-9.97239202e-02,  3.80851716e-01,  2.25343928e-02],\n",
       "        [-1.01384413e+00, -9.53443646e-01, -8.48960578e-01],\n",
       "        [ 2.87275035e-02,  1.26896846e+00,  1.11190295e+00],\n",
       "        [-2.82962844e-02, -5.15956402e-01, -5.46604991e-02],\n",
       "        [-9.21616197e-01, -5.08206785e-02, -3.53028715e-01],\n",
       "        [ 9.32852089e-01,  3.14028978e-01,  1.62508890e-01],\n",
       "        [-7.67208695e-01,  3.06942552e-01, -4.75708067e-01],\n",
       "        [ 9.22562718e-01,  7.38062486e-02, -5.06218314e-01],\n",
       "        [-9.21552181e-01, -3.27567697e-01, -2.19622239e-01],\n",
       "        [ 6.12572730e-01, -4.60354716e-01, -1.33755612e+00]],\n",
       "\n",
       "       [[ 1.49503872e-01, -1.48311883e-01,  1.08466709e+00],\n",
       "        [ 3.95160079e-01,  1.48326027e+00,  8.08846354e-01],\n",
       "        [-8.82520318e-01, -1.00861728e+00,  7.73416877e-01],\n",
       "        [ 5.00243664e-01,  2.26028299e+00, -7.49334469e-02],\n",
       "        [ 6.68455839e-01,  5.75563073e-01,  3.25941414e-01],\n",
       "        [ 1.02398348e+00,  8.66164804e-01,  7.04311669e-01],\n",
       "        [-1.09883535e+00, -1.90086508e+00,  2.57900381e+00],\n",
       "        [-3.38510036e-01,  9.10255432e-01, -6.78622484e-01],\n",
       "        [ 2.79713392e-01,  2.74855047e-01,  3.48990321e-01],\n",
       "        [-2.60747552e+00,  6.63820803e-02, -8.77876997e-01],\n",
       "        [-1.09435797e+00, -7.82734632e-01,  1.27770734e+00],\n",
       "        [ 1.62617493e+00,  9.89136934e-01, -9.81855929e-01],\n",
       "        [-1.35635602e+00, -9.54792202e-01, -9.13084567e-01],\n",
       "        [-3.40194516e-02,  6.31597281e-01, -9.52968076e-02],\n",
       "        [ 6.17840707e-01,  6.02136970e-01, -3.93450521e-02],\n",
       "        [ 6.43048584e-01,  5.48992276e-01, -1.35944319e+00]],\n",
       "\n",
       "       [[-1.31195533e+00,  2.18965602e+00, -3.46331418e-01],\n",
       "        [ 7.14196682e-01, -4.78988051e-01,  1.80628335e+00],\n",
       "        [ 5.02640128e-01,  5.76922476e-01, -8.22819471e-01],\n",
       "        [ 1.32543182e+00, -1.18359363e+00, -7.82108068e-01],\n",
       "        [ 7.36164004e-02, -1.42553437e+00,  2.49663070e-02],\n",
       "        [ 2.56962001e-01,  2.83706695e-01, -1.98621228e-01],\n",
       "        [-6.05600476e-01,  9.86003280e-01,  2.35553488e-01],\n",
       "        [ 1.10360825e+00, -1.42495289e-01,  9.69530821e-01],\n",
       "        [-5.41804790e-01,  9.31242585e-01,  2.74026752e-01],\n",
       "        [ 1.12921655e+00, -6.42539024e-01,  5.37523143e-02],\n",
       "        [ 3.84749115e-01,  8.04396689e-01, -8.81224453e-01],\n",
       "        [ 7.36966610e-01,  1.22696713e-01,  1.37128186e+00],\n",
       "        [-2.64723778e-01,  6.77528679e-01, -7.51917839e-01],\n",
       "        [-7.69103467e-01,  4.55278397e-01,  3.16749096e-01],\n",
       "        [-1.85286492e-01, -4.77790833e-01,  6.77680731e-01],\n",
       "        [ 1.10187471e+00,  1.45832181e+00, -1.13678741e+00]],\n",
       "\n",
       "       [[ 1.89008284e+00, -6.92753434e-01,  5.17856143e-02],\n",
       "        [-5.85738063e-01,  6.58507943e-01, -1.25368580e-01],\n",
       "        [-4.93734032e-01, -1.00990796e+00,  2.19576105e-01],\n",
       "        [ 2.04960704e+00,  5.46176791e-01,  5.16609669e-01],\n",
       "        [ 4.23205137e-01,  8.87227654e-01,  3.05348992e-01],\n",
       "        [ 1.26094365e+00,  2.02444807e-01, -1.53684723e+00],\n",
       "        [ 1.03348047e-01, -1.38184771e-01,  3.96635860e-01],\n",
       "        [-4.42863464e-01,  1.15992181e-01,  1.66587114e-01],\n",
       "        [ 8.28996599e-02, -4.71055001e-01, -1.40743959e+00],\n",
       "        [ 2.51859397e-01, -9.33453500e-01, -1.05329561e+00],\n",
       "        [ 9.11363125e-01, -1.86457545e-01, -5.36006354e-02],\n",
       "        [-6.66185319e-01, -1.27160117e-01,  5.85280895e-01],\n",
       "        [-4.38980639e-01,  5.88537633e-01, -7.24073768e-01],\n",
       "        [-7.85384119e-01, -3.06368768e-02,  4.45748627e-01],\n",
       "        [-1.14338672e+00,  1.55492747e+00,  7.59418666e-01],\n",
       "        [-1.23938847e+00, -1.20100391e+00,  1.06905317e+00]],\n",
       "\n",
       "       [[ 6.29452825e-01,  9.95001256e-01,  1.02360971e-01],\n",
       "        [ 8.29340041e-01,  6.04163446e-02, -8.86722326e-01],\n",
       "        [ 6.67541564e-01,  4.29549903e-01,  3.41844916e-01],\n",
       "        [-1.61147371e-01,  1.02603352e+00,  1.27535418e-01],\n",
       "        [ 1.30582201e+00, -7.04758883e-01,  4.38499689e-01],\n",
       "        [-1.29822004e+00,  1.28138423e+00, -5.42526186e-01],\n",
       "        [ 4.28820282e-01, -1.28880942e+00,  1.80797577e+00],\n",
       "        [-1.65695226e+00,  8.31557810e-01,  1.93142425e-02],\n",
       "        [ 8.17805886e-01,  2.91439509e+00, -5.88648736e-01],\n",
       "        [ 1.14639568e+00, -4.21728343e-01,  1.24081588e+00],\n",
       "        [ 1.24051668e-01,  9.98304367e-01,  1.46491301e+00],\n",
       "        [ 6.68305635e-01,  5.26202209e-02, -1.93603277e+00],\n",
       "        [-1.80729139e+00,  8.89477789e-01,  7.27273583e-01],\n",
       "        [-3.50771807e-02, -3.27815771e-01, -5.10619357e-02],\n",
       "        [-4.46559131e-01,  4.02601898e-01, -1.17584062e+00],\n",
       "        [ 1.05970550e+00, -3.10590148e-01, -1.13709159e-01]],\n",
       "\n",
       "       [[-2.19335765e-01, -5.08724988e-01, -6.44867793e-02],\n",
       "        [-2.14777541e+00,  4.99116570e-01, -1.31121433e+00],\n",
       "        [ 3.11565667e-01,  8.33383501e-01,  2.86984831e-01],\n",
       "        [ 9.98725235e-01, -1.60465908e+00, -1.67725694e+00],\n",
       "        [-3.09220821e-01,  2.19035935e+00,  8.92639518e-01],\n",
       "        [ 5.59467852e-01, -2.57834047e-01,  5.19102216e-01],\n",
       "        [-4.59986776e-02,  1.24154434e-01,  1.66276217e-01],\n",
       "        [-2.86782414e-01, -2.42781520e-01,  1.03463042e+00],\n",
       "        [ 1.44218636e+00,  1.28433824e+00,  2.33691406e+00],\n",
       "        [ 1.29331088e+00, -1.16280866e+00, -8.62394869e-01],\n",
       "        [-2.36623347e-01, -2.04064056e-01,  1.24949551e+00],\n",
       "        [-4.05533463e-01,  4.67309266e-01, -1.33421338e+00],\n",
       "        [ 1.02695143e+00,  4.15892422e-01,  1.50915876e-01],\n",
       "        [-1.26459718e+00,  1.47481573e+00, -5.69117546e-01],\n",
       "        [-5.29702380e-02, -6.18825793e-01,  1.03025270e+00],\n",
       "        [-1.63221970e-01,  1.17198873e+00, -8.12895421e-04]],\n",
       "\n",
       "       [[-1.25223625e+00, -1.07540059e+00,  1.45487809e+00],\n",
       "        [ 1.04718459e+00, -1.45185521e-04,  4.43433315e-01],\n",
       "        [ 1.70873627e-01,  1.20056283e+00,  5.52861154e-01],\n",
       "        [ 6.05699241e-01, -4.88474607e-01,  1.00604773e+00],\n",
       "        [ 2.81700921e+00, -1.26467717e+00,  1.06959474e+00],\n",
       "        [-7.73000419e-01,  1.83731571e-01, -9.13797081e-01],\n",
       "        [ 1.22381556e+00,  2.71013174e-02,  6.78838566e-02],\n",
       "        [ 1.51405036e+00, -4.03924853e-01,  4.77229208e-02],\n",
       "        [ 2.83322072e+00,  4.00013745e-01,  1.10212731e+00],\n",
       "        [-3.97135198e-01, -1.53676510e-01,  4.72391307e-01],\n",
       "        [ 7.02557147e-01, -2.03342542e-01, -8.92907660e-03],\n",
       "        [-8.03129375e-02, -1.16736257e+00, -1.92584741e+00],\n",
       "        [ 5.73192537e-01,  6.10989273e-01, -1.41917360e+00],\n",
       "        [ 1.26044035e+00,  8.16010833e-01,  1.20342004e+00],\n",
       "        [ 8.04560065e-01, -4.52038459e-02, -4.68144745e-01],\n",
       "        [-1.90288711e+00,  1.25844622e+00, -5.49485326e-01]],\n",
       "\n",
       "       [[ 2.37219858e+00,  2.38307372e-01, -5.46280205e-01],\n",
       "        [ 1.58153057e+00,  4.11769420e-01, -1.98598182e+00],\n",
       "        [ 3.70981455e-01,  9.35621381e-01, -7.38226950e-01],\n",
       "        [-1.03582337e-01, -8.25950205e-01, -1.30676150e+00],\n",
       "        [-2.46821970e-01, -3.12161744e-01,  6.46262288e-01],\n",
       "        [ 1.58098614e+00, -1.13711667e+00, -1.30410576e+00],\n",
       "        [-5.39068758e-01,  1.02091897e+00, -3.52440834e-01],\n",
       "        [ 8.08195412e-01,  5.61698318e-01,  8.14840719e-02],\n",
       "        [ 2.54506445e+00,  9.49891448e-01,  3.26940939e-02],\n",
       "        [ 7.13799119e-01,  9.07690465e-01, -2.24145532e-01],\n",
       "        [-7.25960791e-01,  1.99194598e+00,  2.27993846e+00],\n",
       "        [ 4.91200775e-01, -5.69320679e-01,  6.91200793e-01],\n",
       "        [ 1.56919909e+00,  4.27798957e-01,  3.18394244e-01],\n",
       "        [-1.70458958e-01,  1.07620806e-01,  1.32395160e+00],\n",
       "        [-5.37391342e-02, -1.00942273e-02,  3.54124218e-01],\n",
       "        [ 1.31833935e+00, -9.91780758e-02,  2.04200000e-01]],\n",
       "\n",
       "       [[-4.07110661e-01, -2.36112976e+00, -8.74741256e-01],\n",
       "        [ 1.71206284e+00, -2.75997400e+00, -4.22276706e-02],\n",
       "        [ 7.18286991e-01, -8.62568617e-01,  2.37391448e+00],\n",
       "        [ 1.30292715e-03, -6.38072073e-01,  4.88362640e-01],\n",
       "        [ 1.94988772e-01,  3.54182005e-01,  5.27217746e-01],\n",
       "        [-2.07971692e-01, -2.26487055e-01, -2.66212869e+00],\n",
       "        [ 6.47466004e-01,  9.03761506e-01, -4.03633058e-01],\n",
       "        [-2.92310715e+00, -1.06968892e+00,  2.32794404e-01],\n",
       "        [ 6.68605864e-01, -6.28869653e-01, -1.01628578e+00],\n",
       "        [-1.79086614e+00, -1.04248941e+00,  1.20738792e+00],\n",
       "        [ 4.65482831e-01, -1.79250586e+00,  4.32604924e-02],\n",
       "        [-1.20169425e+00,  1.80258989e-01, -6.99904025e-01],\n",
       "        [ 1.44148266e+00, -1.34784460e-01,  9.29007649e-01],\n",
       "        [ 6.15866482e-01,  9.57472920e-01,  1.38254452e+00],\n",
       "        [ 7.03143924e-02, -6.33876741e-01,  9.82870385e-02],\n",
       "        [ 1.74655092e+00,  3.96579206e-02, -2.06253007e-01]],\n",
       "\n",
       "       [[ 5.81849933e-01, -8.27198774e-02, -3.34816188e-01],\n",
       "        [ 6.68795645e-01,  1.58921540e+00, -6.30655050e-01],\n",
       "        [ 1.96830153e-01,  3.19848895e-01,  5.25596738e-01],\n",
       "        [-2.12360993e-01, -4.87689003e-02,  2.21097970e+00],\n",
       "        [ 6.21967673e-01, -7.09949553e-01, -7.66155481e-01],\n",
       "        [-6.00141644e-01,  1.94686219e-01, -4.35027748e-01],\n",
       "        [-9.64770436e-01, -4.69337434e-01,  3.44002038e-01],\n",
       "        [-6.70281768e-01, -1.28848004e+00,  9.40720141e-02],\n",
       "        [-4.08486336e-01,  3.35957706e-01, -9.72453505e-02],\n",
       "        [ 3.89484912e-01, -1.22912681e+00, -9.82079089e-01],\n",
       "        [ 1.12774706e+00, -7.51283169e-01, -1.88184887e-01],\n",
       "        [-1.23701012e+00,  1.69723821e+00,  2.18993807e+00],\n",
       "        [-1.24340558e+00, -1.77244067e-01,  8.23211148e-02],\n",
       "        [ 1.88437271e+00, -1.44141877e+00, -4.39634323e-01],\n",
       "        [ 6.71587586e-01, -1.07856238e+00, -6.23513870e-02],\n",
       "        [-3.66440296e-01,  7.08447993e-01, -4.35912311e-01]],\n",
       "\n",
       "       [[ 9.44439590e-01,  4.90521550e-01, -6.22651041e-01],\n",
       "        [-1.61900625e-01, -3.57031852e-01,  5.19874036e-01],\n",
       "        [-1.41919363e+00, -1.13856733e+00, -2.43885681e-01],\n",
       "        [ 2.52024174e-01,  2.28082970e-01, -4.64049637e-01],\n",
       "        [-2.59581828e+00,  7.80887485e-01,  1.26257551e+00],\n",
       "        [-3.09516430e-01,  5.27574301e-01,  1.03433406e+00],\n",
       "        [-9.95880187e-01, -3.72574627e-01, -7.55391538e-01],\n",
       "        [-4.84265924e-01, -1.71345735e+00,  1.27039123e+00],\n",
       "        [ 1.29820442e+00, -9.38699543e-02,  5.08341551e-01],\n",
       "        [-1.59742630e+00,  6.54203117e-01,  1.31201708e+00],\n",
       "        [-8.12995613e-01, -2.61579193e-02, -7.05510080e-01],\n",
       "        [ 4.02896702e-01, -1.08714230e-01, -8.38324368e-01],\n",
       "        [-2.93643206e-01, -1.53371751e-01, -1.42424524e+00],\n",
       "        [ 1.31391227e+00, -1.12579370e+00,  9.88080144e-01],\n",
       "        [-4.51270640e-01,  2.08192897e+00,  1.29976511e+00],\n",
       "        [-6.63263142e-01, -5.15973985e-01, -1.21184647e+00]],\n",
       "\n",
       "       [[ 1.39421213e+00, -6.16344869e-01, -1.93048656e-01],\n",
       "        [-1.00536323e+00, -9.30092216e-01, -4.01944757e-01],\n",
       "        [ 1.93151677e+00, -4.21451628e-01, -4.52011019e-01],\n",
       "        [ 9.40630436e-01, -8.78677785e-01,  7.21926749e-01],\n",
       "        [-7.53769875e-01, -9.85459328e-01, -4.10528779e-02],\n",
       "        [ 2.57310066e-02,  6.11576974e-01,  2.39937138e-02],\n",
       "        [ 5.27435839e-01, -9.45074618e-01, -3.52840334e-01],\n",
       "        [ 3.46177548e-01, -1.23565161e+00, -9.30746377e-01],\n",
       "        [-4.35345858e-01, -2.52269101e+00, -5.82406938e-01],\n",
       "        [-4.34886783e-01,  2.52230716e+00, -2.48098969e+00],\n",
       "        [-9.20823738e-02, -1.35704124e+00,  6.50303364e-01],\n",
       "        [ 1.38211951e-01, -2.85019368e-01,  6.33070052e-01],\n",
       "        [-3.44463170e-01, -8.01863074e-02, -1.62010026e+00],\n",
       "        [-2.30226827e+00,  2.60503203e-01,  4.18052942e-01],\n",
       "        [ 2.01756448e-01, -5.35282433e-01,  8.48662317e-01],\n",
       "        [ 1.28284180e+00, -4.53476399e-01,  3.60472828e-01]]],\n",
       "      dtype=float32)>"
      ]
     },
     "execution_count": 67,
     "metadata": {},
     "output_type": "execute_result"
    }
   ],
   "source": [
    "x = tf.random.normal([4,32,32,3])\n",
    "# 行、列逆序间隔采样\n",
    "x[0,::-2,::-2] "
   ]
  },
  {
   "cell_type": "code",
   "execution_count": 68,
   "metadata": {
    "scrolled": true
   },
   "outputs": [
    {
     "data": {
      "text/plain": [
       "<tf.Tensor: shape=(4, 32, 32), dtype=float32, numpy=\n",
       "array([[[ 2.3974035e+00, -5.7536173e-01, -3.0555096e-01, ...,\n",
       "         -2.5179312e-01, -9.0532327e-01, -1.7765080e+00],\n",
       "        [ 1.8117288e+00, -4.5347640e-01,  5.4488367e-01, ...,\n",
       "         -9.3009222e-01,  2.6678589e-01, -6.1634487e-01],\n",
       "        [ 8.7489015e-01,  2.6961789e-01,  8.0154228e-01, ...,\n",
       "          7.3231244e-01,  9.2714804e-01,  1.7077270e+00],\n",
       "        ...,\n",
       "        [ 5.5621761e-01, -5.3076416e-01, -3.9724773e-01, ...,\n",
       "         -1.5956060e+00,  5.4800725e-01,  8.1705946e-01],\n",
       "        [-1.7468108e+00,  6.4293653e-01,  4.1986331e-01, ...,\n",
       "         -7.1470225e-01,  4.5110995e-01,  1.6518049e+00],\n",
       "        [ 1.4909361e-01, -8.6216176e-01,  7.6210618e-01, ...,\n",
       "          3.3806676e-01,  7.2723097e-01,  1.5912973e+00]],\n",
       "\n",
       "       [[ 1.1817775e-01, -5.6356090e-01, -9.2209619e-01, ...,\n",
       "         -1.3788380e-01,  1.4811445e+00,  4.1756611e-02],\n",
       "        [-2.6017490e-01, -3.3882132e-01,  6.4372939e-01, ...,\n",
       "          7.6154268e-01,  2.4162035e+00, -8.2814497e-01],\n",
       "        [ 4.7075886e-01, -3.9441597e-01, -1.0767456e+00, ...,\n",
       "          1.0728000e+00, -1.1850656e+00,  4.0769398e-01],\n",
       "        ...,\n",
       "        [ 1.4927579e+00, -1.4374428e+00,  5.9601700e-01, ...,\n",
       "          3.8027149e-01,  1.0658681e+00, -1.4264909e+00],\n",
       "        [-1.3997896e-01,  4.5856196e-01, -1.1261761e+00, ...,\n",
       "         -1.2947292e+00, -5.6666532e-03,  4.4536772e-01],\n",
       "        [ 1.8587029e+00, -1.2669466e+00,  7.4012303e-01, ...,\n",
       "         -1.1262929e+00, -8.4455095e-02, -4.7427002e-02]],\n",
       "\n",
       "       [[ 7.1747911e-01, -3.3799541e-04,  1.7268361e-01, ...,\n",
       "         -9.0482369e-02, -1.7806706e-01, -1.1362710e+00],\n",
       "        [-8.8422143e-01,  4.5999646e-01, -5.0781173e-01, ...,\n",
       "         -2.2494657e-01,  7.1313637e-01, -1.4687105e+00],\n",
       "        [-2.3669079e-02, -1.2656200e-01,  2.8980413e-02, ...,\n",
       "          1.2867980e+00,  2.3619750e+00, -5.0182503e-02],\n",
       "        ...,\n",
       "        [-2.4760050e-01, -5.9254503e-01,  1.0357651e-01, ...,\n",
       "         -2.3865335e+00,  1.6902643e+00, -8.3385670e-01],\n",
       "        [ 5.7624739e-02, -8.6059481e-01,  1.6574253e-01, ...,\n",
       "         -4.6194625e-01, -4.2178527e-02, -7.4304259e-01],\n",
       "        [ 1.0499799e-01,  5.3751808e-01,  1.1197199e+00, ...,\n",
       "          6.2386715e-01, -1.5531454e+00,  1.5248957e+00]],\n",
       "\n",
       "       [[-1.2245848e+00,  2.3910828e-01, -7.3714840e-01, ...,\n",
       "         -1.3117876e+00,  1.1746958e+00,  1.2806153e+00],\n",
       "        [-7.7147037e-01, -3.6511484e-01, -7.6180881e-01, ...,\n",
       "          1.3811976e+00,  1.0399791e+00,  5.8777058e-01],\n",
       "        [-1.1275740e+00, -6.1869109e-01,  3.0210891e-01, ...,\n",
       "         -4.1096470e-01, -1.4003284e+00,  1.3861680e-01],\n",
       "        ...,\n",
       "        [-2.8209761e-01,  6.5947913e-02, -8.5828260e-02, ...,\n",
       "          8.9182079e-01, -1.7121013e-01,  1.2008071e-01],\n",
       "        [ 1.3109145e+00,  2.3361174e-02,  1.8885210e+00, ...,\n",
       "         -2.3764184e-01,  3.6932236e-01, -2.8663051e-01],\n",
       "        [ 5.8281219e-01, -2.6348132e-01, -5.1495719e-01, ...,\n",
       "         -2.0097236e-01,  7.9536581e-01,  3.8752899e-01]]], dtype=float32)>"
      ]
     },
     "execution_count": 68,
     "metadata": {},
     "output_type": "execute_result"
    }
   ],
   "source": [
    "# 取 G 通道数据\n",
    "x[:,:,:,1] "
   ]
  },
  {
   "cell_type": "code",
   "execution_count": 69,
   "metadata": {
    "scrolled": true
   },
   "outputs": [
    {
     "data": {
      "text/plain": [
       "<tf.Tensor: shape=(2, 32, 32, 2), dtype=float32, numpy=\n",
       "array([[[[ 2.3974035 , -0.79786247],\n",
       "         [-0.5753617 , -1.6149422 ],\n",
       "         [-0.30555096,  1.0897659 ],\n",
       "         ...,\n",
       "         [-0.25179312,  0.09448314],\n",
       "         [-0.90532327, -1.3662018 ],\n",
       "         [-1.776508  ,  0.5103862 ]],\n",
       "\n",
       "        [[ 1.8117288 , -0.66141796],\n",
       "         [-0.4534764 ,  0.36047283],\n",
       "         [ 0.54488367, -1.4706944 ],\n",
       "         ...,\n",
       "         [-0.9300922 , -0.40194476],\n",
       "         [ 0.2667859 , -1.0951092 ],\n",
       "         [-0.61634487, -0.19304866]],\n",
       "\n",
       "        [[ 0.87489015,  0.9438022 ],\n",
       "         [ 0.2696179 ,  0.11882564],\n",
       "         [ 0.8015423 , -0.94609094],\n",
       "         ...,\n",
       "         [ 0.73231244, -0.13912751],\n",
       "         [ 0.92714804,  2.41525   ],\n",
       "         [ 1.707727  , -0.6999736 ]],\n",
       "\n",
       "        ...,\n",
       "\n",
       "        [[ 0.5562176 , -0.03823125],\n",
       "         [-0.53076416,  0.05232186],\n",
       "         [-0.39724773,  1.7282252 ],\n",
       "         ...,\n",
       "         [-1.595606  , -0.61250764],\n",
       "         [ 0.54800725,  1.0931596 ],\n",
       "         [ 0.81705946,  1.6207026 ]],\n",
       "\n",
       "        [[-1.7468108 , -0.6248461 ],\n",
       "         [ 0.6429365 ,  0.49168864],\n",
       "         [ 0.4198633 ,  0.78399867],\n",
       "         ...,\n",
       "         [-0.71470225,  0.86869955],\n",
       "         [ 0.45110995, -0.08308572],\n",
       "         [ 1.6518049 ,  0.09804867]],\n",
       "\n",
       "        [[ 0.14909361, -0.54993355],\n",
       "         [-0.86216176,  0.43521821],\n",
       "         [ 0.7621062 ,  1.0222224 ],\n",
       "         ...,\n",
       "         [ 0.33806676, -0.14330216],\n",
       "         [ 0.72723097,  0.27530336],\n",
       "         [ 1.5912973 ,  0.7335854 ]]],\n",
       "\n",
       "\n",
       "       [[[ 0.11817775,  0.8132619 ],\n",
       "         [-0.5635609 , -0.34594944],\n",
       "         [-0.9220962 , -0.84565496],\n",
       "         ...,\n",
       "         [-0.1378838 , -1.4118916 ],\n",
       "         [ 1.4811445 ,  0.48708886],\n",
       "         [ 0.04175661,  0.70388335]],\n",
       "\n",
       "        [[-0.2601749 , -1.2994212 ],\n",
       "         [-0.33882132, -0.39204648],\n",
       "         [ 0.6437294 ,  0.0803286 ],\n",
       "         ...,\n",
       "         [ 0.7615427 , -0.1592006 ],\n",
       "         [ 2.4162035 ,  0.89400506],\n",
       "         [-0.82814497,  1.469056  ]],\n",
       "\n",
       "        [[ 0.47075886, -0.944165  ],\n",
       "         [-0.39441597,  2.8954527 ],\n",
       "         [-1.0767456 ,  0.12409434],\n",
       "         ...,\n",
       "         [ 1.0728    , -0.32831505],\n",
       "         [-1.1850656 ,  0.6291358 ],\n",
       "         [ 0.40769398,  0.6293485 ]],\n",
       "\n",
       "        ...,\n",
       "\n",
       "        [[ 1.4927579 ,  1.2711349 ],\n",
       "         [-1.4374428 ,  1.6467618 ],\n",
       "         [ 0.596017  ,  1.5879424 ],\n",
       "         ...,\n",
       "         [ 0.3802715 ,  1.2141852 ],\n",
       "         [ 1.0658681 ,  0.11027076],\n",
       "         [-1.4264909 , -0.9977349 ]],\n",
       "\n",
       "        [[-0.13997896, -0.94118243],\n",
       "         [ 0.45856196,  1.7327545 ],\n",
       "         [-1.1261761 ,  2.553288  ],\n",
       "         ...,\n",
       "         [-1.2947292 ,  1.7598741 ],\n",
       "         [-0.00566665,  0.34189084],\n",
       "         [ 0.44536772,  0.711398  ]],\n",
       "\n",
       "        [[ 1.8587029 ,  0.7383374 ],\n",
       "         [-1.2669466 ,  1.3362546 ],\n",
       "         [ 0.74012303,  2.7279093 ],\n",
       "         ...,\n",
       "         [-1.126293  ,  0.4696739 ],\n",
       "         [-0.0844551 , -0.2301661 ],\n",
       "         [-0.047427  , -0.14888594]]]], dtype=float32)>"
      ]
     },
     "execution_count": 69,
     "metadata": {},
     "output_type": "execute_result"
    }
   ],
   "source": [
    "# 读取第 1~2 张图片的 G/B 通道数据\n",
    "# 高宽维度全部采集\n",
    "x[0:2,...,1:] "
   ]
  },
  {
   "cell_type": "code",
   "execution_count": 70,
   "metadata": {
    "scrolled": true
   },
   "outputs": [
    {
     "data": {
      "text/plain": [
       "<tf.Tensor: shape=(2, 32, 32, 3), dtype=float32, numpy=\n",
       "array([[[[-9.13613081e-01,  7.17479110e-01,  3.73870209e-02],\n",
       "         [-3.07218194e-01, -3.37995414e-04, -3.08630913e-01],\n",
       "         [-1.90238237e+00,  1.72683612e-01,  6.54973447e-01],\n",
       "         ...,\n",
       "         [-9.13444519e-01, -9.04823691e-02,  3.54621768e-01],\n",
       "         [ 1.02231157e+00, -1.78067058e-01, -3.72424841e-01],\n",
       "         [ 1.37622726e+00, -1.13627100e+00,  1.85540903e+00]],\n",
       "\n",
       "        [[ 1.01813233e+00, -8.84221435e-01,  6.59429014e-01],\n",
       "         [ 1.31327248e+00,  4.59996462e-01,  1.00966346e+00],\n",
       "         [-1.09486020e+00, -5.07811725e-01,  6.95570409e-01],\n",
       "         ...,\n",
       "         [ 7.68788934e-01, -2.24946573e-01,  4.27832127e-01],\n",
       "         [ 2.59618044e-01,  7.13136375e-01,  9.17297721e-01],\n",
       "         [-2.58289754e-01, -1.46871054e+00, -5.84204853e-01]],\n",
       "\n",
       "        [[ 1.42613232e+00, -2.36690789e-02,  6.83636844e-01],\n",
       "         [ 9.90050361e-02, -1.26561999e-01, -3.87081146e-01],\n",
       "         [-1.17397869e+00,  2.89804135e-02,  6.09598719e-02],\n",
       "         ...,\n",
       "         [-9.74205583e-02,  1.28679800e+00,  1.89236724e+00],\n",
       "         [ 4.71356362e-01,  2.36197495e+00, -4.70556647e-01],\n",
       "         [-1.47209990e+00, -5.01825027e-02, -4.69840437e-01]],\n",
       "\n",
       "        ...,\n",
       "\n",
       "        [[ 1.80250213e-01, -2.47600496e-01,  2.59975851e-01],\n",
       "         [ 6.29454017e-01, -5.92545033e-01, -4.58129138e-01],\n",
       "         [ 8.31709087e-01,  1.03576511e-01,  3.35700437e-02],\n",
       "         ...,\n",
       "         [-7.69618452e-01, -2.38653350e+00,  1.10029030e+00],\n",
       "         [ 1.48355055e+00,  1.69026434e+00, -3.33093673e-01],\n",
       "         [ 4.18483406e-01, -8.33856702e-01, -5.79081655e-01]],\n",
       "\n",
       "        [[-1.52487278e-01,  5.76247387e-02,  1.14386737e+00],\n",
       "         [-1.68357298e-01, -8.60594809e-01,  4.30120707e-01],\n",
       "         [ 1.42184734e+00,  1.65742531e-01, -6.34635806e-01],\n",
       "         ...,\n",
       "         [-1.16729510e+00, -4.61946249e-01, -8.09755623e-02],\n",
       "         [-5.92641175e-01, -4.21785265e-02, -1.28186750e+00],\n",
       "         [-1.38375723e+00, -7.43042588e-01, -1.51962161e+00]],\n",
       "\n",
       "        [[-1.10104442e+00,  1.04997993e-01,  1.01931266e-01],\n",
       "         [ 2.55448699e-01,  5.37518084e-01,  2.20001951e-01],\n",
       "         [ 4.58258301e-01,  1.11971986e+00, -1.00704782e-01],\n",
       "         ...,\n",
       "         [ 2.90307254e-01,  6.23867154e-01, -2.70181417e-01],\n",
       "         [-1.33345902e+00, -1.55314541e+00, -4.21707332e-02],\n",
       "         [-3.08650136e-01,  1.52489567e+00, -1.48956490e+00]]],\n",
       "\n",
       "\n",
       "       [[[-2.02956036e-01, -1.22458482e+00,  8.40441406e-01],\n",
       "         [ 4.51536149e-01,  2.39108279e-01,  7.15750530e-02],\n",
       "         [-1.07311451e+00, -7.37148404e-01,  7.17350170e-02],\n",
       "         ...,\n",
       "         [-3.96307856e-01, -1.31178761e+00,  1.08364105e+00],\n",
       "         [ 6.53770193e-02,  1.17469585e+00,  1.87258303e-01],\n",
       "         [ 1.11734593e+00,  1.28061533e+00, -1.35911167e-01]],\n",
       "\n",
       "        [[-1.84277177e-01, -7.71470368e-01, -4.48015779e-01],\n",
       "         [ 1.65742743e+00, -3.65114838e-01, -4.63456869e-01],\n",
       "         [-5.78672826e-01, -7.61808813e-01, -7.04129696e-01],\n",
       "         ...,\n",
       "         [ 3.80811840e-01,  1.38119757e+00, -6.63606897e-02],\n",
       "         [ 8.61570477e-01,  1.03997910e+00,  3.87857109e-01],\n",
       "         [-4.74740267e-02,  5.87770581e-01, -6.95640147e-01]],\n",
       "\n",
       "        [[ 1.25780785e+00, -1.12757397e+00, -1.22770500e+00],\n",
       "         [ 1.42529917e+00, -6.18691087e-01,  1.37467003e+00],\n",
       "         [-1.36662447e+00,  3.02108914e-01,  7.27144957e-01],\n",
       "         ...,\n",
       "         [-2.73377895e-01, -4.10964698e-01, -1.02908276e-01],\n",
       "         [-1.24854589e+00, -1.40032840e+00, -8.23165655e-01],\n",
       "         [-4.71718758e-01,  1.38616800e-01,  5.35454452e-01]],\n",
       "\n",
       "        ...,\n",
       "\n",
       "        [[ 3.85908484e-02, -2.82097608e-01,  4.92837340e-01],\n",
       "         [ 1.13577080e+00,  6.59479126e-02, -1.62453961e+00],\n",
       "         [-1.16191852e+00, -8.58282596e-02, -1.90633416e+00],\n",
       "         ...,\n",
       "         [ 4.53696519e-01,  8.91820788e-01, -1.36035752e+00],\n",
       "         [ 1.20281458e+00, -1.71210125e-01, -1.67121902e-01],\n",
       "         [-1.50195563e+00,  1.20080709e-01,  2.31483197e+00]],\n",
       "\n",
       "        [[-5.09241879e-01,  1.31091452e+00,  2.78106451e-01],\n",
       "         [ 1.06875885e+00,  2.33611744e-02, -9.16758835e-01],\n",
       "         [-2.15171456e+00,  1.88852096e+00,  1.21709442e+00],\n",
       "         ...,\n",
       "         [ 2.50668198e-01, -2.37641841e-01,  1.20704904e-01],\n",
       "         [-8.95964921e-01,  3.69322360e-01, -1.05175483e+00],\n",
       "         [-1.00663090e+00, -2.86630511e-01, -8.99709046e-01]],\n",
       "\n",
       "        [[ 1.25022903e-01,  5.82812190e-01,  1.08592331e+00],\n",
       "         [-1.27354395e+00, -2.63481319e-01,  1.26821625e+00],\n",
       "         [ 8.10564339e-01, -5.14957190e-01, -3.32788289e-01],\n",
       "         ...,\n",
       "         [ 1.52803457e+00, -2.00972363e-01, -1.98813930e-01],\n",
       "         [-1.36454153e+00,  7.95365810e-01, -2.20510840e+00],\n",
       "         [ 1.59396708e+00,  3.87528986e-01,  2.78531969e-01]]]],\n",
       "      dtype=float32)>"
      ]
     },
     "execution_count": 70,
     "metadata": {},
     "output_type": "execute_result"
    }
   ],
   "source": [
    "# 读取最后 2 张图片\n",
    "# 高、宽、通道维度全部采集，等价于 x[2:]\n",
    "x[2:,...] "
   ]
  },
  {
   "cell_type": "code",
   "execution_count": 71,
   "metadata": {},
   "outputs": [
    {
     "data": {
      "text/plain": [
       "<tf.Tensor: shape=(4, 32, 32, 2), dtype=float32, numpy=\n",
       "array([[[[ 4.6494487e-01,  2.3974035e+00],\n",
       "         [-7.6724207e-01, -5.7536173e-01],\n",
       "         [-6.3064986e-01, -3.0555096e-01],\n",
       "         ...,\n",
       "         [ 2.0730615e+00, -2.5179312e-01],\n",
       "         [-3.3985403e-01, -9.0532327e-01],\n",
       "         [-1.0563951e+00, -1.7765080e+00]],\n",
       "\n",
       "        [[ 9.7876000e-01,  1.8117288e+00],\n",
       "         [ 1.2828418e+00, -4.5347640e-01],\n",
       "         [-6.5281451e-01,  5.4488367e-01],\n",
       "         ...,\n",
       "         [-1.0053632e+00, -9.3009222e-01],\n",
       "         [ 1.4615265e+00,  2.6678589e-01],\n",
       "         [ 1.3942121e+00, -6.1634487e-01]],\n",
       "\n",
       "        [[-7.3425102e-01,  8.7489015e-01],\n",
       "         [ 8.7234581e-01,  2.6961789e-01],\n",
       "         [-1.1001766e+00,  8.0154228e-01],\n",
       "         ...,\n",
       "         [ 1.3037899e+00,  7.3231244e-01],\n",
       "         [-1.1149278e-01,  9.2714804e-01],\n",
       "         [-1.6617715e+00,  1.7077270e+00]],\n",
       "\n",
       "        ...,\n",
       "\n",
       "        [[ 1.0864844e+00,  5.5621761e-01],\n",
       "         [-1.4636632e+00, -5.3076416e-01],\n",
       "         [-3.7740993e-01, -3.9724773e-01],\n",
       "         ...,\n",
       "         [-1.5541735e+00, -1.5956060e+00],\n",
       "         [ 2.7682388e-01,  5.4800725e-01],\n",
       "         [ 6.1134881e-01,  8.1705946e-01]],\n",
       "\n",
       "        [[ 1.1459383e+00, -1.7468108e+00],\n",
       "         [-1.7232637e-01,  6.4293653e-01],\n",
       "         [-7.0796740e-01,  4.1986331e-01],\n",
       "         ...,\n",
       "         [-1.1809199e+00, -7.1470225e-01],\n",
       "         [-1.4715160e-02,  4.5110995e-01],\n",
       "         [ 1.9531298e+00,  1.6518049e+00]],\n",
       "\n",
       "        [[-1.2430459e+00,  1.4909361e-01],\n",
       "         [-1.3318313e+00, -8.6216176e-01],\n",
       "         [ 1.1716890e+00,  7.6210618e-01],\n",
       "         ...,\n",
       "         [ 6.1649638e-01,  3.3806676e-01],\n",
       "         [ 1.7034026e+00,  7.2723097e-01],\n",
       "         [ 2.8546867e-01,  1.5912973e+00]]],\n",
       "\n",
       "\n",
       "       [[[ 8.5639250e-01,  1.1817775e-01],\n",
       "         [-5.7364070e-01, -5.6356090e-01],\n",
       "         [-1.1076710e-01, -9.2209619e-01],\n",
       "         ...,\n",
       "         [-9.6687949e-01, -1.3788380e-01],\n",
       "         [ 9.8396492e-01,  1.4811445e+00],\n",
       "         [ 3.6230654e-02,  4.1756611e-02]],\n",
       "\n",
       "        [[ 9.0536422e-01, -2.6017490e-01],\n",
       "         [ 4.4077736e-01, -3.3882132e-01],\n",
       "         [-6.3987237e-01,  6.4372939e-01],\n",
       "         ...,\n",
       "         [ 7.8096247e-01,  7.6154268e-01],\n",
       "         [-3.1259913e-02,  2.4162035e+00],\n",
       "         [ 1.3665964e-01, -8.2814497e-01]],\n",
       "\n",
       "        [[ 5.2145052e-01,  4.7075886e-01],\n",
       "         [-6.5370983e-01, -3.9441597e-01],\n",
       "         [ 1.1106136e+00, -1.0767456e+00],\n",
       "         ...,\n",
       "         [ 1.6726091e+00,  1.0728000e+00],\n",
       "         [-7.8148544e-01, -1.1850656e+00],\n",
       "         [ 7.5324398e-01,  4.0769398e-01]],\n",
       "\n",
       "        ...,\n",
       "\n",
       "        [[-1.9179577e-01,  1.4927579e+00],\n",
       "         [-3.8267273e-01, -1.4374428e+00],\n",
       "         [ 1.2206509e+00,  5.9601700e-01],\n",
       "         ...,\n",
       "         [ 8.7122679e-01,  3.8027149e-01],\n",
       "         [ 5.1336360e-01,  1.0658681e+00],\n",
       "         [-6.4751142e-01, -1.4264909e+00]],\n",
       "\n",
       "        [[ 1.9105401e+00, -1.3997896e-01],\n",
       "         [ 1.3574691e-01,  4.5856196e-01],\n",
       "         [-6.2248534e-01, -1.1261761e+00],\n",
       "         ...,\n",
       "         [ 1.0650347e+00, -1.2947292e+00],\n",
       "         [ 1.3937934e-01, -5.6666532e-03],\n",
       "         [ 1.9108397e-01,  4.4536772e-01]],\n",
       "\n",
       "        [[-1.1499717e+00,  1.8587029e+00],\n",
       "         [ 6.0002220e-01, -1.2669466e+00],\n",
       "         [ 5.0705612e-01,  7.4012303e-01],\n",
       "         ...,\n",
       "         [-5.4955196e-01, -1.1262929e+00],\n",
       "         [ 5.0818378e-01, -8.4455095e-02],\n",
       "         [-1.9122151e+00, -4.7427002e-02]]],\n",
       "\n",
       "\n",
       "       [[[-9.1361308e-01,  7.1747911e-01],\n",
       "         [-3.0721819e-01, -3.3799541e-04],\n",
       "         [-1.9023824e+00,  1.7268361e-01],\n",
       "         ...,\n",
       "         [-9.1344452e-01, -9.0482369e-02],\n",
       "         [ 1.0223116e+00, -1.7806706e-01],\n",
       "         [ 1.3762273e+00, -1.1362710e+00]],\n",
       "\n",
       "        [[ 1.0181323e+00, -8.8422143e-01],\n",
       "         [ 1.3132725e+00,  4.5999646e-01],\n",
       "         [-1.0948602e+00, -5.0781173e-01],\n",
       "         ...,\n",
       "         [ 7.6878893e-01, -2.2494657e-01],\n",
       "         [ 2.5961804e-01,  7.1313637e-01],\n",
       "         [-2.5828975e-01, -1.4687105e+00]],\n",
       "\n",
       "        [[ 1.4261323e+00, -2.3669079e-02],\n",
       "         [ 9.9005036e-02, -1.2656200e-01],\n",
       "         [-1.1739787e+00,  2.8980413e-02],\n",
       "         ...,\n",
       "         [-9.7420558e-02,  1.2867980e+00],\n",
       "         [ 4.7135636e-01,  2.3619750e+00],\n",
       "         [-1.4720999e+00, -5.0182503e-02]],\n",
       "\n",
       "        ...,\n",
       "\n",
       "        [[ 1.8025021e-01, -2.4760050e-01],\n",
       "         [ 6.2945402e-01, -5.9254503e-01],\n",
       "         [ 8.3170909e-01,  1.0357651e-01],\n",
       "         ...,\n",
       "         [-7.6961845e-01, -2.3865335e+00],\n",
       "         [ 1.4835505e+00,  1.6902643e+00],\n",
       "         [ 4.1848341e-01, -8.3385670e-01]],\n",
       "\n",
       "        [[-1.5248728e-01,  5.7624739e-02],\n",
       "         [-1.6835730e-01, -8.6059481e-01],\n",
       "         [ 1.4218473e+00,  1.6574253e-01],\n",
       "         ...,\n",
       "         [-1.1672951e+00, -4.6194625e-01],\n",
       "         [-5.9264117e-01, -4.2178527e-02],\n",
       "         [-1.3837572e+00, -7.4304259e-01]],\n",
       "\n",
       "        [[-1.1010444e+00,  1.0499799e-01],\n",
       "         [ 2.5544870e-01,  5.3751808e-01],\n",
       "         [ 4.5825830e-01,  1.1197199e+00],\n",
       "         ...,\n",
       "         [ 2.9030725e-01,  6.2386715e-01],\n",
       "         [-1.3334590e+00, -1.5531454e+00],\n",
       "         [-3.0865014e-01,  1.5248957e+00]]],\n",
       "\n",
       "\n",
       "       [[[-2.0295604e-01, -1.2245848e+00],\n",
       "         [ 4.5153615e-01,  2.3910828e-01],\n",
       "         [-1.0731145e+00, -7.3714840e-01],\n",
       "         ...,\n",
       "         [-3.9630786e-01, -1.3117876e+00],\n",
       "         [ 6.5377019e-02,  1.1746958e+00],\n",
       "         [ 1.1173459e+00,  1.2806153e+00]],\n",
       "\n",
       "        [[-1.8427718e-01, -7.7147037e-01],\n",
       "         [ 1.6574274e+00, -3.6511484e-01],\n",
       "         [-5.7867283e-01, -7.6180881e-01],\n",
       "         ...,\n",
       "         [ 3.8081184e-01,  1.3811976e+00],\n",
       "         [ 8.6157048e-01,  1.0399791e+00],\n",
       "         [-4.7474027e-02,  5.8777058e-01]],\n",
       "\n",
       "        [[ 1.2578079e+00, -1.1275740e+00],\n",
       "         [ 1.4252992e+00, -6.1869109e-01],\n",
       "         [-1.3666245e+00,  3.0210891e-01],\n",
       "         ...,\n",
       "         [-2.7337790e-01, -4.1096470e-01],\n",
       "         [-1.2485459e+00, -1.4003284e+00],\n",
       "         [-4.7171876e-01,  1.3861680e-01]],\n",
       "\n",
       "        ...,\n",
       "\n",
       "        [[ 3.8590848e-02, -2.8209761e-01],\n",
       "         [ 1.1357708e+00,  6.5947913e-02],\n",
       "         [-1.1619185e+00, -8.5828260e-02],\n",
       "         ...,\n",
       "         [ 4.5369652e-01,  8.9182079e-01],\n",
       "         [ 1.2028146e+00, -1.7121013e-01],\n",
       "         [-1.5019556e+00,  1.2008071e-01]],\n",
       "\n",
       "        [[-5.0924188e-01,  1.3109145e+00],\n",
       "         [ 1.0687588e+00,  2.3361174e-02],\n",
       "         [-2.1517146e+00,  1.8885210e+00],\n",
       "         ...,\n",
       "         [ 2.5066820e-01, -2.3764184e-01],\n",
       "         [-8.9596492e-01,  3.6932236e-01],\n",
       "         [-1.0066309e+00, -2.8663051e-01]],\n",
       "\n",
       "        [[ 1.2502290e-01,  5.8281219e-01],\n",
       "         [-1.2735440e+00, -2.6348132e-01],\n",
       "         [ 8.1056434e-01, -5.1495719e-01],\n",
       "         ...,\n",
       "         [ 1.5280346e+00, -2.0097236e-01],\n",
       "         [-1.3645415e+00,  7.9536581e-01],\n",
       "         [ 1.5939671e+00,  3.8752899e-01]]]], dtype=float32)>"
      ]
     },
     "execution_count": 71,
     "metadata": {},
     "output_type": "execute_result"
    }
   ],
   "source": [
    "# 读取 R/G 通道数据\n",
    "# 所有样本，所有高、宽的前 2 个通道\n",
    "x[...,:2] "
   ]
  },
  {
   "cell_type": "markdown",
   "metadata": {},
   "source": [
    "## 维度变换\n",
    "\n",
    "### 改变视图"
   ]
  },
  {
   "cell_type": "code",
   "execution_count": 72,
   "metadata": {
    "scrolled": true
   },
   "outputs": [
    {
     "data": {
      "text/plain": [
       "<tf.Tensor: shape=(2, 4, 4, 3), dtype=int32, numpy=\n",
       "array([[[[ 0,  1,  2],\n",
       "         [ 3,  4,  5],\n",
       "         [ 6,  7,  8],\n",
       "         [ 9, 10, 11]],\n",
       "\n",
       "        [[12, 13, 14],\n",
       "         [15, 16, 17],\n",
       "         [18, 19, 20],\n",
       "         [21, 22, 23]],\n",
       "\n",
       "        [[24, 25, 26],\n",
       "         [27, 28, 29],\n",
       "         [30, 31, 32],\n",
       "         [33, 34, 35]],\n",
       "\n",
       "        [[36, 37, 38],\n",
       "         [39, 40, 41],\n",
       "         [42, 43, 44],\n",
       "         [45, 46, 47]]],\n",
       "\n",
       "\n",
       "       [[[48, 49, 50],\n",
       "         [51, 52, 53],\n",
       "         [54, 55, 56],\n",
       "         [57, 58, 59]],\n",
       "\n",
       "        [[60, 61, 62],\n",
       "         [63, 64, 65],\n",
       "         [66, 67, 68],\n",
       "         [69, 70, 71]],\n",
       "\n",
       "        [[72, 73, 74],\n",
       "         [75, 76, 77],\n",
       "         [78, 79, 80],\n",
       "         [81, 82, 83]],\n",
       "\n",
       "        [[84, 85, 86],\n",
       "         [87, 88, 89],\n",
       "         [90, 91, 92],\n",
       "         [93, 94, 95]]]], dtype=int32)>"
      ]
     },
     "execution_count": 72,
     "metadata": {},
     "output_type": "execute_result"
    }
   ],
   "source": [
    "# 生成向量\n",
    "x=tf.range(96)\n",
    "# 改变 x 的视图，获得 4D 张量，存储并未改变\n",
    "x=tf.reshape(x,[2,4,4,3]) \n",
    "x"
   ]
  },
  {
   "cell_type": "markdown",
   "metadata": {},
   "source": [
    "### 改变视图"
   ]
  },
  {
   "cell_type": "markdown",
   "metadata": {},
   "source": [
    "我们通过 tf.range()模拟生成一个向量数据，并通过 tf.reshape 视图改变函数产生不同的视图"
   ]
  },
  {
   "cell_type": "code",
   "execution_count": 73,
   "metadata": {
    "scrolled": true
   },
   "outputs": [
    {
     "data": {
      "text/plain": [
       "<tf.Tensor: shape=(2, 4, 4, 3), dtype=int32, numpy=\n",
       "array([[[[ 0,  1,  2],\n",
       "         [ 3,  4,  5],\n",
       "         [ 6,  7,  8],\n",
       "         [ 9, 10, 11]],\n",
       "\n",
       "        [[12, 13, 14],\n",
       "         [15, 16, 17],\n",
       "         [18, 19, 20],\n",
       "         [21, 22, 23]],\n",
       "\n",
       "        [[24, 25, 26],\n",
       "         [27, 28, 29],\n",
       "         [30, 31, 32],\n",
       "         [33, 34, 35]],\n",
       "\n",
       "        [[36, 37, 38],\n",
       "         [39, 40, 41],\n",
       "         [42, 43, 44],\n",
       "         [45, 46, 47]]],\n",
       "\n",
       "\n",
       "       [[[48, 49, 50],\n",
       "         [51, 52, 53],\n",
       "         [54, 55, 56],\n",
       "         [57, 58, 59]],\n",
       "\n",
       "        [[60, 61, 62],\n",
       "         [63, 64, 65],\n",
       "         [66, 67, 68],\n",
       "         [69, 70, 71]],\n",
       "\n",
       "        [[72, 73, 74],\n",
       "         [75, 76, 77],\n",
       "         [78, 79, 80],\n",
       "         [81, 82, 83]],\n",
       "\n",
       "        [[84, 85, 86],\n",
       "         [87, 88, 89],\n",
       "         [90, 91, 92],\n",
       "         [93, 94, 95]]]], dtype=int32)>"
      ]
     },
     "execution_count": 73,
     "metadata": {},
     "output_type": "execute_result"
    }
   ],
   "source": [
    "# 生成向量\n",
    "x = tf.range(96) \n",
    "# 改变 x 的视图，获得 4D 张量，存储并未改变\n",
    "x = tf.reshape(x,[2,4,4,3]) \n",
    "x"
   ]
  },
  {
   "cell_type": "code",
   "execution_count": 74,
   "metadata": {},
   "outputs": [
    {
     "data": {
      "text/plain": [
       "(4, TensorShape([2, 4, 4, 3]))"
      ]
     },
     "execution_count": 74,
     "metadata": {},
     "output_type": "execute_result"
    }
   ],
   "source": [
    "# 获取张量的维度数和形状列表\n",
    "x.ndim,x.shape "
   ]
  },
  {
   "cell_type": "markdown",
   "metadata": {},
   "source": [
    "通过 tf.reshape(x, new_shape)，可以将张量的视图任意地合法改变"
   ]
  },
  {
   "cell_type": "code",
   "execution_count": 75,
   "metadata": {},
   "outputs": [
    {
     "data": {
      "text/plain": [
       "<tf.Tensor: shape=(2, 48), dtype=int32, numpy=\n",
       "array([[ 0,  1,  2,  3,  4,  5,  6,  7,  8,  9, 10, 11, 12, 13, 14, 15,\n",
       "        16, 17, 18, 19, 20, 21, 22, 23, 24, 25, 26, 27, 28, 29, 30, 31,\n",
       "        32, 33, 34, 35, 36, 37, 38, 39, 40, 41, 42, 43, 44, 45, 46, 47],\n",
       "       [48, 49, 50, 51, 52, 53, 54, 55, 56, 57, 58, 59, 60, 61, 62, 63,\n",
       "        64, 65, 66, 67, 68, 69, 70, 71, 72, 73, 74, 75, 76, 77, 78, 79,\n",
       "        80, 81, 82, 83, 84, 85, 86, 87, 88, 89, 90, 91, 92, 93, 94, 95]],\n",
       "      dtype=int32)>"
      ]
     },
     "execution_count": 75,
     "metadata": {},
     "output_type": "execute_result"
    }
   ],
   "source": [
    "tf.reshape(x,[2,-1])"
   ]
  },
  {
   "cell_type": "code",
   "execution_count": 76,
   "metadata": {},
   "outputs": [
    {
     "data": {
      "text/plain": [
       "<tf.Tensor: shape=(2, 4, 12), dtype=int32, numpy=\n",
       "array([[[ 0,  1,  2,  3,  4,  5,  6,  7,  8,  9, 10, 11],\n",
       "        [12, 13, 14, 15, 16, 17, 18, 19, 20, 21, 22, 23],\n",
       "        [24, 25, 26, 27, 28, 29, 30, 31, 32, 33, 34, 35],\n",
       "        [36, 37, 38, 39, 40, 41, 42, 43, 44, 45, 46, 47]],\n",
       "\n",
       "       [[48, 49, 50, 51, 52, 53, 54, 55, 56, 57, 58, 59],\n",
       "        [60, 61, 62, 63, 64, 65, 66, 67, 68, 69, 70, 71],\n",
       "        [72, 73, 74, 75, 76, 77, 78, 79, 80, 81, 82, 83],\n",
       "        [84, 85, 86, 87, 88, 89, 90, 91, 92, 93, 94, 95]]], dtype=int32)>"
      ]
     },
     "execution_count": 76,
     "metadata": {},
     "output_type": "execute_result"
    }
   ],
   "source": [
    " tf.reshape(x,[2,4,12])"
   ]
  },
  {
   "cell_type": "code",
   "execution_count": 77,
   "metadata": {
    "scrolled": true
   },
   "outputs": [
    {
     "data": {
      "text/plain": [
       "<tf.Tensor: shape=(2, 16, 3), dtype=int32, numpy=\n",
       "array([[[ 0,  1,  2],\n",
       "        [ 3,  4,  5],\n",
       "        [ 6,  7,  8],\n",
       "        [ 9, 10, 11],\n",
       "        [12, 13, 14],\n",
       "        [15, 16, 17],\n",
       "        [18, 19, 20],\n",
       "        [21, 22, 23],\n",
       "        [24, 25, 26],\n",
       "        [27, 28, 29],\n",
       "        [30, 31, 32],\n",
       "        [33, 34, 35],\n",
       "        [36, 37, 38],\n",
       "        [39, 40, 41],\n",
       "        [42, 43, 44],\n",
       "        [45, 46, 47]],\n",
       "\n",
       "       [[48, 49, 50],\n",
       "        [51, 52, 53],\n",
       "        [54, 55, 56],\n",
       "        [57, 58, 59],\n",
       "        [60, 61, 62],\n",
       "        [63, 64, 65],\n",
       "        [66, 67, 68],\n",
       "        [69, 70, 71],\n",
       "        [72, 73, 74],\n",
       "        [75, 76, 77],\n",
       "        [78, 79, 80],\n",
       "        [81, 82, 83],\n",
       "        [84, 85, 86],\n",
       "        [87, 88, 89],\n",
       "        [90, 91, 92],\n",
       "        [93, 94, 95]]], dtype=int32)>"
      ]
     },
     "execution_count": 77,
     "metadata": {},
     "output_type": "execute_result"
    }
   ],
   "source": [
    "tf.reshape(x,[2,-1,3])"
   ]
  },
  {
   "cell_type": "markdown",
   "metadata": {},
   "source": [
    "### 增、删维度"
   ]
  },
  {
   "cell_type": "code",
   "execution_count": 78,
   "metadata": {
    "scrolled": true
   },
   "outputs": [
    {
     "data": {
      "text/plain": [
       "<tf.Tensor: shape=(28, 28), dtype=int32, numpy=\n",
       "array([[1, 8, 5, 8, 3, 7, 5, 4, 0, 4, 3, 8, 6, 3, 4, 6, 0, 0, 8, 7, 1, 7,\n",
       "        3, 1, 3, 6, 0, 0],\n",
       "       [6, 8, 8, 0, 4, 6, 3, 2, 7, 3, 8, 1, 6, 9, 5, 6, 9, 4, 2, 1, 6, 9,\n",
       "        3, 1, 7, 9, 2, 8],\n",
       "       [9, 9, 3, 0, 6, 6, 7, 2, 9, 7, 6, 1, 0, 2, 7, 2, 0, 9, 1, 4, 2, 3,\n",
       "        5, 3, 9, 1, 8, 4],\n",
       "       [7, 5, 9, 9, 3, 0, 7, 6, 8, 7, 2, 2, 0, 1, 4, 3, 2, 1, 2, 7, 2, 6,\n",
       "        0, 9, 8, 9, 8, 7],\n",
       "       [8, 0, 8, 0, 4, 6, 5, 3, 6, 6, 9, 2, 9, 0, 8, 0, 8, 6, 4, 4, 4, 1,\n",
       "        8, 8, 0, 5, 3, 8],\n",
       "       [5, 1, 3, 7, 6, 4, 3, 3, 9, 7, 3, 0, 9, 4, 0, 9, 7, 8, 9, 5, 0, 6,\n",
       "        1, 9, 4, 0, 9, 6],\n",
       "       [2, 2, 5, 1, 2, 1, 4, 4, 3, 4, 7, 6, 9, 6, 2, 1, 2, 0, 1, 5, 0, 7,\n",
       "        0, 5, 3, 5, 6, 6],\n",
       "       [1, 9, 6, 6, 3, 8, 5, 0, 8, 8, 4, 0, 1, 8, 7, 4, 6, 9, 7, 9, 2, 7,\n",
       "        5, 3, 5, 3, 9, 3],\n",
       "       [4, 9, 1, 5, 0, 3, 4, 3, 4, 7, 6, 9, 3, 1, 0, 1, 3, 8, 9, 2, 0, 7,\n",
       "        4, 0, 4, 2, 0, 2],\n",
       "       [8, 3, 5, 7, 0, 9, 8, 5, 5, 9, 5, 4, 0, 8, 7, 7, 1, 4, 1, 6, 3, 8,\n",
       "        0, 7, 3, 1, 8, 6],\n",
       "       [5, 6, 6, 8, 9, 4, 5, 2, 5, 6, 7, 8, 0, 8, 1, 0, 2, 5, 2, 3, 5, 2,\n",
       "        6, 2, 8, 6, 2, 2],\n",
       "       [7, 5, 3, 1, 6, 2, 3, 0, 7, 3, 4, 3, 0, 2, 8, 7, 6, 3, 9, 2, 7, 8,\n",
       "        4, 1, 0, 4, 2, 4],\n",
       "       [1, 6, 0, 7, 4, 4, 3, 1, 3, 6, 4, 6, 0, 2, 1, 2, 4, 4, 0, 2, 5, 3,\n",
       "        5, 7, 9, 5, 0, 0],\n",
       "       [3, 1, 3, 6, 8, 5, 8, 5, 6, 8, 4, 5, 9, 0, 2, 8, 3, 9, 2, 5, 4, 6,\n",
       "        0, 8, 1, 5, 9, 4],\n",
       "       [7, 0, 1, 3, 2, 2, 4, 7, 6, 7, 6, 9, 1, 4, 1, 1, 3, 3, 9, 6, 3, 7,\n",
       "        7, 7, 2, 4, 1, 1],\n",
       "       [9, 9, 0, 1, 6, 5, 8, 2, 5, 1, 6, 4, 7, 8, 4, 5, 3, 2, 2, 4, 0, 5,\n",
       "        2, 2, 4, 8, 0, 8],\n",
       "       [1, 0, 9, 2, 2, 8, 8, 1, 5, 6, 1, 9, 5, 8, 3, 9, 2, 6, 2, 7, 9, 8,\n",
       "        8, 8, 8, 4, 0, 4],\n",
       "       [1, 4, 7, 7, 7, 7, 5, 1, 3, 4, 2, 6, 3, 1, 5, 0, 2, 2, 2, 3, 6, 5,\n",
       "        8, 2, 7, 5, 5, 7],\n",
       "       [3, 8, 6, 2, 2, 8, 5, 3, 5, 0, 0, 4, 6, 1, 8, 0, 1, 6, 5, 9, 1, 4,\n",
       "        4, 2, 9, 8, 9, 9],\n",
       "       [9, 3, 0, 9, 6, 3, 7, 9, 1, 2, 5, 4, 0, 8, 4, 6, 2, 2, 0, 2, 7, 7,\n",
       "        9, 3, 2, 4, 4, 1],\n",
       "       [5, 7, 2, 2, 1, 9, 7, 3, 3, 6, 7, 1, 2, 9, 2, 2, 3, 5, 0, 0, 0, 2,\n",
       "        5, 0, 4, 5, 2, 2],\n",
       "       [8, 5, 5, 2, 5, 6, 5, 6, 2, 8, 8, 5, 0, 7, 4, 0, 3, 5, 4, 2, 4, 8,\n",
       "        0, 3, 3, 9, 3, 7],\n",
       "       [1, 0, 8, 7, 3, 2, 8, 7, 7, 9, 4, 6, 0, 2, 2, 2, 1, 7, 6, 3, 3, 4,\n",
       "        2, 5, 0, 2, 5, 4],\n",
       "       [1, 1, 2, 2, 5, 9, 3, 4, 9, 6, 1, 0, 2, 5, 3, 9, 8, 8, 8, 2, 8, 2,\n",
       "        4, 3, 0, 6, 5, 3],\n",
       "       [4, 7, 0, 9, 0, 9, 4, 5, 7, 3, 4, 7, 5, 6, 7, 5, 8, 5, 7, 9, 5, 2,\n",
       "        4, 9, 4, 0, 8, 5],\n",
       "       [0, 3, 8, 3, 8, 4, 8, 7, 8, 9, 4, 1, 8, 4, 0, 0, 7, 9, 5, 5, 6, 4,\n",
       "        9, 5, 2, 8, 1, 8],\n",
       "       [4, 3, 3, 7, 2, 8, 9, 3, 9, 6, 0, 2, 5, 9, 4, 8, 7, 1, 8, 2, 5, 1,\n",
       "        9, 0, 8, 1, 4, 4],\n",
       "       [2, 0, 6, 6, 1, 2, 9, 9, 9, 5, 8, 4, 9, 1, 9, 1, 9, 9, 0, 4, 0, 6,\n",
       "        5, 0, 8, 0, 3, 9]], dtype=int32)>"
      ]
     },
     "execution_count": 78,
     "metadata": {},
     "output_type": "execute_result"
    }
   ],
   "source": [
    "# 产生矩阵\n",
    "x = tf.random.uniform([28,28],maxval=10,dtype=tf.int32)\n",
    "x"
   ]
  },
  {
   "cell_type": "markdown",
   "metadata": {},
   "source": [
    "通过 tf.expand_dims(x, axis)可在指定的 axis 轴前可以插入一个新的维度"
   ]
  },
  {
   "cell_type": "code",
   "execution_count": 79,
   "metadata": {
    "scrolled": true
   },
   "outputs": [
    {
     "data": {
      "text/plain": [
       "<tf.Tensor: shape=(28, 28, 1), dtype=int32, numpy=\n",
       "array([[[1],\n",
       "        [8],\n",
       "        [5],\n",
       "        [8],\n",
       "        [3],\n",
       "        [7],\n",
       "        [5],\n",
       "        [4],\n",
       "        [0],\n",
       "        [4],\n",
       "        [3],\n",
       "        [8],\n",
       "        [6],\n",
       "        [3],\n",
       "        [4],\n",
       "        [6],\n",
       "        [0],\n",
       "        [0],\n",
       "        [8],\n",
       "        [7],\n",
       "        [1],\n",
       "        [7],\n",
       "        [3],\n",
       "        [1],\n",
       "        [3],\n",
       "        [6],\n",
       "        [0],\n",
       "        [0]],\n",
       "\n",
       "       [[6],\n",
       "        [8],\n",
       "        [8],\n",
       "        [0],\n",
       "        [4],\n",
       "        [6],\n",
       "        [3],\n",
       "        [2],\n",
       "        [7],\n",
       "        [3],\n",
       "        [8],\n",
       "        [1],\n",
       "        [6],\n",
       "        [9],\n",
       "        [5],\n",
       "        [6],\n",
       "        [9],\n",
       "        [4],\n",
       "        [2],\n",
       "        [1],\n",
       "        [6],\n",
       "        [9],\n",
       "        [3],\n",
       "        [1],\n",
       "        [7],\n",
       "        [9],\n",
       "        [2],\n",
       "        [8]],\n",
       "\n",
       "       [[9],\n",
       "        [9],\n",
       "        [3],\n",
       "        [0],\n",
       "        [6],\n",
       "        [6],\n",
       "        [7],\n",
       "        [2],\n",
       "        [9],\n",
       "        [7],\n",
       "        [6],\n",
       "        [1],\n",
       "        [0],\n",
       "        [2],\n",
       "        [7],\n",
       "        [2],\n",
       "        [0],\n",
       "        [9],\n",
       "        [1],\n",
       "        [4],\n",
       "        [2],\n",
       "        [3],\n",
       "        [5],\n",
       "        [3],\n",
       "        [9],\n",
       "        [1],\n",
       "        [8],\n",
       "        [4]],\n",
       "\n",
       "       [[7],\n",
       "        [5],\n",
       "        [9],\n",
       "        [9],\n",
       "        [3],\n",
       "        [0],\n",
       "        [7],\n",
       "        [6],\n",
       "        [8],\n",
       "        [7],\n",
       "        [2],\n",
       "        [2],\n",
       "        [0],\n",
       "        [1],\n",
       "        [4],\n",
       "        [3],\n",
       "        [2],\n",
       "        [1],\n",
       "        [2],\n",
       "        [7],\n",
       "        [2],\n",
       "        [6],\n",
       "        [0],\n",
       "        [9],\n",
       "        [8],\n",
       "        [9],\n",
       "        [8],\n",
       "        [7]],\n",
       "\n",
       "       [[8],\n",
       "        [0],\n",
       "        [8],\n",
       "        [0],\n",
       "        [4],\n",
       "        [6],\n",
       "        [5],\n",
       "        [3],\n",
       "        [6],\n",
       "        [6],\n",
       "        [9],\n",
       "        [2],\n",
       "        [9],\n",
       "        [0],\n",
       "        [8],\n",
       "        [0],\n",
       "        [8],\n",
       "        [6],\n",
       "        [4],\n",
       "        [4],\n",
       "        [4],\n",
       "        [1],\n",
       "        [8],\n",
       "        [8],\n",
       "        [0],\n",
       "        [5],\n",
       "        [3],\n",
       "        [8]],\n",
       "\n",
       "       [[5],\n",
       "        [1],\n",
       "        [3],\n",
       "        [7],\n",
       "        [6],\n",
       "        [4],\n",
       "        [3],\n",
       "        [3],\n",
       "        [9],\n",
       "        [7],\n",
       "        [3],\n",
       "        [0],\n",
       "        [9],\n",
       "        [4],\n",
       "        [0],\n",
       "        [9],\n",
       "        [7],\n",
       "        [8],\n",
       "        [9],\n",
       "        [5],\n",
       "        [0],\n",
       "        [6],\n",
       "        [1],\n",
       "        [9],\n",
       "        [4],\n",
       "        [0],\n",
       "        [9],\n",
       "        [6]],\n",
       "\n",
       "       [[2],\n",
       "        [2],\n",
       "        [5],\n",
       "        [1],\n",
       "        [2],\n",
       "        [1],\n",
       "        [4],\n",
       "        [4],\n",
       "        [3],\n",
       "        [4],\n",
       "        [7],\n",
       "        [6],\n",
       "        [9],\n",
       "        [6],\n",
       "        [2],\n",
       "        [1],\n",
       "        [2],\n",
       "        [0],\n",
       "        [1],\n",
       "        [5],\n",
       "        [0],\n",
       "        [7],\n",
       "        [0],\n",
       "        [5],\n",
       "        [3],\n",
       "        [5],\n",
       "        [6],\n",
       "        [6]],\n",
       "\n",
       "       [[1],\n",
       "        [9],\n",
       "        [6],\n",
       "        [6],\n",
       "        [3],\n",
       "        [8],\n",
       "        [5],\n",
       "        [0],\n",
       "        [8],\n",
       "        [8],\n",
       "        [4],\n",
       "        [0],\n",
       "        [1],\n",
       "        [8],\n",
       "        [7],\n",
       "        [4],\n",
       "        [6],\n",
       "        [9],\n",
       "        [7],\n",
       "        [9],\n",
       "        [2],\n",
       "        [7],\n",
       "        [5],\n",
       "        [3],\n",
       "        [5],\n",
       "        [3],\n",
       "        [9],\n",
       "        [3]],\n",
       "\n",
       "       [[4],\n",
       "        [9],\n",
       "        [1],\n",
       "        [5],\n",
       "        [0],\n",
       "        [3],\n",
       "        [4],\n",
       "        [3],\n",
       "        [4],\n",
       "        [7],\n",
       "        [6],\n",
       "        [9],\n",
       "        [3],\n",
       "        [1],\n",
       "        [0],\n",
       "        [1],\n",
       "        [3],\n",
       "        [8],\n",
       "        [9],\n",
       "        [2],\n",
       "        [0],\n",
       "        [7],\n",
       "        [4],\n",
       "        [0],\n",
       "        [4],\n",
       "        [2],\n",
       "        [0],\n",
       "        [2]],\n",
       "\n",
       "       [[8],\n",
       "        [3],\n",
       "        [5],\n",
       "        [7],\n",
       "        [0],\n",
       "        [9],\n",
       "        [8],\n",
       "        [5],\n",
       "        [5],\n",
       "        [9],\n",
       "        [5],\n",
       "        [4],\n",
       "        [0],\n",
       "        [8],\n",
       "        [7],\n",
       "        [7],\n",
       "        [1],\n",
       "        [4],\n",
       "        [1],\n",
       "        [6],\n",
       "        [3],\n",
       "        [8],\n",
       "        [0],\n",
       "        [7],\n",
       "        [3],\n",
       "        [1],\n",
       "        [8],\n",
       "        [6]],\n",
       "\n",
       "       [[5],\n",
       "        [6],\n",
       "        [6],\n",
       "        [8],\n",
       "        [9],\n",
       "        [4],\n",
       "        [5],\n",
       "        [2],\n",
       "        [5],\n",
       "        [6],\n",
       "        [7],\n",
       "        [8],\n",
       "        [0],\n",
       "        [8],\n",
       "        [1],\n",
       "        [0],\n",
       "        [2],\n",
       "        [5],\n",
       "        [2],\n",
       "        [3],\n",
       "        [5],\n",
       "        [2],\n",
       "        [6],\n",
       "        [2],\n",
       "        [8],\n",
       "        [6],\n",
       "        [2],\n",
       "        [2]],\n",
       "\n",
       "       [[7],\n",
       "        [5],\n",
       "        [3],\n",
       "        [1],\n",
       "        [6],\n",
       "        [2],\n",
       "        [3],\n",
       "        [0],\n",
       "        [7],\n",
       "        [3],\n",
       "        [4],\n",
       "        [3],\n",
       "        [0],\n",
       "        [2],\n",
       "        [8],\n",
       "        [7],\n",
       "        [6],\n",
       "        [3],\n",
       "        [9],\n",
       "        [2],\n",
       "        [7],\n",
       "        [8],\n",
       "        [4],\n",
       "        [1],\n",
       "        [0],\n",
       "        [4],\n",
       "        [2],\n",
       "        [4]],\n",
       "\n",
       "       [[1],\n",
       "        [6],\n",
       "        [0],\n",
       "        [7],\n",
       "        [4],\n",
       "        [4],\n",
       "        [3],\n",
       "        [1],\n",
       "        [3],\n",
       "        [6],\n",
       "        [4],\n",
       "        [6],\n",
       "        [0],\n",
       "        [2],\n",
       "        [1],\n",
       "        [2],\n",
       "        [4],\n",
       "        [4],\n",
       "        [0],\n",
       "        [2],\n",
       "        [5],\n",
       "        [3],\n",
       "        [5],\n",
       "        [7],\n",
       "        [9],\n",
       "        [5],\n",
       "        [0],\n",
       "        [0]],\n",
       "\n",
       "       [[3],\n",
       "        [1],\n",
       "        [3],\n",
       "        [6],\n",
       "        [8],\n",
       "        [5],\n",
       "        [8],\n",
       "        [5],\n",
       "        [6],\n",
       "        [8],\n",
       "        [4],\n",
       "        [5],\n",
       "        [9],\n",
       "        [0],\n",
       "        [2],\n",
       "        [8],\n",
       "        [3],\n",
       "        [9],\n",
       "        [2],\n",
       "        [5],\n",
       "        [4],\n",
       "        [6],\n",
       "        [0],\n",
       "        [8],\n",
       "        [1],\n",
       "        [5],\n",
       "        [9],\n",
       "        [4]],\n",
       "\n",
       "       [[7],\n",
       "        [0],\n",
       "        [1],\n",
       "        [3],\n",
       "        [2],\n",
       "        [2],\n",
       "        [4],\n",
       "        [7],\n",
       "        [6],\n",
       "        [7],\n",
       "        [6],\n",
       "        [9],\n",
       "        [1],\n",
       "        [4],\n",
       "        [1],\n",
       "        [1],\n",
       "        [3],\n",
       "        [3],\n",
       "        [9],\n",
       "        [6],\n",
       "        [3],\n",
       "        [7],\n",
       "        [7],\n",
       "        [7],\n",
       "        [2],\n",
       "        [4],\n",
       "        [1],\n",
       "        [1]],\n",
       "\n",
       "       [[9],\n",
       "        [9],\n",
       "        [0],\n",
       "        [1],\n",
       "        [6],\n",
       "        [5],\n",
       "        [8],\n",
       "        [2],\n",
       "        [5],\n",
       "        [1],\n",
       "        [6],\n",
       "        [4],\n",
       "        [7],\n",
       "        [8],\n",
       "        [4],\n",
       "        [5],\n",
       "        [3],\n",
       "        [2],\n",
       "        [2],\n",
       "        [4],\n",
       "        [0],\n",
       "        [5],\n",
       "        [2],\n",
       "        [2],\n",
       "        [4],\n",
       "        [8],\n",
       "        [0],\n",
       "        [8]],\n",
       "\n",
       "       [[1],\n",
       "        [0],\n",
       "        [9],\n",
       "        [2],\n",
       "        [2],\n",
       "        [8],\n",
       "        [8],\n",
       "        [1],\n",
       "        [5],\n",
       "        [6],\n",
       "        [1],\n",
       "        [9],\n",
       "        [5],\n",
       "        [8],\n",
       "        [3],\n",
       "        [9],\n",
       "        [2],\n",
       "        [6],\n",
       "        [2],\n",
       "        [7],\n",
       "        [9],\n",
       "        [8],\n",
       "        [8],\n",
       "        [8],\n",
       "        [8],\n",
       "        [4],\n",
       "        [0],\n",
       "        [4]],\n",
       "\n",
       "       [[1],\n",
       "        [4],\n",
       "        [7],\n",
       "        [7],\n",
       "        [7],\n",
       "        [7],\n",
       "        [5],\n",
       "        [1],\n",
       "        [3],\n",
       "        [4],\n",
       "        [2],\n",
       "        [6],\n",
       "        [3],\n",
       "        [1],\n",
       "        [5],\n",
       "        [0],\n",
       "        [2],\n",
       "        [2],\n",
       "        [2],\n",
       "        [3],\n",
       "        [6],\n",
       "        [5],\n",
       "        [8],\n",
       "        [2],\n",
       "        [7],\n",
       "        [5],\n",
       "        [5],\n",
       "        [7]],\n",
       "\n",
       "       [[3],\n",
       "        [8],\n",
       "        [6],\n",
       "        [2],\n",
       "        [2],\n",
       "        [8],\n",
       "        [5],\n",
       "        [3],\n",
       "        [5],\n",
       "        [0],\n",
       "        [0],\n",
       "        [4],\n",
       "        [6],\n",
       "        [1],\n",
       "        [8],\n",
       "        [0],\n",
       "        [1],\n",
       "        [6],\n",
       "        [5],\n",
       "        [9],\n",
       "        [1],\n",
       "        [4],\n",
       "        [4],\n",
       "        [2],\n",
       "        [9],\n",
       "        [8],\n",
       "        [9],\n",
       "        [9]],\n",
       "\n",
       "       [[9],\n",
       "        [3],\n",
       "        [0],\n",
       "        [9],\n",
       "        [6],\n",
       "        [3],\n",
       "        [7],\n",
       "        [9],\n",
       "        [1],\n",
       "        [2],\n",
       "        [5],\n",
       "        [4],\n",
       "        [0],\n",
       "        [8],\n",
       "        [4],\n",
       "        [6],\n",
       "        [2],\n",
       "        [2],\n",
       "        [0],\n",
       "        [2],\n",
       "        [7],\n",
       "        [7],\n",
       "        [9],\n",
       "        [3],\n",
       "        [2],\n",
       "        [4],\n",
       "        [4],\n",
       "        [1]],\n",
       "\n",
       "       [[5],\n",
       "        [7],\n",
       "        [2],\n",
       "        [2],\n",
       "        [1],\n",
       "        [9],\n",
       "        [7],\n",
       "        [3],\n",
       "        [3],\n",
       "        [6],\n",
       "        [7],\n",
       "        [1],\n",
       "        [2],\n",
       "        [9],\n",
       "        [2],\n",
       "        [2],\n",
       "        [3],\n",
       "        [5],\n",
       "        [0],\n",
       "        [0],\n",
       "        [0],\n",
       "        [2],\n",
       "        [5],\n",
       "        [0],\n",
       "        [4],\n",
       "        [5],\n",
       "        [2],\n",
       "        [2]],\n",
       "\n",
       "       [[8],\n",
       "        [5],\n",
       "        [5],\n",
       "        [2],\n",
       "        [5],\n",
       "        [6],\n",
       "        [5],\n",
       "        [6],\n",
       "        [2],\n",
       "        [8],\n",
       "        [8],\n",
       "        [5],\n",
       "        [0],\n",
       "        [7],\n",
       "        [4],\n",
       "        [0],\n",
       "        [3],\n",
       "        [5],\n",
       "        [4],\n",
       "        [2],\n",
       "        [4],\n",
       "        [8],\n",
       "        [0],\n",
       "        [3],\n",
       "        [3],\n",
       "        [9],\n",
       "        [3],\n",
       "        [7]],\n",
       "\n",
       "       [[1],\n",
       "        [0],\n",
       "        [8],\n",
       "        [7],\n",
       "        [3],\n",
       "        [2],\n",
       "        [8],\n",
       "        [7],\n",
       "        [7],\n",
       "        [9],\n",
       "        [4],\n",
       "        [6],\n",
       "        [0],\n",
       "        [2],\n",
       "        [2],\n",
       "        [2],\n",
       "        [1],\n",
       "        [7],\n",
       "        [6],\n",
       "        [3],\n",
       "        [3],\n",
       "        [4],\n",
       "        [2],\n",
       "        [5],\n",
       "        [0],\n",
       "        [2],\n",
       "        [5],\n",
       "        [4]],\n",
       "\n",
       "       [[1],\n",
       "        [1],\n",
       "        [2],\n",
       "        [2],\n",
       "        [5],\n",
       "        [9],\n",
       "        [3],\n",
       "        [4],\n",
       "        [9],\n",
       "        [6],\n",
       "        [1],\n",
       "        [0],\n",
       "        [2],\n",
       "        [5],\n",
       "        [3],\n",
       "        [9],\n",
       "        [8],\n",
       "        [8],\n",
       "        [8],\n",
       "        [2],\n",
       "        [8],\n",
       "        [2],\n",
       "        [4],\n",
       "        [3],\n",
       "        [0],\n",
       "        [6],\n",
       "        [5],\n",
       "        [3]],\n",
       "\n",
       "       [[4],\n",
       "        [7],\n",
       "        [0],\n",
       "        [9],\n",
       "        [0],\n",
       "        [9],\n",
       "        [4],\n",
       "        [5],\n",
       "        [7],\n",
       "        [3],\n",
       "        [4],\n",
       "        [7],\n",
       "        [5],\n",
       "        [6],\n",
       "        [7],\n",
       "        [5],\n",
       "        [8],\n",
       "        [5],\n",
       "        [7],\n",
       "        [9],\n",
       "        [5],\n",
       "        [2],\n",
       "        [4],\n",
       "        [9],\n",
       "        [4],\n",
       "        [0],\n",
       "        [8],\n",
       "        [5]],\n",
       "\n",
       "       [[0],\n",
       "        [3],\n",
       "        [8],\n",
       "        [3],\n",
       "        [8],\n",
       "        [4],\n",
       "        [8],\n",
       "        [7],\n",
       "        [8],\n",
       "        [9],\n",
       "        [4],\n",
       "        [1],\n",
       "        [8],\n",
       "        [4],\n",
       "        [0],\n",
       "        [0],\n",
       "        [7],\n",
       "        [9],\n",
       "        [5],\n",
       "        [5],\n",
       "        [6],\n",
       "        [4],\n",
       "        [9],\n",
       "        [5],\n",
       "        [2],\n",
       "        [8],\n",
       "        [1],\n",
       "        [8]],\n",
       "\n",
       "       [[4],\n",
       "        [3],\n",
       "        [3],\n",
       "        [7],\n",
       "        [2],\n",
       "        [8],\n",
       "        [9],\n",
       "        [3],\n",
       "        [9],\n",
       "        [6],\n",
       "        [0],\n",
       "        [2],\n",
       "        [5],\n",
       "        [9],\n",
       "        [4],\n",
       "        [8],\n",
       "        [7],\n",
       "        [1],\n",
       "        [8],\n",
       "        [2],\n",
       "        [5],\n",
       "        [1],\n",
       "        [9],\n",
       "        [0],\n",
       "        [8],\n",
       "        [1],\n",
       "        [4],\n",
       "        [4]],\n",
       "\n",
       "       [[2],\n",
       "        [0],\n",
       "        [6],\n",
       "        [6],\n",
       "        [1],\n",
       "        [2],\n",
       "        [9],\n",
       "        [9],\n",
       "        [9],\n",
       "        [5],\n",
       "        [8],\n",
       "        [4],\n",
       "        [9],\n",
       "        [1],\n",
       "        [9],\n",
       "        [1],\n",
       "        [9],\n",
       "        [9],\n",
       "        [0],\n",
       "        [4],\n",
       "        [0],\n",
       "        [6],\n",
       "        [5],\n",
       "        [0],\n",
       "        [8],\n",
       "        [0],\n",
       "        [3],\n",
       "        [9]]], dtype=int32)>"
      ]
     },
     "execution_count": 79,
     "metadata": {},
     "output_type": "execute_result"
    }
   ],
   "source": [
    "# axis=2 表示宽维度后面的一个维度\n",
    "x = tf.expand_dims(x,axis=2) \n",
    "x"
   ]
  },
  {
   "cell_type": "code",
   "execution_count": 80,
   "metadata": {},
   "outputs": [
    {
     "data": {
      "text/plain": [
       "<tf.Tensor: shape=(1, 28, 28, 1), dtype=int32, numpy=\n",
       "array([[[[1],\n",
       "         [8],\n",
       "         [5],\n",
       "         [8],\n",
       "         [3],\n",
       "         [7],\n",
       "         [5],\n",
       "         [4],\n",
       "         [0],\n",
       "         [4],\n",
       "         [3],\n",
       "         [8],\n",
       "         [6],\n",
       "         [3],\n",
       "         [4],\n",
       "         [6],\n",
       "         [0],\n",
       "         [0],\n",
       "         [8],\n",
       "         [7],\n",
       "         [1],\n",
       "         [7],\n",
       "         [3],\n",
       "         [1],\n",
       "         [3],\n",
       "         [6],\n",
       "         [0],\n",
       "         [0]],\n",
       "\n",
       "        [[6],\n",
       "         [8],\n",
       "         [8],\n",
       "         [0],\n",
       "         [4],\n",
       "         [6],\n",
       "         [3],\n",
       "         [2],\n",
       "         [7],\n",
       "         [3],\n",
       "         [8],\n",
       "         [1],\n",
       "         [6],\n",
       "         [9],\n",
       "         [5],\n",
       "         [6],\n",
       "         [9],\n",
       "         [4],\n",
       "         [2],\n",
       "         [1],\n",
       "         [6],\n",
       "         [9],\n",
       "         [3],\n",
       "         [1],\n",
       "         [7],\n",
       "         [9],\n",
       "         [2],\n",
       "         [8]],\n",
       "\n",
       "        [[9],\n",
       "         [9],\n",
       "         [3],\n",
       "         [0],\n",
       "         [6],\n",
       "         [6],\n",
       "         [7],\n",
       "         [2],\n",
       "         [9],\n",
       "         [7],\n",
       "         [6],\n",
       "         [1],\n",
       "         [0],\n",
       "         [2],\n",
       "         [7],\n",
       "         [2],\n",
       "         [0],\n",
       "         [9],\n",
       "         [1],\n",
       "         [4],\n",
       "         [2],\n",
       "         [3],\n",
       "         [5],\n",
       "         [3],\n",
       "         [9],\n",
       "         [1],\n",
       "         [8],\n",
       "         [4]],\n",
       "\n",
       "        [[7],\n",
       "         [5],\n",
       "         [9],\n",
       "         [9],\n",
       "         [3],\n",
       "         [0],\n",
       "         [7],\n",
       "         [6],\n",
       "         [8],\n",
       "         [7],\n",
       "         [2],\n",
       "         [2],\n",
       "         [0],\n",
       "         [1],\n",
       "         [4],\n",
       "         [3],\n",
       "         [2],\n",
       "         [1],\n",
       "         [2],\n",
       "         [7],\n",
       "         [2],\n",
       "         [6],\n",
       "         [0],\n",
       "         [9],\n",
       "         [8],\n",
       "         [9],\n",
       "         [8],\n",
       "         [7]],\n",
       "\n",
       "        [[8],\n",
       "         [0],\n",
       "         [8],\n",
       "         [0],\n",
       "         [4],\n",
       "         [6],\n",
       "         [5],\n",
       "         [3],\n",
       "         [6],\n",
       "         [6],\n",
       "         [9],\n",
       "         [2],\n",
       "         [9],\n",
       "         [0],\n",
       "         [8],\n",
       "         [0],\n",
       "         [8],\n",
       "         [6],\n",
       "         [4],\n",
       "         [4],\n",
       "         [4],\n",
       "         [1],\n",
       "         [8],\n",
       "         [8],\n",
       "         [0],\n",
       "         [5],\n",
       "         [3],\n",
       "         [8]],\n",
       "\n",
       "        [[5],\n",
       "         [1],\n",
       "         [3],\n",
       "         [7],\n",
       "         [6],\n",
       "         [4],\n",
       "         [3],\n",
       "         [3],\n",
       "         [9],\n",
       "         [7],\n",
       "         [3],\n",
       "         [0],\n",
       "         [9],\n",
       "         [4],\n",
       "         [0],\n",
       "         [9],\n",
       "         [7],\n",
       "         [8],\n",
       "         [9],\n",
       "         [5],\n",
       "         [0],\n",
       "         [6],\n",
       "         [1],\n",
       "         [9],\n",
       "         [4],\n",
       "         [0],\n",
       "         [9],\n",
       "         [6]],\n",
       "\n",
       "        [[2],\n",
       "         [2],\n",
       "         [5],\n",
       "         [1],\n",
       "         [2],\n",
       "         [1],\n",
       "         [4],\n",
       "         [4],\n",
       "         [3],\n",
       "         [4],\n",
       "         [7],\n",
       "         [6],\n",
       "         [9],\n",
       "         [6],\n",
       "         [2],\n",
       "         [1],\n",
       "         [2],\n",
       "         [0],\n",
       "         [1],\n",
       "         [5],\n",
       "         [0],\n",
       "         [7],\n",
       "         [0],\n",
       "         [5],\n",
       "         [3],\n",
       "         [5],\n",
       "         [6],\n",
       "         [6]],\n",
       "\n",
       "        [[1],\n",
       "         [9],\n",
       "         [6],\n",
       "         [6],\n",
       "         [3],\n",
       "         [8],\n",
       "         [5],\n",
       "         [0],\n",
       "         [8],\n",
       "         [8],\n",
       "         [4],\n",
       "         [0],\n",
       "         [1],\n",
       "         [8],\n",
       "         [7],\n",
       "         [4],\n",
       "         [6],\n",
       "         [9],\n",
       "         [7],\n",
       "         [9],\n",
       "         [2],\n",
       "         [7],\n",
       "         [5],\n",
       "         [3],\n",
       "         [5],\n",
       "         [3],\n",
       "         [9],\n",
       "         [3]],\n",
       "\n",
       "        [[4],\n",
       "         [9],\n",
       "         [1],\n",
       "         [5],\n",
       "         [0],\n",
       "         [3],\n",
       "         [4],\n",
       "         [3],\n",
       "         [4],\n",
       "         [7],\n",
       "         [6],\n",
       "         [9],\n",
       "         [3],\n",
       "         [1],\n",
       "         [0],\n",
       "         [1],\n",
       "         [3],\n",
       "         [8],\n",
       "         [9],\n",
       "         [2],\n",
       "         [0],\n",
       "         [7],\n",
       "         [4],\n",
       "         [0],\n",
       "         [4],\n",
       "         [2],\n",
       "         [0],\n",
       "         [2]],\n",
       "\n",
       "        [[8],\n",
       "         [3],\n",
       "         [5],\n",
       "         [7],\n",
       "         [0],\n",
       "         [9],\n",
       "         [8],\n",
       "         [5],\n",
       "         [5],\n",
       "         [9],\n",
       "         [5],\n",
       "         [4],\n",
       "         [0],\n",
       "         [8],\n",
       "         [7],\n",
       "         [7],\n",
       "         [1],\n",
       "         [4],\n",
       "         [1],\n",
       "         [6],\n",
       "         [3],\n",
       "         [8],\n",
       "         [0],\n",
       "         [7],\n",
       "         [3],\n",
       "         [1],\n",
       "         [8],\n",
       "         [6]],\n",
       "\n",
       "        [[5],\n",
       "         [6],\n",
       "         [6],\n",
       "         [8],\n",
       "         [9],\n",
       "         [4],\n",
       "         [5],\n",
       "         [2],\n",
       "         [5],\n",
       "         [6],\n",
       "         [7],\n",
       "         [8],\n",
       "         [0],\n",
       "         [8],\n",
       "         [1],\n",
       "         [0],\n",
       "         [2],\n",
       "         [5],\n",
       "         [2],\n",
       "         [3],\n",
       "         [5],\n",
       "         [2],\n",
       "         [6],\n",
       "         [2],\n",
       "         [8],\n",
       "         [6],\n",
       "         [2],\n",
       "         [2]],\n",
       "\n",
       "        [[7],\n",
       "         [5],\n",
       "         [3],\n",
       "         [1],\n",
       "         [6],\n",
       "         [2],\n",
       "         [3],\n",
       "         [0],\n",
       "         [7],\n",
       "         [3],\n",
       "         [4],\n",
       "         [3],\n",
       "         [0],\n",
       "         [2],\n",
       "         [8],\n",
       "         [7],\n",
       "         [6],\n",
       "         [3],\n",
       "         [9],\n",
       "         [2],\n",
       "         [7],\n",
       "         [8],\n",
       "         [4],\n",
       "         [1],\n",
       "         [0],\n",
       "         [4],\n",
       "         [2],\n",
       "         [4]],\n",
       "\n",
       "        [[1],\n",
       "         [6],\n",
       "         [0],\n",
       "         [7],\n",
       "         [4],\n",
       "         [4],\n",
       "         [3],\n",
       "         [1],\n",
       "         [3],\n",
       "         [6],\n",
       "         [4],\n",
       "         [6],\n",
       "         [0],\n",
       "         [2],\n",
       "         [1],\n",
       "         [2],\n",
       "         [4],\n",
       "         [4],\n",
       "         [0],\n",
       "         [2],\n",
       "         [5],\n",
       "         [3],\n",
       "         [5],\n",
       "         [7],\n",
       "         [9],\n",
       "         [5],\n",
       "         [0],\n",
       "         [0]],\n",
       "\n",
       "        [[3],\n",
       "         [1],\n",
       "         [3],\n",
       "         [6],\n",
       "         [8],\n",
       "         [5],\n",
       "         [8],\n",
       "         [5],\n",
       "         [6],\n",
       "         [8],\n",
       "         [4],\n",
       "         [5],\n",
       "         [9],\n",
       "         [0],\n",
       "         [2],\n",
       "         [8],\n",
       "         [3],\n",
       "         [9],\n",
       "         [2],\n",
       "         [5],\n",
       "         [4],\n",
       "         [6],\n",
       "         [0],\n",
       "         [8],\n",
       "         [1],\n",
       "         [5],\n",
       "         [9],\n",
       "         [4]],\n",
       "\n",
       "        [[7],\n",
       "         [0],\n",
       "         [1],\n",
       "         [3],\n",
       "         [2],\n",
       "         [2],\n",
       "         [4],\n",
       "         [7],\n",
       "         [6],\n",
       "         [7],\n",
       "         [6],\n",
       "         [9],\n",
       "         [1],\n",
       "         [4],\n",
       "         [1],\n",
       "         [1],\n",
       "         [3],\n",
       "         [3],\n",
       "         [9],\n",
       "         [6],\n",
       "         [3],\n",
       "         [7],\n",
       "         [7],\n",
       "         [7],\n",
       "         [2],\n",
       "         [4],\n",
       "         [1],\n",
       "         [1]],\n",
       "\n",
       "        [[9],\n",
       "         [9],\n",
       "         [0],\n",
       "         [1],\n",
       "         [6],\n",
       "         [5],\n",
       "         [8],\n",
       "         [2],\n",
       "         [5],\n",
       "         [1],\n",
       "         [6],\n",
       "         [4],\n",
       "         [7],\n",
       "         [8],\n",
       "         [4],\n",
       "         [5],\n",
       "         [3],\n",
       "         [2],\n",
       "         [2],\n",
       "         [4],\n",
       "         [0],\n",
       "         [5],\n",
       "         [2],\n",
       "         [2],\n",
       "         [4],\n",
       "         [8],\n",
       "         [0],\n",
       "         [8]],\n",
       "\n",
       "        [[1],\n",
       "         [0],\n",
       "         [9],\n",
       "         [2],\n",
       "         [2],\n",
       "         [8],\n",
       "         [8],\n",
       "         [1],\n",
       "         [5],\n",
       "         [6],\n",
       "         [1],\n",
       "         [9],\n",
       "         [5],\n",
       "         [8],\n",
       "         [3],\n",
       "         [9],\n",
       "         [2],\n",
       "         [6],\n",
       "         [2],\n",
       "         [7],\n",
       "         [9],\n",
       "         [8],\n",
       "         [8],\n",
       "         [8],\n",
       "         [8],\n",
       "         [4],\n",
       "         [0],\n",
       "         [4]],\n",
       "\n",
       "        [[1],\n",
       "         [4],\n",
       "         [7],\n",
       "         [7],\n",
       "         [7],\n",
       "         [7],\n",
       "         [5],\n",
       "         [1],\n",
       "         [3],\n",
       "         [4],\n",
       "         [2],\n",
       "         [6],\n",
       "         [3],\n",
       "         [1],\n",
       "         [5],\n",
       "         [0],\n",
       "         [2],\n",
       "         [2],\n",
       "         [2],\n",
       "         [3],\n",
       "         [6],\n",
       "         [5],\n",
       "         [8],\n",
       "         [2],\n",
       "         [7],\n",
       "         [5],\n",
       "         [5],\n",
       "         [7]],\n",
       "\n",
       "        [[3],\n",
       "         [8],\n",
       "         [6],\n",
       "         [2],\n",
       "         [2],\n",
       "         [8],\n",
       "         [5],\n",
       "         [3],\n",
       "         [5],\n",
       "         [0],\n",
       "         [0],\n",
       "         [4],\n",
       "         [6],\n",
       "         [1],\n",
       "         [8],\n",
       "         [0],\n",
       "         [1],\n",
       "         [6],\n",
       "         [5],\n",
       "         [9],\n",
       "         [1],\n",
       "         [4],\n",
       "         [4],\n",
       "         [2],\n",
       "         [9],\n",
       "         [8],\n",
       "         [9],\n",
       "         [9]],\n",
       "\n",
       "        [[9],\n",
       "         [3],\n",
       "         [0],\n",
       "         [9],\n",
       "         [6],\n",
       "         [3],\n",
       "         [7],\n",
       "         [9],\n",
       "         [1],\n",
       "         [2],\n",
       "         [5],\n",
       "         [4],\n",
       "         [0],\n",
       "         [8],\n",
       "         [4],\n",
       "         [6],\n",
       "         [2],\n",
       "         [2],\n",
       "         [0],\n",
       "         [2],\n",
       "         [7],\n",
       "         [7],\n",
       "         [9],\n",
       "         [3],\n",
       "         [2],\n",
       "         [4],\n",
       "         [4],\n",
       "         [1]],\n",
       "\n",
       "        [[5],\n",
       "         [7],\n",
       "         [2],\n",
       "         [2],\n",
       "         [1],\n",
       "         [9],\n",
       "         [7],\n",
       "         [3],\n",
       "         [3],\n",
       "         [6],\n",
       "         [7],\n",
       "         [1],\n",
       "         [2],\n",
       "         [9],\n",
       "         [2],\n",
       "         [2],\n",
       "         [3],\n",
       "         [5],\n",
       "         [0],\n",
       "         [0],\n",
       "         [0],\n",
       "         [2],\n",
       "         [5],\n",
       "         [0],\n",
       "         [4],\n",
       "         [5],\n",
       "         [2],\n",
       "         [2]],\n",
       "\n",
       "        [[8],\n",
       "         [5],\n",
       "         [5],\n",
       "         [2],\n",
       "         [5],\n",
       "         [6],\n",
       "         [5],\n",
       "         [6],\n",
       "         [2],\n",
       "         [8],\n",
       "         [8],\n",
       "         [5],\n",
       "         [0],\n",
       "         [7],\n",
       "         [4],\n",
       "         [0],\n",
       "         [3],\n",
       "         [5],\n",
       "         [4],\n",
       "         [2],\n",
       "         [4],\n",
       "         [8],\n",
       "         [0],\n",
       "         [3],\n",
       "         [3],\n",
       "         [9],\n",
       "         [3],\n",
       "         [7]],\n",
       "\n",
       "        [[1],\n",
       "         [0],\n",
       "         [8],\n",
       "         [7],\n",
       "         [3],\n",
       "         [2],\n",
       "         [8],\n",
       "         [7],\n",
       "         [7],\n",
       "         [9],\n",
       "         [4],\n",
       "         [6],\n",
       "         [0],\n",
       "         [2],\n",
       "         [2],\n",
       "         [2],\n",
       "         [1],\n",
       "         [7],\n",
       "         [6],\n",
       "         [3],\n",
       "         [3],\n",
       "         [4],\n",
       "         [2],\n",
       "         [5],\n",
       "         [0],\n",
       "         [2],\n",
       "         [5],\n",
       "         [4]],\n",
       "\n",
       "        [[1],\n",
       "         [1],\n",
       "         [2],\n",
       "         [2],\n",
       "         [5],\n",
       "         [9],\n",
       "         [3],\n",
       "         [4],\n",
       "         [9],\n",
       "         [6],\n",
       "         [1],\n",
       "         [0],\n",
       "         [2],\n",
       "         [5],\n",
       "         [3],\n",
       "         [9],\n",
       "         [8],\n",
       "         [8],\n",
       "         [8],\n",
       "         [2],\n",
       "         [8],\n",
       "         [2],\n",
       "         [4],\n",
       "         [3],\n",
       "         [0],\n",
       "         [6],\n",
       "         [5],\n",
       "         [3]],\n",
       "\n",
       "        [[4],\n",
       "         [7],\n",
       "         [0],\n",
       "         [9],\n",
       "         [0],\n",
       "         [9],\n",
       "         [4],\n",
       "         [5],\n",
       "         [7],\n",
       "         [3],\n",
       "         [4],\n",
       "         [7],\n",
       "         [5],\n",
       "         [6],\n",
       "         [7],\n",
       "         [5],\n",
       "         [8],\n",
       "         [5],\n",
       "         [7],\n",
       "         [9],\n",
       "         [5],\n",
       "         [2],\n",
       "         [4],\n",
       "         [9],\n",
       "         [4],\n",
       "         [0],\n",
       "         [8],\n",
       "         [5]],\n",
       "\n",
       "        [[0],\n",
       "         [3],\n",
       "         [8],\n",
       "         [3],\n",
       "         [8],\n",
       "         [4],\n",
       "         [8],\n",
       "         [7],\n",
       "         [8],\n",
       "         [9],\n",
       "         [4],\n",
       "         [1],\n",
       "         [8],\n",
       "         [4],\n",
       "         [0],\n",
       "         [0],\n",
       "         [7],\n",
       "         [9],\n",
       "         [5],\n",
       "         [5],\n",
       "         [6],\n",
       "         [4],\n",
       "         [9],\n",
       "         [5],\n",
       "         [2],\n",
       "         [8],\n",
       "         [1],\n",
       "         [8]],\n",
       "\n",
       "        [[4],\n",
       "         [3],\n",
       "         [3],\n",
       "         [7],\n",
       "         [2],\n",
       "         [8],\n",
       "         [9],\n",
       "         [3],\n",
       "         [9],\n",
       "         [6],\n",
       "         [0],\n",
       "         [2],\n",
       "         [5],\n",
       "         [9],\n",
       "         [4],\n",
       "         [8],\n",
       "         [7],\n",
       "         [1],\n",
       "         [8],\n",
       "         [2],\n",
       "         [5],\n",
       "         [1],\n",
       "         [9],\n",
       "         [0],\n",
       "         [8],\n",
       "         [1],\n",
       "         [4],\n",
       "         [4]],\n",
       "\n",
       "        [[2],\n",
       "         [0],\n",
       "         [6],\n",
       "         [6],\n",
       "         [1],\n",
       "         [2],\n",
       "         [9],\n",
       "         [9],\n",
       "         [9],\n",
       "         [5],\n",
       "         [8],\n",
       "         [4],\n",
       "         [9],\n",
       "         [1],\n",
       "         [9],\n",
       "         [1],\n",
       "         [9],\n",
       "         [9],\n",
       "         [0],\n",
       "         [4],\n",
       "         [0],\n",
       "         [6],\n",
       "         [5],\n",
       "         [0],\n",
       "         [8],\n",
       "         [0],\n",
       "         [3],\n",
       "         [9]]]], dtype=int32)>"
      ]
     },
     "execution_count": 80,
     "metadata": {},
     "output_type": "execute_result"
    }
   ],
   "source": [
    "x = tf.expand_dims(x,axis=0) # 高维度之前插入新维度\n",
    "x"
   ]
  },
  {
   "cell_type": "code",
   "execution_count": 81,
   "metadata": {},
   "outputs": [
    {
     "data": {
      "text/plain": [
       "<tf.Tensor: shape=(28, 28, 1), dtype=int32, numpy=\n",
       "array([[[1],\n",
       "        [8],\n",
       "        [5],\n",
       "        [8],\n",
       "        [3],\n",
       "        [7],\n",
       "        [5],\n",
       "        [4],\n",
       "        [0],\n",
       "        [4],\n",
       "        [3],\n",
       "        [8],\n",
       "        [6],\n",
       "        [3],\n",
       "        [4],\n",
       "        [6],\n",
       "        [0],\n",
       "        [0],\n",
       "        [8],\n",
       "        [7],\n",
       "        [1],\n",
       "        [7],\n",
       "        [3],\n",
       "        [1],\n",
       "        [3],\n",
       "        [6],\n",
       "        [0],\n",
       "        [0]],\n",
       "\n",
       "       [[6],\n",
       "        [8],\n",
       "        [8],\n",
       "        [0],\n",
       "        [4],\n",
       "        [6],\n",
       "        [3],\n",
       "        [2],\n",
       "        [7],\n",
       "        [3],\n",
       "        [8],\n",
       "        [1],\n",
       "        [6],\n",
       "        [9],\n",
       "        [5],\n",
       "        [6],\n",
       "        [9],\n",
       "        [4],\n",
       "        [2],\n",
       "        [1],\n",
       "        [6],\n",
       "        [9],\n",
       "        [3],\n",
       "        [1],\n",
       "        [7],\n",
       "        [9],\n",
       "        [2],\n",
       "        [8]],\n",
       "\n",
       "       [[9],\n",
       "        [9],\n",
       "        [3],\n",
       "        [0],\n",
       "        [6],\n",
       "        [6],\n",
       "        [7],\n",
       "        [2],\n",
       "        [9],\n",
       "        [7],\n",
       "        [6],\n",
       "        [1],\n",
       "        [0],\n",
       "        [2],\n",
       "        [7],\n",
       "        [2],\n",
       "        [0],\n",
       "        [9],\n",
       "        [1],\n",
       "        [4],\n",
       "        [2],\n",
       "        [3],\n",
       "        [5],\n",
       "        [3],\n",
       "        [9],\n",
       "        [1],\n",
       "        [8],\n",
       "        [4]],\n",
       "\n",
       "       [[7],\n",
       "        [5],\n",
       "        [9],\n",
       "        [9],\n",
       "        [3],\n",
       "        [0],\n",
       "        [7],\n",
       "        [6],\n",
       "        [8],\n",
       "        [7],\n",
       "        [2],\n",
       "        [2],\n",
       "        [0],\n",
       "        [1],\n",
       "        [4],\n",
       "        [3],\n",
       "        [2],\n",
       "        [1],\n",
       "        [2],\n",
       "        [7],\n",
       "        [2],\n",
       "        [6],\n",
       "        [0],\n",
       "        [9],\n",
       "        [8],\n",
       "        [9],\n",
       "        [8],\n",
       "        [7]],\n",
       "\n",
       "       [[8],\n",
       "        [0],\n",
       "        [8],\n",
       "        [0],\n",
       "        [4],\n",
       "        [6],\n",
       "        [5],\n",
       "        [3],\n",
       "        [6],\n",
       "        [6],\n",
       "        [9],\n",
       "        [2],\n",
       "        [9],\n",
       "        [0],\n",
       "        [8],\n",
       "        [0],\n",
       "        [8],\n",
       "        [6],\n",
       "        [4],\n",
       "        [4],\n",
       "        [4],\n",
       "        [1],\n",
       "        [8],\n",
       "        [8],\n",
       "        [0],\n",
       "        [5],\n",
       "        [3],\n",
       "        [8]],\n",
       "\n",
       "       [[5],\n",
       "        [1],\n",
       "        [3],\n",
       "        [7],\n",
       "        [6],\n",
       "        [4],\n",
       "        [3],\n",
       "        [3],\n",
       "        [9],\n",
       "        [7],\n",
       "        [3],\n",
       "        [0],\n",
       "        [9],\n",
       "        [4],\n",
       "        [0],\n",
       "        [9],\n",
       "        [7],\n",
       "        [8],\n",
       "        [9],\n",
       "        [5],\n",
       "        [0],\n",
       "        [6],\n",
       "        [1],\n",
       "        [9],\n",
       "        [4],\n",
       "        [0],\n",
       "        [9],\n",
       "        [6]],\n",
       "\n",
       "       [[2],\n",
       "        [2],\n",
       "        [5],\n",
       "        [1],\n",
       "        [2],\n",
       "        [1],\n",
       "        [4],\n",
       "        [4],\n",
       "        [3],\n",
       "        [4],\n",
       "        [7],\n",
       "        [6],\n",
       "        [9],\n",
       "        [6],\n",
       "        [2],\n",
       "        [1],\n",
       "        [2],\n",
       "        [0],\n",
       "        [1],\n",
       "        [5],\n",
       "        [0],\n",
       "        [7],\n",
       "        [0],\n",
       "        [5],\n",
       "        [3],\n",
       "        [5],\n",
       "        [6],\n",
       "        [6]],\n",
       "\n",
       "       [[1],\n",
       "        [9],\n",
       "        [6],\n",
       "        [6],\n",
       "        [3],\n",
       "        [8],\n",
       "        [5],\n",
       "        [0],\n",
       "        [8],\n",
       "        [8],\n",
       "        [4],\n",
       "        [0],\n",
       "        [1],\n",
       "        [8],\n",
       "        [7],\n",
       "        [4],\n",
       "        [6],\n",
       "        [9],\n",
       "        [7],\n",
       "        [9],\n",
       "        [2],\n",
       "        [7],\n",
       "        [5],\n",
       "        [3],\n",
       "        [5],\n",
       "        [3],\n",
       "        [9],\n",
       "        [3]],\n",
       "\n",
       "       [[4],\n",
       "        [9],\n",
       "        [1],\n",
       "        [5],\n",
       "        [0],\n",
       "        [3],\n",
       "        [4],\n",
       "        [3],\n",
       "        [4],\n",
       "        [7],\n",
       "        [6],\n",
       "        [9],\n",
       "        [3],\n",
       "        [1],\n",
       "        [0],\n",
       "        [1],\n",
       "        [3],\n",
       "        [8],\n",
       "        [9],\n",
       "        [2],\n",
       "        [0],\n",
       "        [7],\n",
       "        [4],\n",
       "        [0],\n",
       "        [4],\n",
       "        [2],\n",
       "        [0],\n",
       "        [2]],\n",
       "\n",
       "       [[8],\n",
       "        [3],\n",
       "        [5],\n",
       "        [7],\n",
       "        [0],\n",
       "        [9],\n",
       "        [8],\n",
       "        [5],\n",
       "        [5],\n",
       "        [9],\n",
       "        [5],\n",
       "        [4],\n",
       "        [0],\n",
       "        [8],\n",
       "        [7],\n",
       "        [7],\n",
       "        [1],\n",
       "        [4],\n",
       "        [1],\n",
       "        [6],\n",
       "        [3],\n",
       "        [8],\n",
       "        [0],\n",
       "        [7],\n",
       "        [3],\n",
       "        [1],\n",
       "        [8],\n",
       "        [6]],\n",
       "\n",
       "       [[5],\n",
       "        [6],\n",
       "        [6],\n",
       "        [8],\n",
       "        [9],\n",
       "        [4],\n",
       "        [5],\n",
       "        [2],\n",
       "        [5],\n",
       "        [6],\n",
       "        [7],\n",
       "        [8],\n",
       "        [0],\n",
       "        [8],\n",
       "        [1],\n",
       "        [0],\n",
       "        [2],\n",
       "        [5],\n",
       "        [2],\n",
       "        [3],\n",
       "        [5],\n",
       "        [2],\n",
       "        [6],\n",
       "        [2],\n",
       "        [8],\n",
       "        [6],\n",
       "        [2],\n",
       "        [2]],\n",
       "\n",
       "       [[7],\n",
       "        [5],\n",
       "        [3],\n",
       "        [1],\n",
       "        [6],\n",
       "        [2],\n",
       "        [3],\n",
       "        [0],\n",
       "        [7],\n",
       "        [3],\n",
       "        [4],\n",
       "        [3],\n",
       "        [0],\n",
       "        [2],\n",
       "        [8],\n",
       "        [7],\n",
       "        [6],\n",
       "        [3],\n",
       "        [9],\n",
       "        [2],\n",
       "        [7],\n",
       "        [8],\n",
       "        [4],\n",
       "        [1],\n",
       "        [0],\n",
       "        [4],\n",
       "        [2],\n",
       "        [4]],\n",
       "\n",
       "       [[1],\n",
       "        [6],\n",
       "        [0],\n",
       "        [7],\n",
       "        [4],\n",
       "        [4],\n",
       "        [3],\n",
       "        [1],\n",
       "        [3],\n",
       "        [6],\n",
       "        [4],\n",
       "        [6],\n",
       "        [0],\n",
       "        [2],\n",
       "        [1],\n",
       "        [2],\n",
       "        [4],\n",
       "        [4],\n",
       "        [0],\n",
       "        [2],\n",
       "        [5],\n",
       "        [3],\n",
       "        [5],\n",
       "        [7],\n",
       "        [9],\n",
       "        [5],\n",
       "        [0],\n",
       "        [0]],\n",
       "\n",
       "       [[3],\n",
       "        [1],\n",
       "        [3],\n",
       "        [6],\n",
       "        [8],\n",
       "        [5],\n",
       "        [8],\n",
       "        [5],\n",
       "        [6],\n",
       "        [8],\n",
       "        [4],\n",
       "        [5],\n",
       "        [9],\n",
       "        [0],\n",
       "        [2],\n",
       "        [8],\n",
       "        [3],\n",
       "        [9],\n",
       "        [2],\n",
       "        [5],\n",
       "        [4],\n",
       "        [6],\n",
       "        [0],\n",
       "        [8],\n",
       "        [1],\n",
       "        [5],\n",
       "        [9],\n",
       "        [4]],\n",
       "\n",
       "       [[7],\n",
       "        [0],\n",
       "        [1],\n",
       "        [3],\n",
       "        [2],\n",
       "        [2],\n",
       "        [4],\n",
       "        [7],\n",
       "        [6],\n",
       "        [7],\n",
       "        [6],\n",
       "        [9],\n",
       "        [1],\n",
       "        [4],\n",
       "        [1],\n",
       "        [1],\n",
       "        [3],\n",
       "        [3],\n",
       "        [9],\n",
       "        [6],\n",
       "        [3],\n",
       "        [7],\n",
       "        [7],\n",
       "        [7],\n",
       "        [2],\n",
       "        [4],\n",
       "        [1],\n",
       "        [1]],\n",
       "\n",
       "       [[9],\n",
       "        [9],\n",
       "        [0],\n",
       "        [1],\n",
       "        [6],\n",
       "        [5],\n",
       "        [8],\n",
       "        [2],\n",
       "        [5],\n",
       "        [1],\n",
       "        [6],\n",
       "        [4],\n",
       "        [7],\n",
       "        [8],\n",
       "        [4],\n",
       "        [5],\n",
       "        [3],\n",
       "        [2],\n",
       "        [2],\n",
       "        [4],\n",
       "        [0],\n",
       "        [5],\n",
       "        [2],\n",
       "        [2],\n",
       "        [4],\n",
       "        [8],\n",
       "        [0],\n",
       "        [8]],\n",
       "\n",
       "       [[1],\n",
       "        [0],\n",
       "        [9],\n",
       "        [2],\n",
       "        [2],\n",
       "        [8],\n",
       "        [8],\n",
       "        [1],\n",
       "        [5],\n",
       "        [6],\n",
       "        [1],\n",
       "        [9],\n",
       "        [5],\n",
       "        [8],\n",
       "        [3],\n",
       "        [9],\n",
       "        [2],\n",
       "        [6],\n",
       "        [2],\n",
       "        [7],\n",
       "        [9],\n",
       "        [8],\n",
       "        [8],\n",
       "        [8],\n",
       "        [8],\n",
       "        [4],\n",
       "        [0],\n",
       "        [4]],\n",
       "\n",
       "       [[1],\n",
       "        [4],\n",
       "        [7],\n",
       "        [7],\n",
       "        [7],\n",
       "        [7],\n",
       "        [5],\n",
       "        [1],\n",
       "        [3],\n",
       "        [4],\n",
       "        [2],\n",
       "        [6],\n",
       "        [3],\n",
       "        [1],\n",
       "        [5],\n",
       "        [0],\n",
       "        [2],\n",
       "        [2],\n",
       "        [2],\n",
       "        [3],\n",
       "        [6],\n",
       "        [5],\n",
       "        [8],\n",
       "        [2],\n",
       "        [7],\n",
       "        [5],\n",
       "        [5],\n",
       "        [7]],\n",
       "\n",
       "       [[3],\n",
       "        [8],\n",
       "        [6],\n",
       "        [2],\n",
       "        [2],\n",
       "        [8],\n",
       "        [5],\n",
       "        [3],\n",
       "        [5],\n",
       "        [0],\n",
       "        [0],\n",
       "        [4],\n",
       "        [6],\n",
       "        [1],\n",
       "        [8],\n",
       "        [0],\n",
       "        [1],\n",
       "        [6],\n",
       "        [5],\n",
       "        [9],\n",
       "        [1],\n",
       "        [4],\n",
       "        [4],\n",
       "        [2],\n",
       "        [9],\n",
       "        [8],\n",
       "        [9],\n",
       "        [9]],\n",
       "\n",
       "       [[9],\n",
       "        [3],\n",
       "        [0],\n",
       "        [9],\n",
       "        [6],\n",
       "        [3],\n",
       "        [7],\n",
       "        [9],\n",
       "        [1],\n",
       "        [2],\n",
       "        [5],\n",
       "        [4],\n",
       "        [0],\n",
       "        [8],\n",
       "        [4],\n",
       "        [6],\n",
       "        [2],\n",
       "        [2],\n",
       "        [0],\n",
       "        [2],\n",
       "        [7],\n",
       "        [7],\n",
       "        [9],\n",
       "        [3],\n",
       "        [2],\n",
       "        [4],\n",
       "        [4],\n",
       "        [1]],\n",
       "\n",
       "       [[5],\n",
       "        [7],\n",
       "        [2],\n",
       "        [2],\n",
       "        [1],\n",
       "        [9],\n",
       "        [7],\n",
       "        [3],\n",
       "        [3],\n",
       "        [6],\n",
       "        [7],\n",
       "        [1],\n",
       "        [2],\n",
       "        [9],\n",
       "        [2],\n",
       "        [2],\n",
       "        [3],\n",
       "        [5],\n",
       "        [0],\n",
       "        [0],\n",
       "        [0],\n",
       "        [2],\n",
       "        [5],\n",
       "        [0],\n",
       "        [4],\n",
       "        [5],\n",
       "        [2],\n",
       "        [2]],\n",
       "\n",
       "       [[8],\n",
       "        [5],\n",
       "        [5],\n",
       "        [2],\n",
       "        [5],\n",
       "        [6],\n",
       "        [5],\n",
       "        [6],\n",
       "        [2],\n",
       "        [8],\n",
       "        [8],\n",
       "        [5],\n",
       "        [0],\n",
       "        [7],\n",
       "        [4],\n",
       "        [0],\n",
       "        [3],\n",
       "        [5],\n",
       "        [4],\n",
       "        [2],\n",
       "        [4],\n",
       "        [8],\n",
       "        [0],\n",
       "        [3],\n",
       "        [3],\n",
       "        [9],\n",
       "        [3],\n",
       "        [7]],\n",
       "\n",
       "       [[1],\n",
       "        [0],\n",
       "        [8],\n",
       "        [7],\n",
       "        [3],\n",
       "        [2],\n",
       "        [8],\n",
       "        [7],\n",
       "        [7],\n",
       "        [9],\n",
       "        [4],\n",
       "        [6],\n",
       "        [0],\n",
       "        [2],\n",
       "        [2],\n",
       "        [2],\n",
       "        [1],\n",
       "        [7],\n",
       "        [6],\n",
       "        [3],\n",
       "        [3],\n",
       "        [4],\n",
       "        [2],\n",
       "        [5],\n",
       "        [0],\n",
       "        [2],\n",
       "        [5],\n",
       "        [4]],\n",
       "\n",
       "       [[1],\n",
       "        [1],\n",
       "        [2],\n",
       "        [2],\n",
       "        [5],\n",
       "        [9],\n",
       "        [3],\n",
       "        [4],\n",
       "        [9],\n",
       "        [6],\n",
       "        [1],\n",
       "        [0],\n",
       "        [2],\n",
       "        [5],\n",
       "        [3],\n",
       "        [9],\n",
       "        [8],\n",
       "        [8],\n",
       "        [8],\n",
       "        [2],\n",
       "        [8],\n",
       "        [2],\n",
       "        [4],\n",
       "        [3],\n",
       "        [0],\n",
       "        [6],\n",
       "        [5],\n",
       "        [3]],\n",
       "\n",
       "       [[4],\n",
       "        [7],\n",
       "        [0],\n",
       "        [9],\n",
       "        [0],\n",
       "        [9],\n",
       "        [4],\n",
       "        [5],\n",
       "        [7],\n",
       "        [3],\n",
       "        [4],\n",
       "        [7],\n",
       "        [5],\n",
       "        [6],\n",
       "        [7],\n",
       "        [5],\n",
       "        [8],\n",
       "        [5],\n",
       "        [7],\n",
       "        [9],\n",
       "        [5],\n",
       "        [2],\n",
       "        [4],\n",
       "        [9],\n",
       "        [4],\n",
       "        [0],\n",
       "        [8],\n",
       "        [5]],\n",
       "\n",
       "       [[0],\n",
       "        [3],\n",
       "        [8],\n",
       "        [3],\n",
       "        [8],\n",
       "        [4],\n",
       "        [8],\n",
       "        [7],\n",
       "        [8],\n",
       "        [9],\n",
       "        [4],\n",
       "        [1],\n",
       "        [8],\n",
       "        [4],\n",
       "        [0],\n",
       "        [0],\n",
       "        [7],\n",
       "        [9],\n",
       "        [5],\n",
       "        [5],\n",
       "        [6],\n",
       "        [4],\n",
       "        [9],\n",
       "        [5],\n",
       "        [2],\n",
       "        [8],\n",
       "        [1],\n",
       "        [8]],\n",
       "\n",
       "       [[4],\n",
       "        [3],\n",
       "        [3],\n",
       "        [7],\n",
       "        [2],\n",
       "        [8],\n",
       "        [9],\n",
       "        [3],\n",
       "        [9],\n",
       "        [6],\n",
       "        [0],\n",
       "        [2],\n",
       "        [5],\n",
       "        [9],\n",
       "        [4],\n",
       "        [8],\n",
       "        [7],\n",
       "        [1],\n",
       "        [8],\n",
       "        [2],\n",
       "        [5],\n",
       "        [1],\n",
       "        [9],\n",
       "        [0],\n",
       "        [8],\n",
       "        [1],\n",
       "        [4],\n",
       "        [4]],\n",
       "\n",
       "       [[2],\n",
       "        [0],\n",
       "        [6],\n",
       "        [6],\n",
       "        [1],\n",
       "        [2],\n",
       "        [9],\n",
       "        [9],\n",
       "        [9],\n",
       "        [5],\n",
       "        [8],\n",
       "        [4],\n",
       "        [9],\n",
       "        [1],\n",
       "        [9],\n",
       "        [1],\n",
       "        [9],\n",
       "        [9],\n",
       "        [0],\n",
       "        [4],\n",
       "        [0],\n",
       "        [6],\n",
       "        [5],\n",
       "        [0],\n",
       "        [8],\n",
       "        [0],\n",
       "        [3],\n",
       "        [9]]], dtype=int32)>"
      ]
     },
     "execution_count": 81,
     "metadata": {},
     "output_type": "execute_result"
    }
   ],
   "source": [
    "x = tf.squeeze(x, axis=0) # 删除图片数量维度\n",
    "x"
   ]
  },
  {
   "cell_type": "code",
   "execution_count": 82,
   "metadata": {
    "scrolled": true
   },
   "outputs": [
    {
     "data": {
      "text/plain": [
       "<tf.Tensor: shape=(28, 28), dtype=int32, numpy=\n",
       "array([[5, 6, 8, 6, 1, 3, 5, 0, 6, 0, 8, 3, 7, 9, 9, 9, 8, 8, 3, 8, 5, 8,\n",
       "        0, 8, 8, 9, 7, 9],\n",
       "       [3, 9, 8, 0, 8, 7, 9, 5, 9, 7, 8, 4, 9, 4, 4, 9, 2, 9, 9, 7, 7, 2,\n",
       "        6, 6, 6, 9, 1, 6],\n",
       "       [6, 0, 0, 1, 5, 1, 6, 2, 8, 0, 6, 2, 7, 1, 8, 1, 3, 0, 0, 6, 3, 1,\n",
       "        3, 0, 5, 8, 5, 2],\n",
       "       [0, 8, 5, 2, 7, 3, 0, 3, 5, 0, 1, 2, 5, 6, 3, 0, 6, 2, 7, 6, 4, 7,\n",
       "        5, 9, 1, 7, 2, 6],\n",
       "       [4, 1, 3, 2, 6, 2, 9, 9, 7, 3, 8, 7, 0, 6, 5, 4, 9, 1, 7, 5, 2, 6,\n",
       "        2, 2, 6, 2, 9, 1],\n",
       "       [9, 0, 0, 4, 0, 2, 3, 9, 2, 9, 0, 0, 4, 5, 4, 5, 2, 1, 6, 7, 8, 6,\n",
       "        6, 6, 0, 7, 6, 5],\n",
       "       [9, 9, 2, 7, 7, 9, 1, 1, 0, 1, 2, 0, 9, 9, 7, 0, 1, 3, 4, 3, 5, 8,\n",
       "        7, 7, 1, 5, 0, 4],\n",
       "       [4, 0, 8, 5, 4, 2, 6, 6, 8, 4, 9, 8, 6, 2, 8, 4, 1, 4, 0, 0, 5, 5,\n",
       "        8, 0, 4, 7, 6, 3],\n",
       "       [2, 6, 7, 7, 3, 8, 4, 2, 4, 5, 2, 2, 8, 6, 8, 3, 9, 9, 2, 8, 0, 0,\n",
       "        6, 3, 8, 9, 1, 5],\n",
       "       [9, 9, 0, 6, 9, 2, 9, 2, 4, 5, 6, 2, 2, 0, 5, 4, 8, 2, 5, 7, 2, 0,\n",
       "        1, 3, 3, 2, 1, 4],\n",
       "       [2, 3, 3, 5, 7, 8, 8, 9, 9, 4, 3, 9, 9, 0, 5, 1, 1, 9, 2, 8, 0, 4,\n",
       "        2, 1, 9, 7, 4, 2],\n",
       "       [5, 5, 2, 8, 1, 6, 2, 0, 8, 3, 8, 1, 1, 1, 9, 7, 4, 8, 1, 6, 6, 3,\n",
       "        5, 7, 9, 6, 0, 0],\n",
       "       [9, 8, 6, 3, 0, 8, 3, 4, 0, 8, 5, 9, 6, 8, 7, 2, 9, 0, 6, 2, 0, 9,\n",
       "        0, 3, 7, 0, 0, 5],\n",
       "       [4, 5, 6, 5, 6, 7, 4, 1, 9, 1, 3, 9, 9, 8, 7, 1, 0, 8, 3, 8, 2, 6,\n",
       "        7, 3, 3, 0, 2, 9],\n",
       "       [7, 5, 5, 9, 5, 5, 0, 2, 1, 5, 5, 7, 5, 8, 2, 8, 2, 1, 7, 7, 2, 0,\n",
       "        4, 6, 1, 7, 3, 0],\n",
       "       [5, 4, 8, 7, 3, 8, 0, 2, 0, 5, 6, 5, 5, 4, 6, 4, 3, 0, 3, 6, 2, 3,\n",
       "        5, 5, 8, 7, 5, 8],\n",
       "       [6, 9, 7, 7, 4, 1, 1, 5, 6, 3, 6, 4, 8, 2, 0, 3, 5, 7, 0, 9, 8, 1,\n",
       "        7, 5, 9, 1, 3, 6],\n",
       "       [7, 6, 5, 6, 7, 9, 4, 0, 1, 6, 9, 1, 3, 2, 7, 6, 4, 6, 8, 6, 3, 7,\n",
       "        2, 3, 3, 4, 9, 0],\n",
       "       [2, 6, 2, 3, 0, 3, 2, 7, 0, 6, 8, 0, 3, 3, 3, 3, 9, 2, 2, 1, 3, 6,\n",
       "        1, 2, 2, 4, 2, 8],\n",
       "       [5, 0, 1, 3, 4, 0, 5, 6, 5, 1, 8, 6, 6, 6, 5, 6, 0, 5, 5, 1, 8, 7,\n",
       "        2, 2, 0, 3, 7, 1],\n",
       "       [2, 6, 8, 6, 2, 9, 0, 6, 1, 0, 0, 3, 8, 6, 4, 6, 5, 3, 4, 2, 0, 9,\n",
       "        3, 2, 3, 7, 5, 5],\n",
       "       [6, 5, 5, 2, 0, 6, 1, 3, 8, 6, 1, 7, 8, 2, 6, 7, 7, 2, 4, 7, 5, 2,\n",
       "        5, 3, 8, 6, 4, 6],\n",
       "       [2, 4, 8, 5, 3, 3, 0, 7, 0, 1, 2, 2, 7, 1, 9, 9, 6, 9, 9, 1, 6, 0,\n",
       "        6, 9, 0, 1, 0, 7],\n",
       "       [5, 2, 9, 0, 3, 1, 7, 7, 6, 5, 7, 6, 5, 6, 7, 0, 2, 3, 3, 8, 4, 2,\n",
       "        8, 9, 4, 5, 2, 7],\n",
       "       [5, 8, 0, 1, 5, 0, 6, 1, 3, 7, 8, 9, 8, 7, 9, 0, 5, 9, 9, 2, 1, 8,\n",
       "        9, 2, 6, 6, 3, 1],\n",
       "       [6, 4, 7, 3, 7, 9, 7, 5, 2, 1, 8, 5, 7, 5, 6, 1, 0, 6, 5, 9, 1, 3,\n",
       "        6, 5, 7, 4, 2, 9],\n",
       "       [0, 0, 7, 6, 7, 7, 8, 2, 7, 2, 3, 6, 9, 6, 3, 5, 0, 2, 2, 3, 4, 8,\n",
       "        6, 7, 9, 2, 5, 7],\n",
       "       [2, 4, 4, 7, 1, 8, 9, 0, 5, 8, 8, 2, 1, 8, 6, 6, 0, 8, 6, 2, 7, 7,\n",
       "        0, 3, 8, 1, 1, 0]], dtype=int32)>"
      ]
     },
     "execution_count": 82,
     "metadata": {},
     "output_type": "execute_result"
    }
   ],
   "source": [
    "x = tf.random.uniform([1,28,28,1],maxval=10,dtype=tf.int32)\n",
    "tf.squeeze(x) # 删除所有长度为 1 的维度"
   ]
  },
  {
   "cell_type": "markdown",
   "metadata": {},
   "source": [
    "### 交换维度"
   ]
  },
  {
   "cell_type": "code",
   "execution_count": 83,
   "metadata": {
    "scrolled": true
   },
   "outputs": [
    {
     "data": {
      "text/plain": [
       "<tf.Tensor: shape=(2, 3, 32, 32), dtype=float32, numpy=\n",
       "array([[[[ 1.75848174e+00, -9.49276313e-02,  4.18128610e-01, ...,\n",
       "           7.55211771e-01, -6.08125746e-01, -7.41051137e-02],\n",
       "         [-8.39346766e-01,  5.04880190e-01,  6.46030903e-01, ...,\n",
       "          -5.80298066e-01, -9.05375302e-01,  1.93253368e-01],\n",
       "         [ 1.44797933e+00,  1.63874328e+00,  1.34039545e+00, ...,\n",
       "           1.53669918e+00, -1.16176987e+00,  3.42888206e-01],\n",
       "         ...,\n",
       "         [ 4.70202655e-01,  2.91220009e-01,  3.63497496e-01, ...,\n",
       "           1.44786954e+00, -2.87226051e-01, -1.07121050e+00],\n",
       "         [-5.20772696e-01, -2.05923855e-01,  1.36078072e+00, ...,\n",
       "           2.60087281e-01, -2.89187461e-01,  8.51971865e-01],\n",
       "         [-1.86519837e+00, -1.36792231e+00,  5.28671205e-01, ...,\n",
       "          -4.27091807e-01, -3.50412160e-01, -3.88115913e-01]],\n",
       "\n",
       "        [[ 1.30006146e+00, -3.03867960e+00, -3.40789151e+00, ...,\n",
       "          -1.42247751e-01, -8.35458040e-01,  1.42847061e+00],\n",
       "         [ 7.66256601e-02,  2.50881046e-01, -8.30250621e-01, ...,\n",
       "          -2.21109167e-01, -6.41173065e-01,  1.85399127e+00],\n",
       "         [-2.20112205e+00, -2.06349611e+00, -9.42931950e-01, ...,\n",
       "           2.23369718e+00,  2.98523456e-01,  9.20198143e-01],\n",
       "         ...,\n",
       "         [-2.71441787e-01, -1.79589963e+00, -5.13321042e-01, ...,\n",
       "           6.10182703e-01, -7.29409873e-01,  1.10359395e+00],\n",
       "         [ 4.42064673e-01, -1.35065186e+00, -1.68286458e-01, ...,\n",
       "          -3.79348636e-01,  2.61304468e-01, -3.77027720e-01],\n",
       "         [ 1.18055856e+00, -1.17563128e+00,  5.45898438e-01, ...,\n",
       "           1.41615963e+00, -1.10752463e+00, -4.39828932e-02]],\n",
       "\n",
       "        [[-1.10258675e+00,  8.15648258e-01, -1.13900995e+00, ...,\n",
       "           7.77459025e-01, -9.99289870e-01,  4.65246379e-01],\n",
       "         [-8.89806032e-01,  1.26456070e+00, -1.25238490e+00, ...,\n",
       "          -1.46160519e+00, -2.11631298e+00,  4.94543105e-01],\n",
       "         [ 1.41301179e+00,  2.75206089e+00, -8.68038595e-01, ...,\n",
       "          -8.12595963e-01, -1.42917109e+00,  1.75044000e+00],\n",
       "         ...,\n",
       "         [-9.44207013e-01, -3.21633196e+00,  1.24241245e+00, ...,\n",
       "          -3.82266939e-01,  3.22168171e-01, -7.42950141e-01],\n",
       "         [ 1.71593547e+00,  8.86029661e-01,  4.72267449e-01, ...,\n",
       "           8.30414712e-01,  2.70426661e-01,  5.85913718e-01],\n",
       "         [ 1.05672765e+00, -8.04017603e-01,  1.22003974e-02, ...,\n",
       "          -2.69426060e+00, -7.91203558e-01,  7.97986269e-01]]],\n",
       "\n",
       "\n",
       "       [[[ 9.82195437e-01, -2.36162615e+00, -7.13750184e-01, ...,\n",
       "           6.07469857e-01,  1.02111840e+00, -1.79629505e-01],\n",
       "         [-4.81825680e-01, -6.32086992e-01,  8.77465308e-02, ...,\n",
       "          -8.23479772e-01, -1.54666543e-01,  4.80560511e-01],\n",
       "         [-1.05461478e+00, -1.75795183e-01, -2.53142089e-01, ...,\n",
       "          -1.72395825e-01,  1.54411995e+00,  1.20949320e-01],\n",
       "         ...,\n",
       "         [-2.01977468e+00,  1.34872305e+00, -1.09835470e+00, ...,\n",
       "          -3.85436475e-01,  7.20109880e-01,  1.47627413e-01],\n",
       "         [-8.44880566e-02, -7.71149278e-01,  1.22856379e+00, ...,\n",
       "           1.96527466e-01, -1.78061016e-02,  1.91510051e-01],\n",
       "         [-7.49942243e-01,  1.44803479e-01, -9.55366850e-01, ...,\n",
       "           1.19107604e+00, -1.23874784e+00, -3.23318928e-01]],\n",
       "\n",
       "        [[-4.82593715e-01,  5.77332556e-01, -2.61519593e-03, ...,\n",
       "          -1.27599454e+00, -1.65124044e-01, -1.26387551e-01],\n",
       "         [ 2.27711344e+00, -1.39883205e-01,  8.64001751e-01, ...,\n",
       "          -1.09141327e-01, -9.66326237e-01, -8.26555848e-01],\n",
       "         [ 3.34917843e-01,  1.09790659e+00, -2.17109323e+00, ...,\n",
       "          -8.79497111e-01,  6.76246524e-01, -4.00103956e-01],\n",
       "         ...,\n",
       "         [ 9.85554218e-01, -5.22361517e-01,  9.63775218e-02, ...,\n",
       "          -9.28054452e-01,  9.96757209e-01,  2.99938954e-02],\n",
       "         [ 3.91850263e-01, -7.57645249e-01, -5.50165474e-01, ...,\n",
       "           1.28372264e+00,  8.54765534e-01, -5.41416824e-01],\n",
       "         [-1.57327801e-02, -1.34936735e-01,  5.16964376e-01, ...,\n",
       "           7.31268883e-01,  2.95538425e+00,  1.69745803e+00]],\n",
       "\n",
       "        [[ 1.29938233e+00,  1.05038691e+00, -6.68163121e-01, ...,\n",
       "           1.25665665e-02, -2.67683721e+00,  2.52786493e+00],\n",
       "         [-6.99930191e-01,  3.00467126e-02,  6.70324028e-01, ...,\n",
       "           2.09800625e+00,  7.61295378e-01,  1.02693766e-01],\n",
       "         [-1.26585209e+00,  3.54633033e-01,  3.31798345e-01, ...,\n",
       "           1.34014666e+00,  7.05077708e-01, -1.51060319e+00],\n",
       "         ...,\n",
       "         [ 1.29878080e+00, -9.67873931e-02,  5.45798838e-01, ...,\n",
       "          -4.17013228e-01, -2.91183352e-01,  2.14817071e+00],\n",
       "         [ 9.97377872e-01,  3.02564234e-01, -1.86776862e-01, ...,\n",
       "           7.85977185e-01, -7.20112249e-02,  5.91104150e-01],\n",
       "         [ 5.76612771e-01,  1.27544498e+00, -7.59471118e-01, ...,\n",
       "          -4.34822768e-01,  1.12435544e+00,  9.67975199e-01]]]],\n",
       "      dtype=float32)>"
      ]
     },
     "execution_count": 83,
     "metadata": {},
     "output_type": "execute_result"
    }
   ],
   "source": [
    "x = tf.random.normal([2,32,32,3])\n",
    "# 交换维度\n",
    "tf.transpose(x,perm=[0,3,1,2]) "
   ]
  },
  {
   "cell_type": "code",
   "execution_count": 84,
   "metadata": {
    "scrolled": true
   },
   "outputs": [
    {
     "data": {
      "text/plain": [
       "<tf.Tensor: shape=(2, 32, 32, 3), dtype=float32, numpy=\n",
       "array([[[[ 0.45285293, -1.5476533 ,  0.537544  ],\n",
       "         [-0.08018557, -0.47030827, -0.5807823 ],\n",
       "         [-0.7348387 ,  0.24642316, -1.6786592 ],\n",
       "         ...,\n",
       "         [ 0.3385515 , -0.20547317,  0.19310091],\n",
       "         [ 0.66155654, -0.46558714,  0.7291675 ],\n",
       "         [ 2.2670877 ,  0.7127913 ,  0.5712404 ]],\n",
       "\n",
       "        [[ 1.5500336 , -0.05549447, -1.0149662 ],\n",
       "         [ 0.0836934 ,  1.5134174 ,  1.3010902 ],\n",
       "         [ 1.158296  ,  0.9432735 ,  0.86888915],\n",
       "         ...,\n",
       "         [ 2.299208  ,  0.8821764 , -1.1812357 ],\n",
       "         [-1.3336568 , -0.29833916, -0.679004  ],\n",
       "         [-0.96075   , -0.06259582, -0.46350768]],\n",
       "\n",
       "        [[ 0.6465145 , -0.1779662 , -1.158539  ],\n",
       "         [-1.3880632 , -1.2176616 , -2.1913621 ],\n",
       "         [ 0.07833112, -2.5751643 , -1.8983381 ],\n",
       "         ...,\n",
       "         [-1.152619  ,  0.64713204,  0.7577758 ],\n",
       "         [-0.5307071 , -0.6682429 ,  0.53394425],\n",
       "         [-0.15840177,  2.211185  ,  1.9011275 ]],\n",
       "\n",
       "        ...,\n",
       "\n",
       "        [[-0.29912233, -0.6640668 , -1.0536474 ],\n",
       "         [ 1.5359845 , -0.22676864, -0.25791317],\n",
       "         [-0.58954084,  0.10742799, -0.42958763],\n",
       "         ...,\n",
       "         [-2.3875537 ,  1.2777565 ,  1.0504661 ],\n",
       "         [-0.17914692, -0.7380448 , -1.5922549 ],\n",
       "         [ 0.12220341, -1.9817295 ,  0.3664981 ]],\n",
       "\n",
       "        [[ 0.07811321, -0.72096825,  0.3514111 ],\n",
       "         [-1.8087413 , -1.3212163 ,  0.7790559 ],\n",
       "         [-0.32570297,  0.14087372,  0.38755128],\n",
       "         ...,\n",
       "         [-0.47182423,  2.2040477 ,  0.81730723],\n",
       "         [ 0.3368965 ,  0.53097445, -0.8621297 ],\n",
       "         [-0.05495787,  0.17611085, -0.5162142 ]],\n",
       "\n",
       "        [[ 0.6728018 , -0.04839145, -0.956735  ],\n",
       "         [ 1.5266323 , -1.2397112 , -0.5945338 ],\n",
       "         [-1.3651884 ,  1.2528535 ,  0.10918076],\n",
       "         ...,\n",
       "         [-1.9982158 ,  0.20257407, -1.321772  ],\n",
       "         [-0.80418956, -0.33864552,  1.5985266 ],\n",
       "         [-0.23749357, -1.5143243 , -1.462028  ]]],\n",
       "\n",
       "\n",
       "       [[[-0.20820007, -0.17806749,  1.3827918 ],\n",
       "         [-0.6365599 ,  0.28855443,  0.62697136],\n",
       "         [-2.044902  , -0.48876637, -0.55880433],\n",
       "         ...,\n",
       "         [-0.70465916,  1.5019118 , -0.58810675],\n",
       "         [ 0.8017541 , -0.6408571 ,  1.0428382 ],\n",
       "         [ 0.43925673, -1.1187909 , -0.10374626]],\n",
       "\n",
       "        [[ 1.026409  , -0.4778328 ,  2.2370505 ],\n",
       "         [-1.196651  , -1.5670812 ,  1.9261259 ],\n",
       "         [ 1.3743868 , -1.5003484 , -1.1058007 ],\n",
       "         ...,\n",
       "         [-0.95606375,  1.1215816 ,  0.62715566],\n",
       "         [-0.25181454,  0.8154543 , -0.01929102],\n",
       "         [ 0.8493877 , -1.4012915 , -0.94196844]],\n",
       "\n",
       "        [[ 0.678424  ,  1.0202127 ,  0.7255788 ],\n",
       "         [-0.08391696,  0.0773847 ,  0.28208542],\n",
       "         [ 0.3389742 , -1.2325746 ,  0.5080315 ],\n",
       "         ...,\n",
       "         [-1.0739602 , -0.29944745,  0.02583531],\n",
       "         [-0.35517383,  0.8215826 , -0.3131584 ],\n",
       "         [ 1.1381674 ,  0.13926403, -0.59237784]],\n",
       "\n",
       "        ...,\n",
       "\n",
       "        [[ 0.6057604 , -0.3379506 , -0.8707795 ],\n",
       "         [-2.0357938 , -1.1241314 , -0.56306946],\n",
       "         [-0.02427658,  0.5341818 ,  1.1193162 ],\n",
       "         ...,\n",
       "         [ 0.83758205,  0.4526063 ,  0.6085515 ],\n",
       "         [ 0.02671384,  0.9878692 , -0.44014105],\n",
       "         [-1.0205531 , -1.0242525 ,  0.49611112]],\n",
       "\n",
       "        [[-1.1843959 ,  2.1187425 , -0.42155766],\n",
       "         [-1.1987662 , -0.23434664,  0.7082983 ],\n",
       "         [ 1.6636603 , -0.14618997, -1.7656432 ],\n",
       "         ...,\n",
       "         [ 0.93771625, -0.32189268,  0.6367713 ],\n",
       "         [-2.0458665 , -0.50949717, -0.37945196],\n",
       "         [ 0.78032005,  0.07943339, -0.7055536 ]],\n",
       "\n",
       "        [[ 0.5490052 , -0.5662168 ,  0.83616877],\n",
       "         [ 0.73275155, -1.1673535 , -0.41230935],\n",
       "         [-0.60497123, -0.6283007 , -1.564206  ],\n",
       "         ...,\n",
       "         [-0.7359374 , -0.24113199, -1.2263309 ],\n",
       "         [ 1.1340736 , -1.2191949 ,  1.098577  ],\n",
       "         [-0.15471327, -0.11956987, -0.06598277]]]], dtype=float32)>"
      ]
     },
     "execution_count": 84,
     "metadata": {},
     "output_type": "execute_result"
    }
   ],
   "source": [
    "x = tf.random.normal([2,32,32,3])\n",
    "# 交换维度\n",
    "tf.transpose(x,perm=[0,2,1,3]) "
   ]
  },
  {
   "cell_type": "markdown",
   "metadata": {},
   "source": [
    "### 复制数据"
   ]
  },
  {
   "cell_type": "code",
   "execution_count": 85,
   "metadata": {},
   "outputs": [
    {
     "data": {
      "text/plain": [
       "<tf.Tensor: shape=(1, 2), dtype=int32, numpy=array([[1, 2]], dtype=int32)>"
      ]
     },
     "execution_count": 85,
     "metadata": {},
     "output_type": "execute_result"
    }
   ],
   "source": [
    "# 创建向量 b\n",
    "b = tf.constant([1,2]) \n",
    "# 插入新维度，变成矩阵\n",
    "b = tf.expand_dims(b, axis=0) \n",
    "b"
   ]
  },
  {
   "cell_type": "code",
   "execution_count": 86,
   "metadata": {},
   "outputs": [
    {
     "data": {
      "text/plain": [
       "<tf.Tensor: shape=(2, 2), dtype=int32, numpy=\n",
       "array([[1, 2],\n",
       "       [1, 2]], dtype=int32)>"
      ]
     },
     "execution_count": 86,
     "metadata": {},
     "output_type": "execute_result"
    }
   ],
   "source": [
    "# 样本维度上复制一份\n",
    "b = tf.tile(b, multiples=[2,1]) \n",
    "b"
   ]
  },
  {
   "cell_type": "code",
   "execution_count": 87,
   "metadata": {},
   "outputs": [
    {
     "data": {
      "text/plain": [
       "<tf.Tensor: shape=(2, 2), dtype=int32, numpy=\n",
       "array([[0, 1],\n",
       "       [2, 3]], dtype=int32)>"
      ]
     },
     "execution_count": 87,
     "metadata": {},
     "output_type": "execute_result"
    }
   ],
   "source": [
    "x = tf.range(4)\n",
    "# 创建 2 行 2 列矩阵\n",
    "x=tf.reshape(x,[2,2]) \n",
    "x"
   ]
  },
  {
   "cell_type": "code",
   "execution_count": 88,
   "metadata": {},
   "outputs": [
    {
     "data": {
      "text/plain": [
       "<tf.Tensor: shape=(2, 4), dtype=int32, numpy=\n",
       "array([[0, 1, 0, 1],\n",
       "       [2, 3, 2, 3]], dtype=int32)>"
      ]
     },
     "execution_count": 88,
     "metadata": {},
     "output_type": "execute_result"
    }
   ],
   "source": [
    "# 列维度复制一份\n",
    "x = tf.tile(x,multiples=[1,2]) \n",
    "x"
   ]
  },
  {
   "cell_type": "code",
   "execution_count": 89,
   "metadata": {
    "scrolled": true
   },
   "outputs": [
    {
     "data": {
      "text/plain": [
       "<tf.Tensor: shape=(4, 4), dtype=int32, numpy=\n",
       "array([[0, 1, 0, 1],\n",
       "       [2, 3, 2, 3],\n",
       "       [0, 1, 0, 1],\n",
       "       [2, 3, 2, 3]], dtype=int32)>"
      ]
     },
     "execution_count": 89,
     "metadata": {},
     "output_type": "execute_result"
    }
   ],
   "source": [
    "# 行维度复制一份\n",
    "x = tf.tile(x,multiples=[2,1]) \n",
    "x"
   ]
  },
  {
   "cell_type": "markdown",
   "metadata": {},
   "source": [
    "## Broadcasting"
   ]
  },
  {
   "cell_type": "code",
   "execution_count": 90,
   "metadata": {
    "scrolled": true
   },
   "outputs": [
    {
     "data": {
      "text/plain": [
       "<tf.Tensor: shape=(2, 32, 32, 3), dtype=float32, numpy=\n",
       "array([[[[-0.06224814, -0.06224814, -0.06224814],\n",
       "         [-0.60080034, -0.60080034, -0.60080034],\n",
       "         [ 0.3785028 ,  0.3785028 ,  0.3785028 ],\n",
       "         ...,\n",
       "         [ 1.2839965 ,  1.2839965 ,  1.2839965 ],\n",
       "         [ 0.20479114,  0.20479114,  0.20479114],\n",
       "         [-2.146369  , -2.146369  , -2.146369  ]],\n",
       "\n",
       "        [[-0.06224814, -0.06224814, -0.06224814],\n",
       "         [-0.60080034, -0.60080034, -0.60080034],\n",
       "         [ 0.3785028 ,  0.3785028 ,  0.3785028 ],\n",
       "         ...,\n",
       "         [ 1.2839965 ,  1.2839965 ,  1.2839965 ],\n",
       "         [ 0.20479114,  0.20479114,  0.20479114],\n",
       "         [-2.146369  , -2.146369  , -2.146369  ]],\n",
       "\n",
       "        [[-0.06224814, -0.06224814, -0.06224814],\n",
       "         [-0.60080034, -0.60080034, -0.60080034],\n",
       "         [ 0.3785028 ,  0.3785028 ,  0.3785028 ],\n",
       "         ...,\n",
       "         [ 1.2839965 ,  1.2839965 ,  1.2839965 ],\n",
       "         [ 0.20479114,  0.20479114,  0.20479114],\n",
       "         [-2.146369  , -2.146369  , -2.146369  ]],\n",
       "\n",
       "        ...,\n",
       "\n",
       "        [[-0.06224814, -0.06224814, -0.06224814],\n",
       "         [-0.60080034, -0.60080034, -0.60080034],\n",
       "         [ 0.3785028 ,  0.3785028 ,  0.3785028 ],\n",
       "         ...,\n",
       "         [ 1.2839965 ,  1.2839965 ,  1.2839965 ],\n",
       "         [ 0.20479114,  0.20479114,  0.20479114],\n",
       "         [-2.146369  , -2.146369  , -2.146369  ]],\n",
       "\n",
       "        [[-0.06224814, -0.06224814, -0.06224814],\n",
       "         [-0.60080034, -0.60080034, -0.60080034],\n",
       "         [ 0.3785028 ,  0.3785028 ,  0.3785028 ],\n",
       "         ...,\n",
       "         [ 1.2839965 ,  1.2839965 ,  1.2839965 ],\n",
       "         [ 0.20479114,  0.20479114,  0.20479114],\n",
       "         [-2.146369  , -2.146369  , -2.146369  ]],\n",
       "\n",
       "        [[-0.06224814, -0.06224814, -0.06224814],\n",
       "         [-0.60080034, -0.60080034, -0.60080034],\n",
       "         [ 0.3785028 ,  0.3785028 ,  0.3785028 ],\n",
       "         ...,\n",
       "         [ 1.2839965 ,  1.2839965 ,  1.2839965 ],\n",
       "         [ 0.20479114,  0.20479114,  0.20479114],\n",
       "         [-2.146369  , -2.146369  , -2.146369  ]]],\n",
       "\n",
       "\n",
       "       [[[-0.06224814, -0.06224814, -0.06224814],\n",
       "         [-0.60080034, -0.60080034, -0.60080034],\n",
       "         [ 0.3785028 ,  0.3785028 ,  0.3785028 ],\n",
       "         ...,\n",
       "         [ 1.2839965 ,  1.2839965 ,  1.2839965 ],\n",
       "         [ 0.20479114,  0.20479114,  0.20479114],\n",
       "         [-2.146369  , -2.146369  , -2.146369  ]],\n",
       "\n",
       "        [[-0.06224814, -0.06224814, -0.06224814],\n",
       "         [-0.60080034, -0.60080034, -0.60080034],\n",
       "         [ 0.3785028 ,  0.3785028 ,  0.3785028 ],\n",
       "         ...,\n",
       "         [ 1.2839965 ,  1.2839965 ,  1.2839965 ],\n",
       "         [ 0.20479114,  0.20479114,  0.20479114],\n",
       "         [-2.146369  , -2.146369  , -2.146369  ]],\n",
       "\n",
       "        [[-0.06224814, -0.06224814, -0.06224814],\n",
       "         [-0.60080034, -0.60080034, -0.60080034],\n",
       "         [ 0.3785028 ,  0.3785028 ,  0.3785028 ],\n",
       "         ...,\n",
       "         [ 1.2839965 ,  1.2839965 ,  1.2839965 ],\n",
       "         [ 0.20479114,  0.20479114,  0.20479114],\n",
       "         [-2.146369  , -2.146369  , -2.146369  ]],\n",
       "\n",
       "        ...,\n",
       "\n",
       "        [[-0.06224814, -0.06224814, -0.06224814],\n",
       "         [-0.60080034, -0.60080034, -0.60080034],\n",
       "         [ 0.3785028 ,  0.3785028 ,  0.3785028 ],\n",
       "         ...,\n",
       "         [ 1.2839965 ,  1.2839965 ,  1.2839965 ],\n",
       "         [ 0.20479114,  0.20479114,  0.20479114],\n",
       "         [-2.146369  , -2.146369  , -2.146369  ]],\n",
       "\n",
       "        [[-0.06224814, -0.06224814, -0.06224814],\n",
       "         [-0.60080034, -0.60080034, -0.60080034],\n",
       "         [ 0.3785028 ,  0.3785028 ,  0.3785028 ],\n",
       "         ...,\n",
       "         [ 1.2839965 ,  1.2839965 ,  1.2839965 ],\n",
       "         [ 0.20479114,  0.20479114,  0.20479114],\n",
       "         [-2.146369  , -2.146369  , -2.146369  ]],\n",
       "\n",
       "        [[-0.06224814, -0.06224814, -0.06224814],\n",
       "         [-0.60080034, -0.60080034, -0.60080034],\n",
       "         [ 0.3785028 ,  0.3785028 ,  0.3785028 ],\n",
       "         ...,\n",
       "         [ 1.2839965 ,  1.2839965 ,  1.2839965 ],\n",
       "         [ 0.20479114,  0.20479114,  0.20479114],\n",
       "         [-2.146369  , -2.146369  , -2.146369  ]]]], dtype=float32)>"
      ]
     },
     "execution_count": 90,
     "metadata": {},
     "output_type": "execute_result"
    }
   ],
   "source": [
    "# 创建矩阵\n",
    "A = tf.random.normal([32,1]) \n",
    "# 扩展为 4D 张量\n",
    "tf.broadcast_to(A, [2,32,32,3]) "
   ]
  },
  {
   "cell_type": "code",
   "execution_count": 91,
   "metadata": {},
   "outputs": [
    {
     "name": "stdout",
     "output_type": "stream",
     "text": [
      "Incompatible shapes: [32,2] vs. [2,32,32,4] [Op:BroadcastTo]\n"
     ]
    }
   ],
   "source": [
    "A = tf.random.normal([32,2])\n",
    "# 不符合 Broadcasting 条件\n",
    "try: \n",
    "    tf.broadcast_to(A, [2,32,32,4])\n",
    "except Exception as e:\n",
    "    print(e)"
   ]
  },
  {
   "cell_type": "markdown",
   "metadata": {},
   "source": [
    "## 数学运算\n",
    "\n",
    "### 加、减、乘、除运算"
   ]
  },
  {
   "cell_type": "code",
   "execution_count": 92,
   "metadata": {},
   "outputs": [
    {
     "data": {
      "text/plain": [
       "<tf.Tensor: shape=(5,), dtype=int32, numpy=array([0, 0, 1, 1, 2], dtype=int32)>"
      ]
     },
     "execution_count": 92,
     "metadata": {},
     "output_type": "execute_result"
    }
   ],
   "source": [
    "a = tf.range(5)\n",
    "b = tf.constant(2)\n",
    "# 整除运算\n",
    "a//b "
   ]
  },
  {
   "cell_type": "code",
   "execution_count": 93,
   "metadata": {},
   "outputs": [
    {
     "data": {
      "text/plain": [
       "<tf.Tensor: shape=(5,), dtype=int32, numpy=array([0, 1, 0, 1, 0], dtype=int32)>"
      ]
     },
     "execution_count": 93,
     "metadata": {},
     "output_type": "execute_result"
    }
   ],
   "source": [
    "# 余除运算\n",
    "a%b "
   ]
  },
  {
   "cell_type": "markdown",
   "metadata": {},
   "source": [
    "### 乘方运算"
   ]
  },
  {
   "cell_type": "code",
   "execution_count": 94,
   "metadata": {},
   "outputs": [
    {
     "data": {
      "text/plain": [
       "<tf.Tensor: shape=(4,), dtype=int32, numpy=array([ 0,  1,  8, 27], dtype=int32)>"
      ]
     },
     "execution_count": 94,
     "metadata": {},
     "output_type": "execute_result"
    }
   ],
   "source": [
    "x = tf.range(4)\n",
    "# 乘方运算\n",
    "tf.pow(x,3) "
   ]
  },
  {
   "cell_type": "code",
   "execution_count": 95,
   "metadata": {},
   "outputs": [
    {
     "data": {
      "text/plain": [
       "<tf.Tensor: shape=(4,), dtype=int32, numpy=array([0, 1, 4, 9], dtype=int32)>"
      ]
     },
     "execution_count": 95,
     "metadata": {},
     "output_type": "execute_result"
    }
   ],
   "source": [
    "# 乘方运算符\n",
    "x**2 "
   ]
  },
  {
   "cell_type": "code",
   "execution_count": 96,
   "metadata": {},
   "outputs": [
    {
     "data": {
      "text/plain": [
       "<tf.Tensor: shape=(3,), dtype=float32, numpy=array([1., 2., 3.], dtype=float32)>"
      ]
     },
     "execution_count": 96,
     "metadata": {},
     "output_type": "execute_result"
    }
   ],
   "source": [
    "x=tf.constant([1.,4.,9.])\n",
    "# 平方根\n",
    "x**(0.5) "
   ]
  },
  {
   "cell_type": "code",
   "execution_count": 97,
   "metadata": {},
   "outputs": [],
   "source": [
    "x = tf.range(5)\n",
    "# 转换为浮点数\n",
    "x = tf.cast(x, dtype=tf.float32) \n",
    "# 平方\n",
    "x = tf.square(x) "
   ]
  },
  {
   "cell_type": "code",
   "execution_count": 98,
   "metadata": {},
   "outputs": [
    {
     "data": {
      "text/plain": [
       "<tf.Tensor: shape=(5,), dtype=float32, numpy=array([0., 1., 2., 3., 4.], dtype=float32)>"
      ]
     },
     "execution_count": 98,
     "metadata": {},
     "output_type": "execute_result"
    }
   ],
   "source": [
    "# 平方根\n",
    "tf.sqrt(x) "
   ]
  },
  {
   "cell_type": "markdown",
   "metadata": {},
   "source": [
    "### 指数和对数运算"
   ]
  },
  {
   "cell_type": "code",
   "execution_count": 99,
   "metadata": {},
   "outputs": [
    {
     "data": {
      "text/plain": [
       "<tf.Tensor: shape=(3,), dtype=float32, numpy=array([2., 4., 8.], dtype=float32)>"
      ]
     },
     "execution_count": 99,
     "metadata": {},
     "output_type": "execute_result"
    }
   ],
   "source": [
    "x = tf.constant([1.,2.,3.])\n",
    "# 指数运算\n",
    "2**x "
   ]
  },
  {
   "cell_type": "code",
   "execution_count": 100,
   "metadata": {},
   "outputs": [
    {
     "data": {
      "text/plain": [
       "<tf.Tensor: shape=(), dtype=float32, numpy=2.7182817>"
      ]
     },
     "execution_count": 100,
     "metadata": {},
     "output_type": "execute_result"
    }
   ],
   "source": [
    "# 自然指数运算\n",
    "tf.exp(1.)"
   ]
  },
  {
   "cell_type": "code",
   "execution_count": 101,
   "metadata": {},
   "outputs": [
    {
     "data": {
      "text/plain": [
       "<tf.Tensor: shape=(), dtype=float32, numpy=3.0>"
      ]
     },
     "execution_count": 101,
     "metadata": {},
     "output_type": "execute_result"
    }
   ],
   "source": [
    "x = tf.exp(3.)\n",
    "# 对数运算\n",
    "tf.math.log(x) "
   ]
  },
  {
   "cell_type": "code",
   "execution_count": 102,
   "metadata": {},
   "outputs": [
    {
     "data": {
      "text/plain": [
       "<tf.Tensor: shape=(2,), dtype=float32, numpy=array([1., 2.], dtype=float32)>"
      ]
     },
     "execution_count": 102,
     "metadata": {},
     "output_type": "execute_result"
    }
   ],
   "source": [
    "x = tf.constant([1.,2.])\n",
    "x = 10**x\n",
    "# 换底公式\n",
    "tf.math.log(x)/tf.math.log(10.) "
   ]
  },
  {
   "cell_type": "markdown",
   "metadata": {},
   "source": [
    "### 矩阵相乘运算"
   ]
  },
  {
   "cell_type": "code",
   "execution_count": 103,
   "metadata": {},
   "outputs": [
    {
     "data": {
      "text/plain": [
       "<tf.Tensor: shape=(4, 3, 28, 2), dtype=float32, numpy=\n",
       "array([[[[ 5.71998930e+00,  6.48220205e+00],\n",
       "         [ 4.75584507e-01, -6.12748146e+00],\n",
       "         [-5.37243700e+00, -1.12457619e+01],\n",
       "         [ 1.84064412e+00,  9.60878015e-01],\n",
       "         [-1.53321028e+00, -9.34617043e-01],\n",
       "         [-3.98475313e+00, -3.60359836e+00],\n",
       "         [ 3.62667155e+00, -4.38184381e-01],\n",
       "         [-6.81609058e+00,  3.67464972e+00],\n",
       "         [-1.09914398e+00, -5.24768353e+00],\n",
       "         [-1.39505625e+00,  2.81044936e+00],\n",
       "         [ 3.67741871e+00, -9.21693444e-01],\n",
       "         [ 6.12449455e+00, -6.60488319e+00],\n",
       "         [-2.61384106e+00,  1.19774055e+00],\n",
       "         [ 2.76607800e+00, -2.03477430e+00],\n",
       "         [ 7.28806973e-01,  8.06647658e-01],\n",
       "         [ 3.11863470e+00,  4.21914911e+00],\n",
       "         [-8.35541344e+00, -6.12610006e+00],\n",
       "         [-6.04003525e+00,  1.99585152e+00],\n",
       "         [ 4.65211678e+00,  2.31053233e+00],\n",
       "         [-3.13881850e+00,  3.05326080e+00],\n",
       "         [ 7.47612667e+00,  8.32626534e+00],\n",
       "         [-9.85281754e+00, -1.14507418e+01],\n",
       "         [ 5.36962128e+00,  6.04070950e+00],\n",
       "         [-7.87433243e+00, -9.97210884e+00],\n",
       "         [ 2.57339621e+00,  4.01918364e+00],\n",
       "         [-2.36592269e+00, -2.02633023e+00],\n",
       "         [ 4.33763123e+00,  1.34812088e+01],\n",
       "         [-4.00291538e+00,  2.27490878e+00]],\n",
       "\n",
       "        [[ 9.71824932e+00, -1.31576862e+01],\n",
       "         [ 3.89587951e+00,  4.28518009e+00],\n",
       "         [-5.22457123e-01, -3.15319300e+00],\n",
       "         [ 2.78933764e+00,  2.85982394e+00],\n",
       "         [ 5.76167822e+00,  3.38522100e+00],\n",
       "         [-5.86433554e+00,  1.80370760e+00],\n",
       "         [-3.06850290e+00, -3.61454892e+00],\n",
       "         [-7.79433608e-01,  1.07205558e+00],\n",
       "         [-1.52113080e-01, -1.38937473e-01],\n",
       "         [ 9.13436794e+00,  1.72984862e+00],\n",
       "         [-1.98216724e+00,  4.92181206e+00],\n",
       "         [-7.27469349e+00, -2.24987984e+00],\n",
       "         [-5.27549744e+00, -1.65376139e+00],\n",
       "         [-7.47421408e+00,  3.13745260e+00],\n",
       "         [ 4.78072596e+00,  5.42571163e+00],\n",
       "         [ 7.12886763e+00, -3.33335161e+00],\n",
       "         [-7.48061943e+00, -3.20530081e+00],\n",
       "         [-1.21715617e+00,  4.71168566e+00],\n",
       "         [-7.05046225e+00,  6.57149887e+00],\n",
       "         [ 8.78712893e-01,  5.71692324e+00],\n",
       "         [ 4.13820744e+00,  1.10088599e+00],\n",
       "         [-4.53879452e+00, -2.33126545e+00],\n",
       "         [-2.76826072e+00,  2.19813824e-01],\n",
       "         [-4.94251251e-02,  5.61076355e+00],\n",
       "         [ 8.47036600e-01, -9.50880527e-01],\n",
       "         [-1.38766861e+00, -8.43654156e+00],\n",
       "         [-6.83276653e+00, -1.11601334e+01],\n",
       "         [ 1.57576585e+00, -2.67948437e+00]],\n",
       "\n",
       "        [[ 2.13872313e-01,  1.19953346e+00],\n",
       "         [ 1.00731335e+01, -5.53777933e+00],\n",
       "         [-9.92680788e-01, -2.34654188e+00],\n",
       "         [ 1.91634309e+00, -6.06595850e+00],\n",
       "         [ 4.27173853e+00, -5.47547150e+00],\n",
       "         [-4.81836939e+00, -5.01352668e-01],\n",
       "         [-2.43254709e+00,  5.41608763e+00],\n",
       "         [ 2.28220463e+00, -5.38044834e+00],\n",
       "         [-1.59220695e+00, -1.27569795e+00],\n",
       "         [ 2.48264790e+00, -3.46668649e+00],\n",
       "         [-9.75366306e+00, -7.94880295e+00],\n",
       "         [-6.88938522e+00, -5.95004082e+00],\n",
       "         [-2.35953474e+00,  3.86951447e-01],\n",
       "         [-2.58718157e+00, -1.02395189e+00],\n",
       "         [ 4.69877005e-01, -1.08154125e+01],\n",
       "         [-2.12096167e+00, -7.65768003e+00],\n",
       "         [-8.19025230e+00, -5.74518585e+00],\n",
       "         [-8.34742844e-01, -9.40465736e+00],\n",
       "         [-2.59528828e+00, -6.12459326e+00],\n",
       "         [-1.99002516e+00, -7.97121286e+00],\n",
       "         [ 6.79893553e-01, -6.46076393e+00],\n",
       "         [ 6.75394487e+00,  7.50972152e-01],\n",
       "         [ 1.28864231e+01, -1.51646888e+00],\n",
       "         [ 3.84186244e+00, -2.62324286e+00],\n",
       "         [-1.49016786e+00, -2.02159643e-01],\n",
       "         [-1.17718840e+00,  1.35672998e+00],\n",
       "         [-3.16346169e-01,  2.07218242e+00],\n",
       "         [-1.25391841e+00,  1.72699499e+00]]],\n",
       "\n",
       "\n",
       "       [[[ 6.33021259e+00, -8.25187111e+00],\n",
       "         [-1.31739259e+00, -3.16255426e+00],\n",
       "         [ 2.81517053e+00,  2.59740186e+00],\n",
       "         [ 4.35719585e+00,  5.22630692e-01],\n",
       "         [-3.08759403e+00, -4.86731386e+00],\n",
       "         [ 1.00609159e+00,  9.52124119e+00],\n",
       "         [ 3.15812564e+00,  1.94486535e+00],\n",
       "         [-8.53208065e-01, -1.11725731e+01],\n",
       "         [-2.52937961e+00,  2.84013605e+00],\n",
       "         [-2.62052059e+00,  1.10406995e-01],\n",
       "         [-1.85031891e-02,  1.50256205e+00],\n",
       "         [-3.42152786e+00, -2.08977008e+00],\n",
       "         [ 3.25666213e+00, -2.78509665e+00],\n",
       "         [-7.00311470e+00, -4.84184837e+00],\n",
       "         [-2.05635500e+00, -4.55174923e+00],\n",
       "         [-2.48709130e+00, -7.64698029e-01],\n",
       "         [ 2.40448570e+00,  3.67727518e+00],\n",
       "         [-4.40710163e+00, -3.14736986e+00],\n",
       "         [ 4.81741333e+00,  2.31127405e+00],\n",
       "         [ 4.31175137e+00,  2.69708252e+00],\n",
       "         [ 3.37902713e+00, -3.62384391e+00],\n",
       "         [ 7.93215466e+00,  1.02549648e+00],\n",
       "         [ 4.76092100e-03,  6.52044773e+00],\n",
       "         [-1.43002796e+00,  9.18284988e+00],\n",
       "         [-5.19984436e+00,  6.24251747e+00],\n",
       "         [ 9.58118820e+00, -3.76440573e+00],\n",
       "         [ 8.99220228e-01,  8.00916195e-01],\n",
       "         [-8.75070953e+00,  1.10610800e+01]],\n",
       "\n",
       "        [[-1.74629247e+00,  1.09946394e+00],\n",
       "         [-3.56823683e-01,  1.44020009e+00],\n",
       "         [-4.64593363e+00,  2.99885750e+00],\n",
       "         [ 6.82654762e+00, -1.19728112e+00],\n",
       "         [-2.21192932e+00, -2.16649532e+00],\n",
       "         [-5.14484739e+00,  2.05710554e+00],\n",
       "         [-8.13165474e+00,  4.18810368e+00],\n",
       "         [-1.07309461e+00, -3.54876709e+00],\n",
       "         [-8.98008060e+00,  1.72748280e+00],\n",
       "         [-2.25589848e+00,  6.17119610e-01],\n",
       "         [-3.57118130e-01,  9.20849442e-01],\n",
       "         [ 1.62588298e-01,  1.74537718e+00],\n",
       "         [-3.03902328e-01, -1.79908895e+00],\n",
       "         [ 5.19997239e-01,  1.82215261e+00],\n",
       "         [ 6.50919104e+00,  5.02600241e+00],\n",
       "         [ 3.14443207e+00,  8.21573544e+00],\n",
       "         [ 1.93709612e-01, -7.67873883e-01],\n",
       "         [ 2.18870783e+00, -6.99208736e+00],\n",
       "         [-3.35994124e+00,  4.09689760e+00],\n",
       "         [ 4.17755175e+00, -1.68691015e+00],\n",
       "         [-6.60271549e+00, -2.86813760e+00],\n",
       "         [ 1.01205578e+01,  2.68433571e+00],\n",
       "         [-7.21738100e-01, -4.29393578e+00],\n",
       "         [ 8.70488167e+00, -2.76295924e+00],\n",
       "         [-3.28282213e+00, -8.15246582e-01],\n",
       "         [-7.48311162e-01, -5.97182894e+00],\n",
       "         [-5.50991058e-01, -3.12187123e+00],\n",
       "         [ 3.29532957e+00, -4.71542358e-01]],\n",
       "\n",
       "        [[-3.20247793e+00, -3.97173405e+00],\n",
       "         [ 1.56388211e+00, -6.77754688e+00],\n",
       "         [ 5.35544872e+00, -4.72083855e+00],\n",
       "         [ 1.24377060e+00,  6.44964981e+00],\n",
       "         [-2.99470997e+00, -2.66629219e+00],\n",
       "         [-6.36456156e+00,  7.28085613e+00],\n",
       "         [ 7.76670504e+00,  2.34805918e+00],\n",
       "         [ 1.76997113e+00,  6.58480501e+00],\n",
       "         [ 7.53231812e+00,  8.00083923e+00],\n",
       "         [-1.58174586e+00, -4.63277864e+00],\n",
       "         [ 5.92977667e+00,  1.52232113e+01],\n",
       "         [-7.76762903e-01, -1.15192575e+01],\n",
       "         [-4.87221146e+00,  8.04395676e-02],\n",
       "         [ 2.27045465e+00,  1.73665762e-01],\n",
       "         [-3.59059906e+00, -5.08620596e+00],\n",
       "         [-2.79126811e+00, -6.56196880e+00],\n",
       "         [ 2.76455283e+00,  6.87757635e+00],\n",
       "         [ 8.12210751e+00,  2.01544933e+01],\n",
       "         [ 3.16716146e+00,  5.93578672e+00],\n",
       "         [ 3.10666740e-01, -4.90042591e+00],\n",
       "         [-3.73088074e+00, -3.99980521e+00],\n",
       "         [-9.56488609e-01, -3.04385519e+00],\n",
       "         [-1.19756670e+01, -1.24112358e+01],\n",
       "         [ 1.81102300e+00,  5.85480642e+00],\n",
       "         [-3.65086508e+00, -1.05573521e+01],\n",
       "         [ 8.33917427e+00,  1.96841538e+00],\n",
       "         [-4.09789705e+00, -1.20663805e+01],\n",
       "         [-3.64582181e+00,  4.74753809e+00]]],\n",
       "\n",
       "\n",
       "       [[[-5.51252484e-01, -5.13597965e+00],\n",
       "         [ 2.78017807e+00, -5.34167290e+00],\n",
       "         [ 7.16328859e-01,  2.33995914e+00],\n",
       "         [ 2.60050988e+00,  2.63697338e+00],\n",
       "         [-1.25428905e+01, -2.56418538e+00],\n",
       "         [ 4.15319157e+00,  2.16395545e+00],\n",
       "         [ 7.81967926e+00, -3.71004343e-01],\n",
       "         [-6.59977484e+00, -3.24863601e+00],\n",
       "         [-1.81019664e-01,  7.41133022e+00],\n",
       "         [-4.66026306e+00, -9.57056808e+00],\n",
       "         [-2.60431504e+00,  8.67229271e+00],\n",
       "         [-4.28152561e+00, -1.28345442e+00],\n",
       "         [ 2.47835159e+00,  4.55954075e+00],\n",
       "         [-3.58222675e+00,  2.28702974e+00],\n",
       "         [-4.69663668e+00,  7.88188815e-01],\n",
       "         [ 4.96759653e-01, -4.70754814e+00],\n",
       "         [ 4.55622959e+00,  2.76712179e+00],\n",
       "         [ 6.97324657e+00,  5.21946430e+00],\n",
       "         [-6.27704144e+00,  3.93467665e-01],\n",
       "         [-1.14285030e+01,  5.75310707e+00],\n",
       "         [-4.59569120e+00,  6.75911546e-01],\n",
       "         [ 1.14703970e+01,  9.27652264e+00],\n",
       "         [ 3.05165958e+00, -3.58171844e+00],\n",
       "         [-5.87297201e+00, -7.05568314e-01],\n",
       "         [ 3.57283926e+00,  1.50719750e+00],\n",
       "         [ 1.32874465e+00, -4.23155451e+00],\n",
       "         [ 1.72923827e+00, -5.06909513e+00],\n",
       "         [ 4.23563766e+00,  8.10265541e+00]],\n",
       "\n",
       "        [[ 1.82466984e-01,  3.80248356e+00],\n",
       "         [-1.83256645e+01,  5.65366268e+00],\n",
       "         [-9.61890221e+00, -5.21549559e+00],\n",
       "         [ 1.11239624e+00, -7.93297863e+00],\n",
       "         [ 1.99524212e+00, -5.43934679e+00],\n",
       "         [-6.66082478e+00, -6.35858631e+00],\n",
       "         [-6.78197479e+00,  3.42183185e+00],\n",
       "         [-1.30418742e+00, -3.81196833e+00],\n",
       "         [-1.35340471e+01, -2.40315008e+00],\n",
       "         [-4.67836618e+00, -1.35279727e+00],\n",
       "         [ 9.11960220e+00,  8.75048065e+00],\n",
       "         [-7.51220322e+00, -8.16491127e+00],\n",
       "         [-1.16038170e+01,  4.91863060e+00],\n",
       "         [-1.11516752e+01,  1.32949877e+00],\n",
       "         [-5.57361245e-01, -2.28689051e+00],\n",
       "         [-1.42231846e+01, -3.38652420e+00],\n",
       "         [ 4.24691200e+00,  1.14797449e+00],\n",
       "         [-5.19779778e+00, -2.24649501e+00],\n",
       "         [-1.75696313e+00, -6.39078140e+00],\n",
       "         [ 6.68429375e+00, -8.79582787e+00],\n",
       "         [ 6.66627789e+00,  8.56011295e+00],\n",
       "         [-6.13051128e+00, -2.40813065e+00],\n",
       "         [-3.86550045e+00, -1.13703527e+01],\n",
       "         [-3.70549440e-01,  4.76000786e+00],\n",
       "         [-2.63586974e+00,  5.98694086e+00],\n",
       "         [ 8.67313194e+00,  8.66444588e-01],\n",
       "         [-1.18323135e+01,  3.30085754e-01],\n",
       "         [ 5.75997066e+00,  4.02550459e-01]],\n",
       "\n",
       "        [[ 7.83854771e+00,  7.41057277e-01],\n",
       "         [-2.14902544e+00,  4.90914249e+00],\n",
       "         [ 3.73489189e+00,  1.86651158e+00],\n",
       "         [ 5.55904007e+00,  7.53846741e+00],\n",
       "         [-4.20645475e+00,  2.33932066e+00],\n",
       "         [-4.48596478e+00,  3.66697311e-01],\n",
       "         [ 1.52952528e+00, -1.90949440e-02],\n",
       "         [-1.37827313e+00, -3.01239109e+00],\n",
       "         [ 1.74159698e+01,  6.81435108e+00],\n",
       "         [-7.48820543e-01, -3.53076315e+00],\n",
       "         [ 6.15738058e+00,  4.51706314e+00],\n",
       "         [-1.13974476e+00, -2.85895610e+00],\n",
       "         [ 8.87814140e+00,  8.11754799e+00],\n",
       "         [ 8.98026705e-01, -3.92893243e+00],\n",
       "         [ 4.33385611e-01,  3.96961403e+00],\n",
       "         [ 9.42873955e-02,  9.61342049e+00],\n",
       "         [ 2.19401407e+00,  4.72421741e+00],\n",
       "         [ 4.08533382e+00, -5.31324148e+00],\n",
       "         [ 9.35995817e-01, -5.02041245e+00],\n",
       "         [ 5.27157784e-01,  2.94512463e+00],\n",
       "         [-3.81273007e+00, -5.28484631e+00],\n",
       "         [-5.10596371e+00,  1.28778696e+00],\n",
       "         [-7.64504671e-02,  8.05489445e+00],\n",
       "         [-1.07469654e+01, -4.41944408e+00],\n",
       "         [ 5.84660339e+00, -3.44079971e-01],\n",
       "         [ 3.37825775e-01,  1.40224476e+01],\n",
       "         [ 6.03220701e+00,  5.50663614e+00],\n",
       "         [ 7.37721324e-01, -1.09188213e+01]]],\n",
       "\n",
       "\n",
       "       [[[ 8.95556068e+00,  4.23913431e+00],\n",
       "         [-2.42171693e+00, -1.14872169e+01],\n",
       "         [-4.97635174e+00, -3.46379805e+00],\n",
       "         [ 6.91328335e+00, -5.89132071e+00],\n",
       "         [-7.20738029e+00, -2.41712475e+00],\n",
       "         [-3.54360628e+00, -6.25763655e+00],\n",
       "         [ 9.87676382e-02,  2.30292606e+00],\n",
       "         [-4.05037117e+00,  6.81523466e+00],\n",
       "         [ 6.10303402e+00, -1.67704153e+00],\n",
       "         [ 1.28986835e-02,  2.67222142e+00],\n",
       "         [-4.73889589e-01, -2.53727007e+00],\n",
       "         [-6.32604074e+00, -8.89271927e+00],\n",
       "         [-6.49702549e+00,  1.02374191e+01],\n",
       "         [-2.40097237e+00, -3.75850868e+00],\n",
       "         [ 9.90047836e+00,  2.32557964e+00],\n",
       "         [-2.40033841e+00,  4.46791601e+00],\n",
       "         [-3.44708848e+00,  7.19599724e-01],\n",
       "         [-1.57326877e+00,  4.75059414e+00],\n",
       "         [ 6.93489552e+00,  9.23183537e+00],\n",
       "         [-2.59724116e+00,  1.13786402e+01],\n",
       "         [-5.46895504e+00, -1.53921151e+00],\n",
       "         [ 2.32201338e+00,  1.12615833e+01],\n",
       "         [ 1.00398502e+01, -6.34618855e+00],\n",
       "         [-1.15499854e+00, -9.80890083e+00],\n",
       "         [ 1.96304245e+01, -1.33162999e+00],\n",
       "         [ 9.28347969e+00, -1.99288106e+00],\n",
       "         [ 2.41770935e+00, -2.50430131e+00],\n",
       "         [ 2.80138063e+00,  1.53004169e+01]],\n",
       "\n",
       "        [[ 7.81191874e+00,  6.66914845e+00],\n",
       "         [ 2.82535553e-02,  2.96151590e+00],\n",
       "         [-1.02243376e+00,  5.59064007e+00],\n",
       "         [-1.50887275e+00, -4.63055468e+00],\n",
       "         [-2.06260681e+00,  2.58007383e+00],\n",
       "         [-1.14989042e+00,  6.44596148e+00],\n",
       "         [ 2.84047365e+00, -8.33967495e+00],\n",
       "         [ 6.02596521e+00,  4.79149199e+00],\n",
       "         [ 2.99382210e-02, -1.30911028e+00],\n",
       "         [ 2.16726971e+00,  3.51742983e+00],\n",
       "         [-7.17427254e+00, -1.07624435e+01],\n",
       "         [ 7.01905394e+00, -9.86913919e-01],\n",
       "         [ 5.60147953e+00,  3.09666586e+00],\n",
       "         [-9.71521664e+00, -6.31363153e+00],\n",
       "         [ 3.63856697e+00, -2.88606191e+00],\n",
       "         [ 7.12288427e+00, -4.97201681e-02],\n",
       "         [-7.96180153e+00,  8.41915369e-01],\n",
       "         [ 3.28905678e+00, -2.98387671e+00],\n",
       "         [-4.87472057e+00, -7.62625694e+00],\n",
       "         [ 3.72561026e+00, -2.77554131e+00],\n",
       "         [-5.23252010e-01,  4.10837269e+00],\n",
       "         [ 6.64331150e+00, -8.85946083e+00],\n",
       "         [ 2.13504791e-01,  6.91989326e+00],\n",
       "         [ 5.23567295e+00,  7.54649258e+00],\n",
       "         [ 5.33614492e+00, -1.15645752e+01],\n",
       "         [ 6.82511806e+00,  3.68265629e+00],\n",
       "         [ 1.65850239e+01,  2.96495938e+00],\n",
       "         [-1.32139530e+01, -9.65213776e-02]],\n",
       "\n",
       "        [[-2.85355449e+00,  5.87729645e+00],\n",
       "         [ 1.02139163e+00,  4.50006914e+00],\n",
       "         [ 1.38443077e+00,  4.09717512e+00],\n",
       "         [-4.27420378e+00,  1.36194801e+00],\n",
       "         [-3.40201092e+00, -2.83491158e+00],\n",
       "         [ 1.23092532e-01,  2.12106705e+00],\n",
       "         [-7.49949932e+00,  2.62698197e+00],\n",
       "         [-2.33594680e+00, -7.82491207e-01],\n",
       "         [-4.70439374e-01, -5.50709152e+00],\n",
       "         [ 3.46033740e+00, -1.41929913e+00],\n",
       "         [-2.25001812e+00,  1.65208244e+00],\n",
       "         [-2.28187823e+00,  3.19430947e+00],\n",
       "         [-5.77832031e+00, -4.33056641e+00],\n",
       "         [ 5.82537174e-01, -4.25815868e+00],\n",
       "         [-5.14062500e+00,  5.60052156e+00],\n",
       "         [-4.55794811e+00, -1.81706405e+00],\n",
       "         [ 1.99644172e+00, -1.95617628e+00],\n",
       "         [ 3.42572856e+00, -5.55410385e-01],\n",
       "         [-4.43385553e+00,  4.81725788e+00],\n",
       "         [-5.59437037e+00, -1.50782127e+01],\n",
       "         [ 4.88784313e+00, -3.55182791e+00],\n",
       "         [-5.78057146e+00,  3.83012819e+00],\n",
       "         [-5.54640675e+00, -2.85861778e+00],\n",
       "         [ 1.00021815e+00,  8.68970156e-02],\n",
       "         [-3.37253141e+00,  2.33547783e+00],\n",
       "         [ 7.08397341e+00,  3.37909126e+00],\n",
       "         [-4.42181921e+00, -3.83593822e+00],\n",
       "         [-5.80789757e+00,  5.62583542e+00]]]], dtype=float32)>"
      ]
     },
     "execution_count": 103,
     "metadata": {},
     "output_type": "execute_result"
    }
   ],
   "source": [
    "a = tf.random.normal([4,3,28,32])\n",
    "b = tf.random.normal([4,3,32,2])\n",
    "# 批量形式的矩阵相乘\n",
    "a@b"
   ]
  },
  {
   "cell_type": "code",
   "execution_count": 104,
   "metadata": {
    "scrolled": true
   },
   "outputs": [
    {
     "data": {
      "text/plain": [
       "<tf.Tensor: shape=(4, 28, 16), dtype=float32, numpy=\n",
       "array([[[ -3.302886  ,   3.1574793 ,  -2.7511153 , ...,  -4.302979  ,\n",
       "          -4.604431  ,   9.056886  ],\n",
       "        [  7.6584344 ,  -2.0192387 ,   7.0526867 , ...,   8.337007  ,\n",
       "          -2.4729896 ,   7.6353593 ],\n",
       "        [ -5.0935903 ,   3.5819483 ,   4.8947163 , ..., -10.891275  ,\n",
       "          -2.3409328 ,   4.1232367 ],\n",
       "        ...,\n",
       "        [ -2.547977  ,  -3.9971883 ,   0.2812351 , ...,  -0.19059438,\n",
       "          10.165087  ,  -2.2000003 ],\n",
       "        [ -1.9234561 ,   2.962833  ,  -5.4042287 , ...,  -6.0402412 ,\n",
       "          -2.1287594 ,   3.9471495 ],\n",
       "        [ -6.889371  ,  -5.870675  ,  -0.75889206, ...,   4.9990234 ,\n",
       "           9.315519  ,   5.3922577 ]],\n",
       "\n",
       "       [[ -3.798947  ,   5.5465593 ,  -5.486051  , ...,  -3.7846231 ,\n",
       "           0.11364722,   1.9432386 ],\n",
       "        [ -1.2906779 ,  -2.317672  ,  -1.2957103 , ...,  -2.4512892 ,\n",
       "           1.7699788 ,   5.0503364 ],\n",
       "        [  5.5137234 ,   4.4656806 ,   4.0833    , ...,  -0.8003284 ,\n",
       "           4.088618  ,  -3.9970903 ],\n",
       "        ...,\n",
       "        [ 12.2557335 ,   9.864681  ,   5.901906  , ...,  -1.740834  ,\n",
       "           2.527773  ,   5.0251713 ],\n",
       "        [ -0.18396902,  -3.6503787 ,  -4.1552706 , ...,  -4.0728    ,\n",
       "           0.93270016,   3.289906  ],\n",
       "        [ -5.770734  ,  -7.0501313 ,  -6.0281987 , ...,  -4.155161  ,\n",
       "          -6.2061644 ,  -5.6446133 ]],\n",
       "\n",
       "       [[ -9.39735   ,   1.2604415 ,  -4.35841   , ...,  -4.910758  ,\n",
       "          -2.1009498 ,   4.9194784 ],\n",
       "        [  6.655248  ,  -0.95831853,  -4.3097577 , ...,   9.662132  ,\n",
       "           0.07197112,   1.3760424 ],\n",
       "        [  0.18652838,  -4.648907  ,  -0.8435369 , ...,  -0.10124898,\n",
       "           9.400467  ,  -1.935991  ],\n",
       "        ...,\n",
       "        [ -2.39822   ,   5.635184  ,   5.9235964 , ...,  -5.8390813 ,\n",
       "          -8.453511  ,  -4.289031  ],\n",
       "        [ -6.3255234 ,   1.3184453 ,  -0.34854373, ...,  -9.786251  ,\n",
       "           1.5543721 ,  -4.5722    ],\n",
       "        [ -0.4367478 ,   4.0448523 ,  -2.8138597 , ...,  -5.1052103 ,\n",
       "           9.868428  ,  -0.8017545 ]],\n",
       "\n",
       "       [[  8.223277  ,  -0.5806636 ,   0.58642924, ...,  12.423456  ,\n",
       "           4.3955135 ,  -2.6744115 ],\n",
       "        [ -3.614152  ,   7.0033374 ,  -2.2346404 , ...,  -0.4008234 ,\n",
       "          -7.270478  ,   3.5953271 ],\n",
       "        [ -2.2518597 ,  -7.432327  ,   0.06087118, ...,   2.4693553 ,\n",
       "           2.2575567 ,  -4.9455886 ],\n",
       "        ...,\n",
       "        [ -4.5068345 ,  -0.8005469 ,  -0.3790361 , ...,   0.4328282 ,\n",
       "          -0.27050698,  -4.8626833 ],\n",
       "        [  2.1978605 ,   0.9254595 ,  -1.1980677 , ...,   5.156808  ,\n",
       "           2.9328244 ,  -6.511444  ],\n",
       "        [ -2.8843384 ,   7.687524  ,  -2.1183596 , ..., -11.090706  ,\n",
       "          -4.867482  ,   3.5886467 ]]], dtype=float32)>"
      ]
     },
     "execution_count": 104,
     "metadata": {},
     "output_type": "execute_result"
    }
   ],
   "source": [
    "a = tf.random.normal([4,28,32])\n",
    "b = tf.random.normal([32,16])\n",
    "# 先自动扩展，再矩阵相乘\n",
    "tf.matmul(a,b)"
   ]
  },
  {
   "cell_type": "markdown",
   "metadata": {},
   "source": [
    "## 前向传播实战"
   ]
  },
  {
   "cell_type": "code",
   "execution_count": 105,
   "metadata": {},
   "outputs": [],
   "source": [
    "import matplotlib.pyplot as plt\n",
    "import tensorflow as tf\n",
    "import tensorflow.keras.datasets as datasets\n",
    "\n",
    "plt.rcParams['font.size'] = 16\n",
    "plt.rcParams['font.family'] = ['STKaiti']\n",
    "plt.rcParams['axes.unicode_minus'] = False"
   ]
  },
  {
   "cell_type": "code",
   "execution_count": 106,
   "metadata": {},
   "outputs": [],
   "source": [
    "def load_data():\n",
    "    # 加载 MNIST 数据集\n",
    "    (x, y), (x_val, y_val) = datasets.mnist.load_data()\n",
    "    # 转换为浮点张量， 并缩放到-1~1\n",
    "    x = tf.convert_to_tensor(x, dtype=tf.float32) / 255.\n",
    "    # 转换为整形张量\n",
    "    y = tf.convert_to_tensor(y, dtype=tf.int32)\n",
    "    # one-hot 编码\n",
    "    y = tf.one_hot(y, depth=10)\n",
    "\n",
    "    # 改变视图， [b, 28, 28] => [b, 28*28]\n",
    "    x = tf.reshape(x, (-1, 28 * 28))\n",
    "\n",
    "    # 构建数据集对象\n",
    "    train_dataset = tf.data.Dataset.from_tensor_slices((x, y))\n",
    "    # 批量训练\n",
    "    train_dataset = train_dataset.batch(200)\n",
    "    return train_dataset"
   ]
  },
  {
   "cell_type": "code",
   "execution_count": 107,
   "metadata": {},
   "outputs": [],
   "source": [
    "def init_paramaters():\n",
    "    # 每层的张量都需要被优化，故使用 Variable 类型，并使用截断的正太分布初始化权值张量\n",
    "    # 偏置向量初始化为 0 即可\n",
    "    # 第一层的参数\n",
    "    w1 = tf.Variable(tf.random.truncated_normal([784, 256], stddev=0.1))\n",
    "    b1 = tf.Variable(tf.zeros([256]))\n",
    "    # 第二层的参数\n",
    "    w2 = tf.Variable(tf.random.truncated_normal([256, 128], stddev=0.1))\n",
    "    b2 = tf.Variable(tf.zeros([128]))\n",
    "    # 第三层的参数\n",
    "    w3 = tf.Variable(tf.random.truncated_normal([128, 10], stddev=0.1))\n",
    "    b3 = tf.Variable(tf.zeros([10]))\n",
    "    return w1, b1, w2, b2, w3, b3"
   ]
  },
  {
   "cell_type": "code",
   "execution_count": 108,
   "metadata": {},
   "outputs": [],
   "source": [
    "def train_epoch(epoch, train_dataset, w1, b1, w2, b2, w3, b3, lr=0.001):\n",
    "    for step, (x, y) in enumerate(train_dataset):\n",
    "        with tf.GradientTape() as tape:\n",
    "            # 第一层计算， [b, 784]@[784, 256] + [256] => [b, 256] + [256] => [b,256] + [b, 256]\n",
    "            h1 = x @ w1 + tf.broadcast_to(b1, (x.shape[0], 256))\n",
    "            h1 = tf.nn.relu(h1)  # 通过激活函数\n",
    "\n",
    "            # 第二层计算， [b, 256] => [b, 128]\n",
    "            h2 = h1 @ w2 + b2\n",
    "            h2 = tf.nn.relu(h2)\n",
    "            # 输出层计算， [b, 128] => [b, 10]\n",
    "            out = h2 @ w3 + b3\n",
    "\n",
    "            # 计算网络输出与标签之间的均方差， mse = mean(sum(y-out)^2)\n",
    "            # [b, 10]\n",
    "            loss = tf.square(y - out)\n",
    "            # 误差标量， mean: scalar\n",
    "            loss = tf.reduce_mean(loss)\n",
    "\n",
    "            # 自动梯度，需要求梯度的张量有[w1, b1, w2, b2, w3, b3]\n",
    "            grads = tape.gradient(loss, [w1, b1, w2, b2, w3, b3])\n",
    "\n",
    "        # 梯度更新， assign_sub 将当前值减去参数值，原地更新\n",
    "        w1.assign_sub(lr * grads[0])\n",
    "        b1.assign_sub(lr * grads[1])\n",
    "        w2.assign_sub(lr * grads[2])\n",
    "        b2.assign_sub(lr * grads[3])\n",
    "        w3.assign_sub(lr * grads[4])\n",
    "        b3.assign_sub(lr * grads[5])    \n",
    "    \n",
    "    return loss.numpy()"
   ]
  },
  {
   "cell_type": "code",
   "execution_count": 109,
   "metadata": {},
   "outputs": [],
   "source": [
    "def train(epochs):\n",
    "    losses = []\n",
    "    train_dataset = load_data()\n",
    "    w1, b1, w2, b2, w3, b3 = init_paramaters()\n",
    "    for epoch in range(epochs):\n",
    "        loss = train_epoch(epoch, train_dataset, w1, b1, w2, b2, w3, b3, lr=0.001)\n",
    "        print('epoch:', epoch, 'loss:', loss)\n",
    "        losses.append(loss)\n",
    "\n",
    "    x = [i for i in range(0, epochs)]\n",
    "    # 绘制曲线\n",
    "    plt.plot(x, losses, color='blue', marker='s', label='训练')\n",
    "    plt.xlabel('Epoch')\n",
    "    plt.ylabel('MSE')\n",
    "    plt.legend()\n",
    "    plt.show()"
   ]
  },
  {
   "cell_type": "code",
   "execution_count": 110,
   "metadata": {},
   "outputs": [
    {
     "name": "stdout",
     "output_type": "stream",
     "text": [
      "epoch: 0 loss: 0.15399887\n",
      "epoch: 1 loss: 0.13652591\n",
      "epoch: 2 loss: 0.12436019\n",
      "epoch: 3 loss: 0.11534375\n",
      "epoch: 4 loss: 0.10834633\n",
      "epoch: 5 loss: 0.10267091\n",
      "epoch: 6 loss: 0.09796231\n",
      "epoch: 7 loss: 0.0940004\n",
      "epoch: 8 loss: 0.090598635\n",
      "epoch: 9 loss: 0.08763457\n",
      "epoch: 10 loss: 0.08500261\n",
      "epoch: 11 loss: 0.08265902\n",
      "epoch: 12 loss: 0.080573335\n",
      "epoch: 13 loss: 0.07869252\n",
      "epoch: 14 loss: 0.07697424\n",
      "epoch: 15 loss: 0.075380534\n",
      "epoch: 16 loss: 0.0739163\n",
      "epoch: 17 loss: 0.07256377\n",
      "epoch: 18 loss: 0.07130639\n"
     ]
    },
    {
     "name": "stderr",
     "output_type": "stream",
     "text": [
      "findfont: Font family ['STKaiti'] not found. Falling back to DejaVu Sans.\n"
     ]
    },
    {
     "name": "stdout",
     "output_type": "stream",
     "text": [
      "epoch: 19 loss: 0.07013183\n"
     ]
    },
    {
     "name": "stderr",
     "output_type": "stream",
     "text": [
      "/Users/oswin/TF/venv/lib/python3.8/site-packages/matplotlib/backends/backend_agg.py:214: RuntimeWarning: Glyph 35757 missing from current font.\n",
      "  font.set_text(s, 0.0, flags=flags)\n",
      "/Users/oswin/TF/venv/lib/python3.8/site-packages/matplotlib/backends/backend_agg.py:214: RuntimeWarning: Glyph 32451 missing from current font.\n",
      "  font.set_text(s, 0.0, flags=flags)\n",
      "/Users/oswin/TF/venv/lib/python3.8/site-packages/matplotlib/backends/backend_agg.py:183: RuntimeWarning: Glyph 35757 missing from current font.\n",
      "  font.set_text(s, 0, flags=flags)\n",
      "/Users/oswin/TF/venv/lib/python3.8/site-packages/matplotlib/backends/backend_agg.py:183: RuntimeWarning: Glyph 32451 missing from current font.\n",
      "  font.set_text(s, 0, flags=flags)\n"
     ]
    },
    {
     "data": {
      "image/png": "[encoded data removed]",
      "text/plain": [
       "<Figure size 432x288 with 1 Axes>"
      ]
     },
     "metadata": {
      "needs_background": "light"
     },
     "output_type": "display_data"
    }
   ],
   "source": [
    "train(epochs=20)"
   ]
  },
  {
   "cell_type": "code",
   "execution_count": null,
   "metadata": {},
   "outputs": [],
   "source": []
  }
 ],
 "metadata": {
  "kernelspec": {
   "display_name": "Python 3",
   "language": "python",
   "name": "python3"
  },
  "language_info": {
   "codemirror_mode": {
    "name": "ipython",
    "version": 3
   },
   "file_extension": ".py",
   "mimetype": "text/x-python",
   "name": "python",
   "nbconvert_exporter": "python",
   "pygments_lexer": "ipython3",
   "version": "3.8.2"
  },
  "toc": {
   "base_numbering": 1,
   "nav_menu": {},
   "number_sections": true,
   "sideBar": true,
   "skip_h1_title": false,
   "title_cell": "Table of Contents",
   "title_sidebar": "Contents",
   "toc_cell": false,
   "toc_position": {
    "height": "calc(100% - 180px)",
    "left": "10px",
    "top": "150px",
    "width": "273.188px"
   },
   "toc_section_display": true,
   "toc_window_display": true
  }
 },
 "nbformat": 4,
 "nbformat_minor": 1
}
