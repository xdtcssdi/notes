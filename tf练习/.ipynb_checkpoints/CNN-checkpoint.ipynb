{
 "cells": [
  {
   "cell_type": "code",
   "execution_count": 1,
   "metadata": {},
   "outputs": [],
   "source": [
    "from tensorflow.keras.datasets import mnist\n",
    "import tensorflow as tf\n",
    "import numpy as np\n",
    "import os\n",
    "os.environ[\"TF_CPP_MIN_LOG_LEVEL\"] = \"2\""
   ]
  },
  {
   "cell_type": "code",
   "execution_count": 2,
   "metadata": {},
   "outputs": [],
   "source": [
    "X_train = tf.placeholder(tf.float32, shape=[None, 28, 28, 1]) #输入\n",
    "Y_train = tf.placeholder(tf.float32, shape=[None, 10])"
   ]
  },
  {
   "cell_type": "code",
   "execution_count": 3,
   "metadata": {},
   "outputs": [],
   "source": [
    "Weight1 = tf.get_variable(\"Weight1\", [5, 5, 1, 6] ,initializer = tf.truncated_normal_initializer(stddev=0.1))\n",
    "bias1 = tf.get_variable('bias1',[1,1,1,6], initializer = tf.truncated_normal_initializer(0.0))\n",
    "con1 = tf.nn.relu(tf.nn.conv2d(\n",
    "    X_train,\n",
    "    filters=Weight1,  # [filter_height, filter_weight, in_channel, out_channels ]\n",
    "    strides=[1, 1, 1, 1],  #  [1, strides, strides, 1]\n",
    "    padding='VALID',\n",
    "    name='Conv1',\n",
    ") + bias1)\n",
    "\n",
    "pool1 = tf.nn.max_pool2d(\n",
    "    con1,\n",
    "    ksize=2,\n",
    "    strides=2,\n",
    "    padding='VALID',\n",
    "    name='max_pooling1'\n",
    ")"
   ]
  },
  {
   "cell_type": "code",
   "execution_count": 4,
   "metadata": {},
   "outputs": [],
   "source": [
    "Weight2 = tf.get_variable(\"Weight2\", [5, 5, 6, 16] ,initializer = tf.truncated_normal_initializer(stddev=0.1))\n",
    "bias2 = tf.get_variable('bias2',[1,1,1,16], initializer = tf.truncated_normal_initializer(0.0))\n",
    "con2 = tf.nn.relu(tf.nn.conv2d(\n",
    "    pool1,\n",
    "    filters=Weight2,  # [filter_height, filter_weight, in_channel, out_channels ]\n",
    "    strides=[1, 1, 1, 1],  #  [1, strides, strides, 1]\n",
    "    padding='VALID',\n",
    "    name='Conv2'\n",
    ") + bias2)\n",
    "\n",
    "pool2 = tf.nn.max_pool2d(\n",
    "    con2,\n",
    "    ksize=2,\n",
    "    strides=2,\n",
    "    padding='VALID',\n",
    "    name='max_pooling2'\n",
    ")"
   ]
  },
  {
   "cell_type": "code",
   "execution_count": 5,
   "metadata": {},
   "outputs": [
    {
     "name": "stdout",
     "output_type": "stream",
     "text": [
      "WARNING:tensorflow:From <ipython-input-5-7a609c156a95>:4: flatten (from tensorflow.python.layers.core) is deprecated and will be removed in a future version.\n",
      "Instructions for updating:\n",
      "Use keras.layers.flatten instead.\n",
      "WARNING:tensorflow:Entity <bound method Flatten.call of <tensorflow.python.layers.core.Flatten object at 0xb437d0780>> could not be transformed and will be executed as-is. Please report this to the AutgoGraph team. When filing the bug, set the verbosity to 10 (on Linux, `export AUTOGRAPH_VERBOSITY=10`) and attach the full output. Cause: converting <bound method Flatten.call of <tensorflow.python.layers.core.Flatten object at 0xb437d0780>>: AttributeError: module 'gast' has no attribute 'Num'\n",
      "WARNING: Entity <bound method Flatten.call of <tensorflow.python.layers.core.Flatten object at 0xb437d0780>> could not be transformed and will be executed as-is. Please report this to the AutgoGraph team. When filing the bug, set the verbosity to 10 (on Linux, `export AUTOGRAPH_VERBOSITY=10`) and attach the full output. Cause: converting <bound method Flatten.call of <tensorflow.python.layers.core.Flatten object at 0xb437d0780>>: AttributeError: module 'gast' has no attribute 'Num'\n",
      "WARNING:tensorflow:From <ipython-input-5-7a609c156a95>:11: dense (from tensorflow.python.layers.core) is deprecated and will be removed in a future version.\n",
      "Instructions for updating:\n",
      "Use keras.layers.dense instead.\n",
      "WARNING:tensorflow:From /Users/oswin/anaconda3/lib/python3.7/site-packages/tensorflow/python/ops/init_ops.py:1251: calling VarianceScaling.__init__ (from tensorflow.python.ops.init_ops) with dtype is deprecated and will be removed in a future version.\n",
      "Instructions for updating:\n",
      "Call initializer instance with the dtype argument instead of passing it to the constructor\n",
      "WARNING:tensorflow:Entity <bound method Dense.call of <tensorflow.python.layers.core.Dense object at 0xb42de0588>> could not be transformed and will be executed as-is. Please report this to the AutgoGraph team. When filing the bug, set the verbosity to 10 (on Linux, `export AUTOGRAPH_VERBOSITY=10`) and attach the full output. Cause: converting <bound method Dense.call of <tensorflow.python.layers.core.Dense object at 0xb42de0588>>: AssertionError: Bad argument number for Name: 3, expecting 4\n",
      "WARNING: Entity <bound method Dense.call of <tensorflow.python.layers.core.Dense object at 0xb42de0588>> could not be transformed and will be executed as-is. Please report this to the AutgoGraph team. When filing the bug, set the verbosity to 10 (on Linux, `export AUTOGRAPH_VERBOSITY=10`) and attach the full output. Cause: converting <bound method Dense.call of <tensorflow.python.layers.core.Dense object at 0xb42de0588>>: AssertionError: Bad argument number for Name: 3, expecting 4\n",
      "WARNING:tensorflow:Entity <bound method Dense.call of <tensorflow.python.layers.core.Dense object at 0xb437bb748>> could not be transformed and will be executed as-is. Please report this to the AutgoGraph team. When filing the bug, set the verbosity to 10 (on Linux, `export AUTOGRAPH_VERBOSITY=10`) and attach the full output. Cause: converting <bound method Dense.call of <tensorflow.python.layers.core.Dense object at 0xb437bb748>>: AssertionError: Bad argument number for Name: 3, expecting 4\n",
      "WARNING: Entity <bound method Dense.call of <tensorflow.python.layers.core.Dense object at 0xb437bb748>> could not be transformed and will be executed as-is. Please report this to the AutgoGraph team. When filing the bug, set the verbosity to 10 (on Linux, `export AUTOGRAPH_VERBOSITY=10`) and attach the full output. Cause: converting <bound method Dense.call of <tensorflow.python.layers.core.Dense object at 0xb437bb748>>: AssertionError: Bad argument number for Name: 3, expecting 4\n",
      "WARNING:tensorflow:Entity <bound method Dense.call of <tensorflow.python.layers.core.Dense object at 0xb42de0588>> could not be transformed and will be executed as-is. Please report this to the AutgoGraph team. When filing the bug, set the verbosity to 10 (on Linux, `export AUTOGRAPH_VERBOSITY=10`) and attach the full output. Cause: converting <bound method Dense.call of <tensorflow.python.layers.core.Dense object at 0xb42de0588>>: AssertionError: Bad argument number for Name: 3, expecting 4\n",
      "WARNING: Entity <bound method Dense.call of <tensorflow.python.layers.core.Dense object at 0xb42de0588>> could not be transformed and will be executed as-is. Please report this to the AutgoGraph team. When filing the bug, set the verbosity to 10 (on Linux, `export AUTOGRAPH_VERBOSITY=10`) and attach the full output. Cause: converting <bound method Dense.call of <tensorflow.python.layers.core.Dense object at 0xb42de0588>>: AssertionError: Bad argument number for Name: 3, expecting 4\n"
     ]
    }
   ],
   "source": [
    "flat = tf.compat.v1.layers.flatten(\n",
    "    pool2,\n",
    "    name='Flatten',\n",
    "    data_format='channels_last'\n",
    ")\n",
    "\n",
    "f1 = tf.compat.v1.layers.dense(\n",
    "    flat,\n",
    "    units=120,\n",
    "    activation=tf.nn.relu,\n",
    "    name='Full1'\n",
    ")\n",
    "f2 = tf.compat.v1.layers.dense(\n",
    "    flat,\n",
    "    units=84,\n",
    "    activation=tf.nn.relu,\n",
    "    name='Full2'\n",
    ")\n",
    "f2 = tf.compat.v1.layers.dense(\n",
    "    flat,\n",
    "    units=10,\n",
    "    name='Softmax'\n",
    ")"
   ]
  },
  {
   "cell_type": "code",
   "execution_count": 6,
   "metadata": {},
   "outputs": [
    {
     "name": "stdout",
     "output_type": "stream",
     "text": [
      "WARNING:tensorflow:From /Users/oswin/anaconda3/lib/python3.7/site-packages/tensorflow/python/ops/losses/losses_impl.py:121: add_dispatch_support.<locals>.wrapper (from tensorflow.python.ops.array_ops) is deprecated and will be removed in a future version.\n",
      "Instructions for updating:\n",
      "Use tf.where in 2.0, which has the same broadcast rule as np.where\n"
     ]
    }
   ],
   "source": [
    "loss = tf.losses.softmax_cross_entropy(onehot_labels=Y_train, logits=f2)\n",
    "opt = tf.compat.v1.train.AdamOptimizer(0.001)\n",
    "accuracy = tf.metrics.accuracy(labels=tf.argmax(Y_train, axis=1), predictions=tf.argmax(f2, axis=1),)[1]\n",
    "train = opt.minimize(loss)"
   ]
  },
  {
   "cell_type": "code",
   "execution_count": 8,
   "metadata": {},
   "outputs": [],
   "source": [
    "def one_hot(labels, nb_classes=None):\n",
    "    classes = np.unique(labels)\n",
    "    if nb_classes is None:\n",
    "        nb_classes = classes.size\n",
    "    one_hot_labels = np.zeros((labels.shape[0], nb_classes))\n",
    "\n",
    "    for i, c in enumerate(classes):\n",
    "        one_hot_labels[labels == c, i] = 1.\n",
    "    return one_hot_labels"
   ]
  },
  {
   "cell_type": "code",
   "execution_count": 9,
   "metadata": {},
   "outputs": [
    {
     "name": "stdout",
     "output_type": "stream",
     "text": [
      "训练集数量60000\n",
      "测试集数量10000\n",
      "每个example的shape (60000, 28, 28, 1)\n",
      "每个label的shape (60000, 10)\n"
     ]
    }
   ],
   "source": [
    "(x_train, y_train), (x_test, y_test) = mnist.load_data()\n",
    "x_train = np.reshape(x_train, [x_train.shape[0],x_train.shape[1],x_train.shape[2],1])  / 255.\n",
    "y_train = one_hot(y_train,10)\n",
    "x_test = np.reshape(x_test, [x_test.shape[0],x_test.shape[1],x_test.shape[2],1]) / 255.\n",
    "y_test = one_hot(y_test,10)\n",
    "\n",
    "print('训练集数量%d'%x_train.shape[0])\n",
    "print('测试集数量%d'%x_test.shape[0])\n",
    "print('每个example的shape',x_train.shape[1:])\n",
    "print('每个label的shape',y_train.shape[1:])"
   ]
  },
  {
   "cell_type": "code",
   "execution_count": null,
   "metadata": {},
   "outputs": [
    {
     "name": "stdout",
     "output_type": "stream",
     "text": [
      "2.4317224\n"
     ]
    }
   ],
   "source": [
    "with tf.Session() as sess:\n",
    "    sess.run(tf.global_variables_initializer())\n",
    "    for step in range(1000):\n",
    "        sess.run(train, feed_dict={X_train:x_train, Y_train:y_train})\n",
    "        if step % 1 ==0:\n",
    "            print(sess.run([loss,accuracy], feed_dict={X_train:x_train,Y_train:y_train}))"
   ]
  },
  {
   "cell_type": "code",
   "execution_count": null,
   "metadata": {},
   "outputs": [],
   "source": []
  }
 ],
 "metadata": {
  "kernelspec": {
   "display_name": "Python 3.7.3 64-bit ('base': conda)",
   "language": "python",
   "name": "python37364bitbaseconda28b7fd3bb01c44d2858a971dc4475fcc"
  },
  "language_info": {
   "codemirror_mode": {
    "name": "ipython",
    "version": 3
   },
   "file_extension": ".py",
   "mimetype": "text/x-python",
   "name": "python",
   "nbconvert_exporter": "python",
   "pygments_lexer": "ipython3",
   "version": "3.7.3"
  }
 },
 "nbformat": 4,
 "nbformat_minor": 2
}
